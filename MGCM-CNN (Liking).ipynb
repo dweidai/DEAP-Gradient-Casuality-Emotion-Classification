{
 "cells": [
  {
   "cell_type": "code",
   "execution_count": 23,
   "metadata": {},
   "outputs": [],
   "source": [
    "from os import listdir\n",
    "from os.path import isfile, join\n",
    "from matplotlib import image\n",
    "from matplotlib import pyplot\n",
    "import numpy as np\n",
    "from PIL import Image\n",
    "import pandas as pd\n",
    "from sklearn.model_selection import train_test_split\n",
    "import numpy as np\n",
    "import matplotlib.pyplot as plt"
   ]
  },
  {
   "cell_type": "code",
   "execution_count": 24,
   "metadata": {},
   "outputs": [],
   "source": [
    "mypath = \"/Users/apple/Desktop/eeglab14_1_2b/Granger Casuality/img/\"\n",
    "onlyfiles = [f for f in listdir(mypath) if isfile(join(mypath, f))]\n",
    "onlyfiles.sort()"
   ]
  },
  {
   "cell_type": "code",
   "execution_count": 25,
   "metadata": {},
   "outputs": [
    {
     "name": "stdout",
     "output_type": "stream",
     "text": [
      "1280\n",
      "(32, 32, 4)\n"
     ]
    }
   ],
   "source": [
    "X = []\n",
    "for i in range(len(onlyfiles)):\n",
    "    data = Image.open(mypath + onlyfiles[i])\n",
    "    arr = np.array(data)\n",
    "    X.append(arr)\n",
    "print(len(X))\n",
    "print(X[1].shape)"
   ]
  },
  {
   "cell_type": "code",
   "execution_count": 26,
   "metadata": {},
   "outputs": [
    {
     "name": "stdout",
     "output_type": "stream",
     "text": [
      "1280\n"
     ]
    }
   ],
   "source": [
    "\n",
    "df = pd.read_csv('/Users/apple/Desktop/eeglab14_1_2b/participant_ratings.csv',\n",
    "                sep=r'\\s*,\\s*',engine = 'python', na_values = '?')\n",
    "df.dropna()\n",
    "Y_chart = pd.get_dummies(df, drop_first=True)\n",
    "Y = Y_chart['Liking'].tolist()\n",
    "print(len(Y))"
   ]
  },
  {
   "cell_type": "code",
   "execution_count": 27,
   "metadata": {},
   "outputs": [
    {
     "name": "stdout",
     "output_type": "stream",
     "text": [
      "1280\n"
     ]
    }
   ],
   "source": [
    "for i in range(len(Y)):\n",
    "    if Y[i] < 5:\n",
    "        Y[i] = 0\n",
    "    else:\n",
    "        Y[i] = 1\n",
    "print(len(Y))"
   ]
  },
  {
   "cell_type": "code",
   "execution_count": 28,
   "metadata": {},
   "outputs": [
    {
     "name": "stdout",
     "output_type": "stream",
     "text": [
      "(1240, 32, 32, 4)\n",
      "(1240,)\n",
      "(40, 32, 32, 4)\n",
      "(40,)\n"
     ]
    }
   ],
   "source": [
    "X_train, X_test, y_train, y_test = train_test_split(X, Y, test_size=(40/len(Y)))\n",
    "X_train = np.asarray(X_train)\n",
    "y_train = np.asarray(y_train)\n",
    "print(X_train.shape)\n",
    "print(y_train.shape)\n",
    "\n",
    "X_test = np.asarray(X_test)\n",
    "y_test = np.asarray(y_test)\n",
    "print(X_test.shape)\n",
    "print(y_test.shape)"
   ]
  },
  {
   "cell_type": "code",
   "execution_count": 29,
   "metadata": {},
   "outputs": [
    {
     "name": "stdout",
     "output_type": "stream",
     "text": [
      "Image dataset have shape = (1240, 32, 32, 4)\n",
      "Image dataset has min/mean/std/max = 1.00/139.58/79.39/255.00\n",
      "\n",
      "Train label has shape = (1240,)\n",
      "Training label has min/mean/std/max = 0.00/0.67/0.47/1.00\n"
     ]
    }
   ],
   "source": [
    "print('Image dataset have shape =', X_train.shape)\n",
    "print('Image dataset has min/mean/std/max = %.2f/%.2f/%.2f/%.2f'%(X_train.min(),\n",
    "                        X_train.mean(), X_train.std(), X_train.max()))\n",
    "print('')\n",
    "print('Train label has shape =', y_train.shape)\n",
    "print('Training label has min/mean/std/max = %.2f/%.2f/%.2f/%.2f'%(y_train.min(),\n",
    "                        y_train.mean(), y_train.std(), y_train.max()))"
   ]
  },
  {
   "cell_type": "code",
   "execution_count": 30,
   "metadata": {},
   "outputs": [
    {
     "name": "stdout",
     "output_type": "stream",
     "text": [
      "Image dataset have shape = (1240, 32, 32, 4)\n",
      "Image dataset has min/mean/std/max = 0.00/0.55/0.31/1.00\n",
      "\n",
      "Train label has shape = (1240,)\n",
      "Training label has min/mean/std/max = 0.00/0.67/0.47/1.00\n"
     ]
    }
   ],
   "source": [
    "def normalize_data(data): \n",
    "    data = data / data.max()\n",
    "    return data\n",
    "\n",
    "X_train = normalize_data(X_train)\n",
    "X_test = normalize_data(X_test)\n",
    "print('Image dataset have shape =', X_train.shape)\n",
    "print('Image dataset has min/mean/std/max = %.2f/%.2f/%.2f/%.2f'%(X_train.min(),\n",
    "                        X_train.mean(), X_train.std(), X_train.max()))\n",
    "print('')\n",
    "print('Train label has shape =', y_train.shape)\n",
    "print('Training label has min/mean/std/max = %.2f/%.2f/%.2f/%.2f'%(y_train.min(),\n",
    "                        y_train.mean(), y_train.std(), y_train.max()))"
   ]
  },
  {
   "cell_type": "code",
   "execution_count": 31,
   "metadata": {},
   "outputs": [],
   "source": [
    "import torch\n",
    "import torchvision\n",
    "import torchvision.transforms as transforms\n",
    "import torch.nn as nn\n",
    "import torch.nn.functional as F\n",
    "import torch.optim as optim\n",
    "import torch.utils.data as utils"
   ]
  },
  {
   "cell_type": "code",
   "execution_count": 32,
   "metadata": {},
   "outputs": [],
   "source": [
    "transform = transforms.Compose(\n",
    " [transforms.ToTensor(),\n",
    " transforms.Normalize((0.5, 0.5, 0.5), (0.5, 0.5, 0.5))])\n",
    "tensor_x = torch.stack([torch.Tensor(i) for i in X_train])\n",
    "tensor_y = torch.from_numpy(y_train)\n",
    "tensor_x_test = torch.stack([torch.Tensor(i) for i in X_test])\n",
    "tensor_y_test = torch.from_numpy(y_test)"
   ]
  },
  {
   "cell_type": "code",
   "execution_count": 33,
   "metadata": {},
   "outputs": [],
   "source": [
    "trainset = utils.TensorDataset(tensor_x,tensor_y)\n",
    "trainloader = utils.DataLoader(trainset,  batch_size= 40)\n",
    "testset = utils.TensorDataset(tensor_x_test,tensor_y_test)\n",
    "testloader = utils.DataLoader(testset,  batch_size=40)"
   ]
  },
  {
   "cell_type": "code",
   "execution_count": 34,
   "metadata": {},
   "outputs": [
    {
     "name": "stdout",
     "output_type": "stream",
     "text": [
      "cpu\n"
     ]
    }
   ],
   "source": [
    "device = torch.device(\"cpu\")\n",
    "classes = ('Positive', 'Negative')\n",
    "print(device)"
   ]
  },
  {
   "cell_type": "code",
   "execution_count": 35,
   "metadata": {},
   "outputs": [],
   "source": [
    "def imshow(img):\n",
    "    img = img / 2 + 0.5\n",
    "    npimg = img.numpy()\n",
    "    plt.imshow(np.transpose(npimg, (1, 2, 0)))\n",
    "    plt.show()"
   ]
  },
  {
   "cell_type": "code",
   "execution_count": 36,
   "metadata": {},
   "outputs": [
    {
     "name": "stdout",
     "output_type": "stream",
     "text": [
      "torch.Size([40, 32, 32, 4])\n",
      "torch.Size([40, 4, 32, 32])\n"
     ]
    },
    {
     "data": {
      "image/png": "[encoded data removed]",
      "text/plain": [
       "<Figure size 432x288 with 1 Axes>"
      ]
     },
     "metadata": {
      "needs_background": "light"
     },
     "output_type": "display_data"
    }
   ],
   "source": [
    "dataiter = iter(trainloader)\n",
    "images, labels = dataiter.next()\n",
    "print(images.size())\n",
    "images = images.permute(0, 3, 1, 2)\n",
    "print(images.size())\n",
    "%matplotlib inline\n",
    "rows = 1\n",
    "columns = 1\n",
    "fig=plt.figure()\n",
    "for i in range(1):\n",
    "    fig.add_subplot(rows, columns, i+1)\n",
    "    img = images[i]\n",
    "    img = torchvision.transforms.ToPILImage()(img)\n",
    "    plt.imshow(img)\n",
    "plt.show()"
   ]
  },
  {
   "cell_type": "markdown",
   "metadata": {},
   "source": [
    "num_classes = 2\n",
    "class Net(nn.Module):\n",
    "    def __init__(self):\n",
    "        super(Net, self).__init__()\n",
    "        self.conv1 = nn.Conv2d(4, 6, 3)\n",
    "        self.conv1_bn = nn.BatchNorm2d(20)\n",
    "        self.conv2 = nn.Conv2d(6, 16, 3)\n",
    "        self.conv2_bn = nn.BatchNorm2d(10)\n",
    "        \n",
    "        #spatial transformer localization\n",
    "        self.localization = nn.Sequential(\n",
    "            nn.Conv2d(4, 10, 3, padding = 1),\n",
    "            nn.MaxPool2d(2, 2),\n",
    "            nn.ReLU(True),\n",
    "            nn.Conv2d(10, 20, 3, padding=1),\n",
    "            nn.MaxPool2d(2,2),\n",
    "            nn.ReLU(True)\n",
    "            \n",
    "        ) \n",
    "        #add an regressor\n",
    "        self.classifier = nn.Sequential(\n",
    "            nn.Dropout(),\n",
    "            nn.Linear(16*6*6, 96),\n",
    "            nn.ReLU(inplace=True),\n",
    "            nn.Dropout(),\n",
    "            nn.Linear(96, 6),\n",
    "            nn.Dropout(),\n",
    "            nn.ReLU(inplace=True),\n",
    "            nn.Linear(6, num_classes),\n",
    "        )\n",
    "   \n",
    "    def forward(self, x):\n",
    "        #x = self.stn(x)\n",
    "        \n",
    "        x = F.max_pool2d(F.relu(self.conv1(x)), (2,2))\n",
    "        #x = F.dropout2d(x, p=0.5)\n",
    "        x = F.max_pool2d(F.relu(self.conv2(x)), 2)\n",
    "        x = x.view(-1, self.flat(x))\n",
    "        x = self.classifier(x)\n",
    "        return x\n",
    "    \n",
    "    def flat(self, x):\n",
    "        size = x.size()[1:]\n",
    "        num = 1\n",
    "        for s in size:\n",
    "            num *= s\n",
    "        return num\n",
    "    \n",
    "net = Net()\n",
    "net.to(device)"
   ]
  },
  {
   "cell_type": "code",
   "execution_count": 37,
   "metadata": {},
   "outputs": [
    {
     "data": {
      "text/plain": [
       "Net(\n",
       "  (conv1): Conv2d(4, 10, kernel_size=(3, 3), stride=(1, 1), padding=(1, 1))\n",
       "  (conv1_bn): BatchNorm2d(20, eps=1e-05, momentum=0.1, affine=True, track_running_stats=True)\n",
       "  (pool): MaxPool2d(kernel_size=2, stride=2, padding=0, dilation=1, ceil_mode=False)\n",
       "  (conv2): Conv2d(10, 20, kernel_size=(3, 3), stride=(1, 1), padding=(1, 1))\n",
       "  (conv2_bn): BatchNorm2d(10, eps=1e-05, momentum=0.1, affine=True, track_running_stats=True)\n",
       "  (classifier): Sequential(\n",
       "    (0): Dropout(p=0.5)\n",
       "    (1): Linear(in_features=1280, out_features=100, bias=True)\n",
       "    (2): ReLU(inplace)\n",
       "    (3): Dropout(p=0.5)\n",
       "    (4): Linear(in_features=100, out_features=2, bias=True)\n",
       "  )\n",
       ")"
      ]
     },
     "execution_count": 37,
     "metadata": {},
     "output_type": "execute_result"
    }
   ],
   "source": [
    "num_classes = 2\n",
    "class Net(nn.Module):\n",
    "    def __init__(self):\n",
    "        super(Net, self).__init__()\n",
    "        self.conv1 = nn.Conv2d(4, 10, 3, padding=1)\n",
    "        self.conv1_bn = nn.BatchNorm2d(20)\n",
    "        self.pool = nn.MaxPool2d(2, 2)\n",
    "        self.conv2 = nn.Conv2d(10, 20, 3, padding=1)\n",
    "        self.conv2_bn = nn.BatchNorm2d(10)\n",
    "        self.classifier = nn.Sequential(\n",
    "            nn.Dropout(),\n",
    "            nn.Linear(20*8*8, 100),\n",
    "            nn.ReLU(inplace=True),\n",
    "            nn.Dropout(),\n",
    "            nn.Linear(100, num_classes),\n",
    "        )\n",
    "\n",
    "    def forward(self, x):\n",
    "        x = self.pool(F.relu(self.conv1(x)))\n",
    "        x = self.pool(F.relu(self.conv2(x)))\n",
    "        x = x.view(-1, 20 * 8 * 8)\n",
    "        x = self.classifier(x)\n",
    "        return x\n",
    "    \n",
    "net = Net()\n",
    "net.to(device)"
   ]
  },
  {
   "cell_type": "code",
   "execution_count": null,
   "metadata": {},
   "outputs": [
    {
     "name": "stdout",
     "output_type": "stream",
     "text": [
      "[epoch: 0, i:    19] avg mini-batch loss: 0.939\n",
      "[epoch: 1, i:    19] avg mini-batch loss: 0.243\n",
      "[epoch: 2, i:    19] avg mini-batch loss: 0.183\n",
      "[epoch: 3, i:    19] avg mini-batch loss: 0.157\n",
      "[epoch: 4, i:    19] avg mini-batch loss: 0.140\n",
      "[epoch: 5, i:    19] avg mini-batch loss: 0.125\n",
      "[epoch: 6, i:    19] avg mini-batch loss: 0.114\n",
      "[epoch: 7, i:    19] avg mini-batch loss: 0.105\n",
      "[epoch: 8, i:    19] avg mini-batch loss: 0.098\n",
      "[epoch: 9, i:    19] avg mini-batch loss: 0.091\n",
      "[epoch: 10, i:    19] avg mini-batch loss: 0.085\n",
      "[epoch: 11, i:    19] avg mini-batch loss: 0.080\n",
      "[epoch: 12, i:    19] avg mini-batch loss: 0.075\n",
      "[epoch: 13, i:    19] avg mini-batch loss: 0.071\n",
      "[epoch: 14, i:    19] avg mini-batch loss: 0.066\n",
      "[epoch: 15, i:    19] avg mini-batch loss: 0.063\n",
      "[epoch: 16, i:    19] avg mini-batch loss: 0.059\n",
      "[epoch: 17, i:    19] avg mini-batch loss: 0.056\n",
      "[epoch: 18, i:    19] avg mini-batch loss: 0.053\n",
      "[epoch: 19, i:    19] avg mini-batch loss: 0.051\n",
      "[epoch: 20, i:    19] avg mini-batch loss: 0.048\n",
      "[epoch: 21, i:    19] avg mini-batch loss: 0.045\n",
      "[epoch: 22, i:    19] avg mini-batch loss: 0.043\n",
      "[epoch: 23, i:    19] avg mini-batch loss: 0.041\n",
      "[epoch: 24, i:    19] avg mini-batch loss: 0.039\n",
      "[epoch: 25, i:    19] avg mini-batch loss: 0.038\n",
      "[epoch: 26, i:    19] avg mini-batch loss: 0.036\n",
      "[epoch: 27, i:    19] avg mini-batch loss: 0.034\n",
      "[epoch: 28, i:    19] avg mini-batch loss: 0.033\n",
      "[epoch: 29, i:    19] avg mini-batch loss: 0.032\n",
      "[epoch: 30, i:    19] avg mini-batch loss: 0.030\n",
      "[epoch: 31, i:    19] avg mini-batch loss: 0.029\n",
      "[epoch: 32, i:    19] avg mini-batch loss: 0.028\n",
      "[epoch: 33, i:    19] avg mini-batch loss: 0.027\n",
      "[epoch: 34, i:    19] avg mini-batch loss: 0.026\n",
      "[epoch: 35, i:    19] avg mini-batch loss: 0.025\n",
      "[epoch: 36, i:    19] avg mini-batch loss: 0.024\n",
      "[epoch: 37, i:    19] avg mini-batch loss: 0.023\n",
      "[epoch: 38, i:    19] avg mini-batch loss: 0.022\n",
      "[epoch: 39, i:    19] avg mini-batch loss: 0.021\n",
      "[epoch: 40, i:    19] avg mini-batch loss: 0.021\n",
      "[epoch: 41, i:    19] avg mini-batch loss: 0.020\n",
      "[epoch: 42, i:    19] avg mini-batch loss: 0.019\n",
      "[epoch: 43, i:    19] avg mini-batch loss: 0.019\n",
      "[epoch: 44, i:    19] avg mini-batch loss: 0.018\n",
      "[epoch: 45, i:    19] avg mini-batch loss: 0.018\n",
      "[epoch: 46, i:    19] avg mini-batch loss: 0.017\n",
      "[epoch: 47, i:    19] avg mini-batch loss: 0.017\n",
      "[epoch: 48, i:    19] avg mini-batch loss: 0.016\n",
      "[epoch: 49, i:    19] avg mini-batch loss: 0.016\n",
      "[epoch: 50, i:    19] avg mini-batch loss: 0.015\n",
      "[epoch: 51, i:    19] avg mini-batch loss: 0.015\n",
      "[epoch: 52, i:    19] avg mini-batch loss: 0.014\n",
      "[epoch: 53, i:    19] avg mini-batch loss: 0.014\n",
      "[epoch: 54, i:    19] avg mini-batch loss: 0.014\n",
      "[epoch: 55, i:    19] avg mini-batch loss: 0.013\n",
      "[epoch: 56, i:    19] avg mini-batch loss: 0.013\n",
      "[epoch: 57, i:    19] avg mini-batch loss: 0.013\n",
      "[epoch: 58, i:    19] avg mini-batch loss: 0.012\n",
      "[epoch: 59, i:    19] avg mini-batch loss: 0.012\n",
      "[epoch: 60, i:    19] avg mini-batch loss: 0.012\n",
      "[epoch: 61, i:    19] avg mini-batch loss: 0.011\n",
      "[epoch: 62, i:    19] avg mini-batch loss: 0.011\n",
      "[epoch: 63, i:    19] avg mini-batch loss: 0.011\n",
      "[epoch: 64, i:    19] avg mini-batch loss: 0.011\n",
      "[epoch: 65, i:    19] avg mini-batch loss: 0.010\n",
      "[epoch: 66, i:    19] avg mini-batch loss: 0.010\n",
      "[epoch: 67, i:    19] avg mini-batch loss: 0.010\n",
      "[epoch: 68, i:    19] avg mini-batch loss: 0.010\n",
      "[epoch: 69, i:    19] avg mini-batch loss: 0.009\n",
      "[epoch: 70, i:    19] avg mini-batch loss: 0.009\n",
      "[epoch: 71, i:    19] avg mini-batch loss: 0.009\n",
      "[epoch: 72, i:    19] avg mini-batch loss: 0.009\n",
      "[epoch: 73, i:    19] avg mini-batch loss: 0.009\n",
      "[epoch: 74, i:    19] avg mini-batch loss: 0.009\n",
      "[epoch: 75, i:    19] avg mini-batch loss: 0.008\n",
      "[epoch: 76, i:    19] avg mini-batch loss: 0.008\n",
      "[epoch: 77, i:    19] avg mini-batch loss: 0.008\n",
      "[epoch: 78, i:    19] avg mini-batch loss: 0.008\n",
      "[epoch: 79, i:    19] avg mini-batch loss: 0.008\n",
      "[epoch: 80, i:    19] avg mini-batch loss: 0.008\n",
      "[epoch: 81, i:    19] avg mini-batch loss: 0.007\n",
      "[epoch: 82, i:    19] avg mini-batch loss: 0.007\n",
      "[epoch: 83, i:    19] avg mini-batch loss: 0.007\n",
      "[epoch: 84, i:    19] avg mini-batch loss: 0.007\n",
      "[epoch: 85, i:    19] avg mini-batch loss: 0.007\n",
      "[epoch: 86, i:    19] avg mini-batch loss: 0.007\n",
      "[epoch: 87, i:    19] avg mini-batch loss: 0.007\n",
      "[epoch: 88, i:    19] avg mini-batch loss: 0.007\n",
      "[epoch: 89, i:    19] avg mini-batch loss: 0.006\n",
      "[epoch: 90, i:    19] avg mini-batch loss: 0.006\n",
      "[epoch: 91, i:    19] avg mini-batch loss: 0.006\n",
      "[epoch: 92, i:    19] avg mini-batch loss: 0.006\n",
      "[epoch: 93, i:    19] avg mini-batch loss: 0.006\n",
      "[epoch: 94, i:    19] avg mini-batch loss: 0.006\n",
      "[epoch: 95, i:    19] avg mini-batch loss: 0.006\n",
      "[epoch: 96, i:    19] avg mini-batch loss: 0.006\n",
      "[epoch: 97, i:    19] avg mini-batch loss: 0.006\n",
      "[epoch: 98, i:    19] avg mini-batch loss: 0.006\n",
      "[epoch: 99, i:    19] avg mini-batch loss: 0.005\n",
      "[epoch: 100, i:    19] avg mini-batch loss: 0.005\n",
      "[epoch: 101, i:    19] avg mini-batch loss: 0.005\n",
      "[epoch: 102, i:    19] avg mini-batch loss: 0.005\n",
      "[epoch: 103, i:    19] avg mini-batch loss: 0.005\n",
      "[epoch: 104, i:    19] avg mini-batch loss: 0.005\n",
      "[epoch: 105, i:    19] avg mini-batch loss: 0.005\n",
      "[epoch: 106, i:    19] avg mini-batch loss: 0.005\n",
      "[epoch: 107, i:    19] avg mini-batch loss: 0.005\n",
      "[epoch: 108, i:    19] avg mini-batch loss: 0.005\n",
      "[epoch: 109, i:    19] avg mini-batch loss: 0.005\n",
      "[epoch: 110, i:    19] avg mini-batch loss: 0.005\n",
      "[epoch: 111, i:    19] avg mini-batch loss: 0.005\n",
      "[epoch: 112, i:    19] avg mini-batch loss: 0.005\n",
      "[epoch: 113, i:    19] avg mini-batch loss: 0.004\n",
      "[epoch: 114, i:    19] avg mini-batch loss: 0.004\n",
      "[epoch: 115, i:    19] avg mini-batch loss: 0.004\n",
      "[epoch: 116, i:    19] avg mini-batch loss: 0.004\n",
      "[epoch: 117, i:    19] avg mini-batch loss: 0.004\n",
      "[epoch: 118, i:    19] avg mini-batch loss: 0.004\n",
      "[epoch: 119, i:    19] avg mini-batch loss: 0.004\n",
      "[epoch: 120, i:    19] avg mini-batch loss: 0.004\n",
      "[epoch: 121, i:    19] avg mini-batch loss: 0.004\n",
      "[epoch: 122, i:    19] avg mini-batch loss: 0.004\n",
      "[epoch: 123, i:    19] avg mini-batch loss: 0.004\n",
      "[epoch: 124, i:    19] avg mini-batch loss: 0.004\n",
      "[epoch: 125, i:    19] avg mini-batch loss: 0.004\n",
      "[epoch: 126, i:    19] avg mini-batch loss: 0.004\n",
      "[epoch: 127, i:    19] avg mini-batch loss: 0.004\n",
      "[epoch: 128, i:    19] avg mini-batch loss: 0.004\n",
      "[epoch: 129, i:    19] avg mini-batch loss: 0.004\n",
      "[epoch: 130, i:    19] avg mini-batch loss: 0.004\n",
      "[epoch: 131, i:    19] avg mini-batch loss: 0.004\n",
      "[epoch: 132, i:    19] avg mini-batch loss: 0.004\n",
      "[epoch: 133, i:    19] avg mini-batch loss: 0.003\n",
      "[epoch: 134, i:    19] avg mini-batch loss: 0.003\n",
      "[epoch: 135, i:    19] avg mini-batch loss: 0.003\n",
      "[epoch: 136, i:    19] avg mini-batch loss: 0.003\n",
      "[epoch: 137, i:    19] avg mini-batch loss: 0.003\n",
      "[epoch: 138, i:    19] avg mini-batch loss: 0.003\n",
      "[epoch: 139, i:    19] avg mini-batch loss: 0.003\n",
      "[epoch: 140, i:    19] avg mini-batch loss: 0.003\n",
      "[epoch: 141, i:    19] avg mini-batch loss: 0.003\n",
      "[epoch: 142, i:    19] avg mini-batch loss: 0.003\n",
      "[epoch: 143, i:    19] avg mini-batch loss: 0.003\n",
      "[epoch: 144, i:    19] avg mini-batch loss: 0.003\n",
      "[epoch: 145, i:    19] avg mini-batch loss: 0.003\n",
      "[epoch: 146, i:    19] avg mini-batch loss: 0.003\n",
      "[epoch: 147, i:    19] avg mini-batch loss: 0.003\n",
      "[epoch: 148, i:    19] avg mini-batch loss: 0.003\n",
      "[epoch: 149, i:    19] avg mini-batch loss: 0.003\n",
      "[epoch: 150, i:    19] avg mini-batch loss: 0.003\n",
      "[epoch: 151, i:    19] avg mini-batch loss: 0.003\n",
      "[epoch: 152, i:    19] avg mini-batch loss: 0.003\n",
      "[epoch: 153, i:    19] avg mini-batch loss: 0.003\n",
      "[epoch: 154, i:    19] avg mini-batch loss: 0.003\n",
      "[epoch: 155, i:    19] avg mini-batch loss: 0.003\n",
      "[epoch: 156, i:    19] avg mini-batch loss: 0.003\n",
      "[epoch: 157, i:    19] avg mini-batch loss: 0.003\n",
      "[epoch: 158, i:    19] avg mini-batch loss: 0.003\n",
      "[epoch: 159, i:    19] avg mini-batch loss: 0.003\n",
      "[epoch: 160, i:    19] avg mini-batch loss: 0.003\n",
      "[epoch: 161, i:    19] avg mini-batch loss: 0.003\n",
      "[epoch: 162, i:    19] avg mini-batch loss: 0.003\n",
      "[epoch: 163, i:    19] avg mini-batch loss: 0.003\n",
      "[epoch: 164, i:    19] avg mini-batch loss: 0.003\n",
      "[epoch: 165, i:    19] avg mini-batch loss: 0.002\n",
      "[epoch: 166, i:    19] avg mini-batch loss: 0.002\n"
     ]
    },
    {
     "name": "stdout",
     "output_type": "stream",
     "text": [
      "[epoch: 167, i:    19] avg mini-batch loss: 0.002\n",
      "[epoch: 168, i:    19] avg mini-batch loss: 0.002\n",
      "[epoch: 169, i:    19] avg mini-batch loss: 0.002\n",
      "[epoch: 170, i:    19] avg mini-batch loss: 0.002\n",
      "[epoch: 171, i:    19] avg mini-batch loss: 0.002\n",
      "[epoch: 172, i:    19] avg mini-batch loss: 0.002\n",
      "[epoch: 173, i:    19] avg mini-batch loss: 0.002\n",
      "[epoch: 174, i:    19] avg mini-batch loss: 0.002\n",
      "[epoch: 175, i:    19] avg mini-batch loss: 0.002\n",
      "[epoch: 176, i:    19] avg mini-batch loss: 0.002\n",
      "[epoch: 177, i:    19] avg mini-batch loss: 0.002\n",
      "[epoch: 178, i:    19] avg mini-batch loss: 0.002\n",
      "[epoch: 179, i:    19] avg mini-batch loss: 0.002\n",
      "[epoch: 180, i:    19] avg mini-batch loss: 0.002\n",
      "[epoch: 181, i:    19] avg mini-batch loss: 0.002\n",
      "[epoch: 182, i:    19] avg mini-batch loss: 0.002\n",
      "[epoch: 183, i:    19] avg mini-batch loss: 0.002\n",
      "[epoch: 184, i:    19] avg mini-batch loss: 0.002\n",
      "[epoch: 185, i:    19] avg mini-batch loss: 0.002\n",
      "[epoch: 186, i:    19] avg mini-batch loss: 0.002\n",
      "[epoch: 187, i:    19] avg mini-batch loss: 0.002\n",
      "[epoch: 188, i:    19] avg mini-batch loss: 0.002\n",
      "[epoch: 189, i:    19] avg mini-batch loss: 0.002\n",
      "[epoch: 190, i:    19] avg mini-batch loss: 0.002\n",
      "[epoch: 191, i:    19] avg mini-batch loss: 0.002\n",
      "[epoch: 192, i:    19] avg mini-batch loss: 0.002\n",
      "[epoch: 193, i:    19] avg mini-batch loss: 0.002\n",
      "[epoch: 194, i:    19] avg mini-batch loss: 0.002\n",
      "[epoch: 195, i:    19] avg mini-batch loss: 0.002\n",
      "[epoch: 196, i:    19] avg mini-batch loss: 0.002\n",
      "[epoch: 197, i:    19] avg mini-batch loss: 0.002\n",
      "[epoch: 198, i:    19] avg mini-batch loss: 0.002\n",
      "[epoch: 199, i:    19] avg mini-batch loss: 0.002\n",
      "[epoch: 200, i:    19] avg mini-batch loss: 0.002\n",
      "[epoch: 201, i:    19] avg mini-batch loss: 0.002\n",
      "[epoch: 202, i:    19] avg mini-batch loss: 0.002\n",
      "[epoch: 203, i:    19] avg mini-batch loss: 0.002\n",
      "[epoch: 204, i:    19] avg mini-batch loss: 0.002\n",
      "[epoch: 205, i:    19] avg mini-batch loss: 0.002\n",
      "[epoch: 206, i:    19] avg mini-batch loss: 0.002\n",
      "[epoch: 207, i:    19] avg mini-batch loss: 0.002\n",
      "[epoch: 208, i:    19] avg mini-batch loss: 0.002\n",
      "[epoch: 209, i:    19] avg mini-batch loss: 0.002\n",
      "[epoch: 210, i:    19] avg mini-batch loss: 0.002\n",
      "[epoch: 211, i:    19] avg mini-batch loss: 0.002\n",
      "[epoch: 212, i:    19] avg mini-batch loss: 0.002\n",
      "[epoch: 213, i:    19] avg mini-batch loss: 0.002\n",
      "[epoch: 214, i:    19] avg mini-batch loss: 0.002\n",
      "[epoch: 215, i:    19] avg mini-batch loss: 0.002\n",
      "[epoch: 216, i:    19] avg mini-batch loss: 0.002\n"
     ]
    }
   ],
   "source": [
    "loss_func = nn.CrossEntropyLoss()\n",
    "#opt = torch.optim.Adam(net.parameters(), lr= 0.001)\n",
    "#opt = torch.optim.Adamax(net.parameters(), lr=0.01)\n",
    "#opt = optim.SGD(net.parameters(), lr=0.01, momentum=0.5)\n",
    "opt = torch.optim.Adagrad(net.parameters(), lr=0.01)\n",
    "#avg_losses = [] \n",
    "epochs = 500\n",
    "print_freq = 20\n",
    "for epoch in range(epochs):\n",
    "    running_loss = 0.0\n",
    "    for i, data in enumerate(trainloader, 0):\n",
    "        inputs, labels = data\n",
    "        inputs = inputs.permute(0, 3, 1, 2)\n",
    "        inputs, labels = inputs.to(device), labels.to(device)\n",
    "        opt.zero_grad()\n",
    "        outputs = net(inputs)\n",
    "        loss = loss_func(outputs, labels)\n",
    "        loss.backward()\n",
    "        opt.step()\n",
    "        running_loss += loss.item()\n",
    "        if i % print_freq == print_freq - 1:\n",
    "            avg_loss = running_loss / print_freq\n",
    "            print('[epoch: {}, i: {:5d}] avg mini-batch loss: {:.3f}'.format(epoch, i, avg_loss))\n",
    "            avg_losses.append(avg_loss)\n",
    "            running_loss = 0.0\n",
    "print('Finished Training.')"
   ]
  },
  {
   "cell_type": "code",
   "execution_count": 39,
   "metadata": {},
   "outputs": [
    {
     "data": {
      "image/png": "[encoded data removed]",
      "text/plain": [
       "<Figure size 432x288 with 1 Axes>"
      ]
     },
     "metadata": {
      "needs_background": "light"
     },
     "output_type": "display_data"
    }
   ],
   "source": [
    "plt.plot(avg_losses)\n",
    "plt.xlabel('mini-batch index / {}'.format(print_freq))\n",
    "plt.ylabel('avg. mini-batch loss')\n",
    "plt.show()"
   ]
  },
  {
   "cell_type": "code",
   "execution_count": 40,
   "metadata": {},
   "outputs": [
    {
     "name": "stdout",
     "output_type": "stream",
     "text": [
      "40\n",
      "Accuracy of the network on the 40 test images: 57 %\n",
      "Accuracy of Positive : 15 %\n",
      "Accuracy of Negative : 77 %\n"
     ]
    },
    {
     "name": "stderr",
     "output_type": "stream",
     "text": [
      "/anaconda3/lib/python3.6/site-packages/ipykernel_launcher.py:30: UserWarning: To copy construct from a tensor, it is recommended to use sourceTensor.clone().detach() or sourceTensor.clone().detach().requires_grad_(True), rather than torch.tensor(sourceTensor).\n"
     ]
    }
   ],
   "source": [
    "net.eval()\n",
    "correct = 0\n",
    "total = 0\n",
    "with torch.no_grad():\n",
    "    for data in testloader:\n",
    "        images, labels = data\n",
    "        images = images.permute(0, 3, 1, 2)\n",
    "        images = images.to(device)\n",
    "        labels = labels.to(device)\n",
    "        outputs = net(images)\n",
    "        _, predicted = torch.max(outputs.data, 1)\n",
    "        total += labels.size(0)\n",
    "        correct += (predicted == labels).sum().item()\n",
    "print(total)\n",
    "print('Accuracy of the network on the 40 test images: %d %%' % (100 * correct / total))\n",
    "# Get test accuracy for each class.\n",
    "class_correct = list(0. for i in range(10))\n",
    "class_total = list(0. for i in range(10))\n",
    "with torch.no_grad():\n",
    "    for data in testloader:\n",
    "        images, labels = data\n",
    "        images = images.permute(0, 3, 1, 2)\n",
    "        images, labels = images.to(device), labels.to(device)\n",
    "        outputs = net(images)\n",
    "        one = torch.tensor(1, dtype=torch.float, device=device)\n",
    "        _, predicted = torch.max(outputs, 1)\n",
    "        c = (predicted == labels).squeeze()\n",
    "        for i in range(40):\n",
    "            label = labels[i]\n",
    "            labels = torch.tensor(labels, dtype=torch.long, device=device)\n",
    "            class_correct[label] += c[i].item()\n",
    "            class_total[label] += 1\n",
    "for i in range(2):\n",
    "    print('Accuracy of %5s : %2d %%' % (classes[i], 100 * class_correct[i] / class_total[i]))"
   ]
  },
  {
   "cell_type": "code",
   "execution_count": 41,
   "metadata": {},
   "outputs": [
    {
     "name": "stdout",
     "output_type": "stream",
     "text": [
      "1240\n",
      "Accuracy of the network on the 1240 training images: 95 %\n"
     ]
    },
    {
     "name": "stderr",
     "output_type": "stream",
     "text": [
      "/anaconda3/lib/python3.6/site-packages/ipykernel_launcher.py:30: UserWarning: To copy construct from a tensor, it is recommended to use sourceTensor.clone().detach() or sourceTensor.clone().detach().requires_grad_(True), rather than torch.tensor(sourceTensor).\n"
     ]
    },
    {
     "name": "stdout",
     "output_type": "stream",
     "text": [
      "Accuracy of Positive : 90 %\n",
      "Accuracy of Negative : 98 %\n"
     ]
    }
   ],
   "source": [
    "net.eval()\n",
    "correct = 0\n",
    "total = 0\n",
    "with torch.no_grad():\n",
    "    for data in trainloader:\n",
    "        images, labels = data\n",
    "        images = images.permute(0, 3, 1, 2)\n",
    "        images = images.to(device)\n",
    "        labels = labels.to(device)\n",
    "        outputs = net(images)\n",
    "        _, predicted = torch.max(outputs.data, 1)\n",
    "        total += labels.size(0)\n",
    "        correct += (predicted == labels).sum().item()\n",
    "print(total)\n",
    "print('Accuracy of the network on the 1240 training images: %d %%' % (100 * correct / total))\n",
    "# Get test accuracy for each class.\n",
    "class_correct = list(0. for i in range(10))\n",
    "class_total = list(0. for i in range(10))\n",
    "with torch.no_grad():\n",
    "    for data in trainloader:\n",
    "        images, labels = data\n",
    "        images = images.permute(0, 3, 1, 2)\n",
    "        images, labels = images.to(device), labels.to(device)\n",
    "        outputs = net(images)\n",
    "        one = torch.tensor(1, dtype=torch.float, device=device)\n",
    "        _, predicted = torch.max(outputs, 1)\n",
    "        c = (predicted == labels).squeeze()\n",
    "        for i in range(40):\n",
    "            label = labels[i]\n",
    "            labels = torch.tensor(labels, dtype=torch.long, device=device)\n",
    "            class_correct[label] += c[i].item()\n",
    "            class_total[label] += 1\n",
    "for i in range(2):\n",
    "    print('Accuracy of %5s : %2d %%' % (classes[i], 100 * class_correct[i] / class_total[i]))"
   ]
  },
  {
   "cell_type": "code",
   "execution_count": null,
   "metadata": {},
   "outputs": [],
   "source": []
  }
 ],
 "metadata": {
  "kernelspec": {
   "display_name": "Python 3",
   "language": "python",
   "name": "python3"
  },
  "language_info": {
   "codemirror_mode": {
    "name": "ipython",
    "version": 3
   },
   "file_extension": ".py",
   "mimetype": "text/x-python",
   "name": "python",
   "nbconvert_exporter": "python",
   "pygments_lexer": "ipython3",
   "version": "3.6.8"
  }
 },
 "nbformat": 4,
 "nbformat_minor": 2
}
