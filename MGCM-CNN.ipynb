{
 "cells": [
  {
   "cell_type": "markdown",
   "metadata": {},
   "source": [
    "# For AROUSAL"
   ]
  },
  {
   "cell_type": "markdown",
   "metadata": {},
   "source": [
    "https://towardsdatascience.com/the-4-convolutional-neural-network-models-that-can-classify-your-fashion-images-9fe7f3e5399d"
   ]
  },
  {
   "cell_type": "code",
   "execution_count": 27,
   "metadata": {},
   "outputs": [],
   "source": [
    "from os import listdir\n",
    "from os.path import isfile, join\n",
    "mypath = \"/Users/apple/Desktop/eeglab14_1_2b/Granger Casuality/img/\"\n",
    "onlyfiles = [f for f in listdir(mypath) if isfile(join(mypath, f))]"
   ]
  },
  {
   "cell_type": "code",
   "execution_count": 28,
   "metadata": {},
   "outputs": [],
   "source": [
    "onlyfiles.sort()"
   ]
  },
  {
   "cell_type": "code",
   "execution_count": 29,
   "metadata": {},
   "outputs": [],
   "source": [
    "from matplotlib import image\n",
    "from matplotlib import pyplot\n",
    "import numpy as np\n",
    "from PIL import Image"
   ]
  },
  {
   "cell_type": "code",
   "execution_count": 30,
   "metadata": {},
   "outputs": [
    {
     "name": "stdout",
     "output_type": "stream",
     "text": [
      "1280\n",
      "(32, 32, 4)\n"
     ]
    }
   ],
   "source": [
    "X = []\n",
    "for i in range(len(onlyfiles)):\n",
    "    data = Image.open(mypath + onlyfiles[i])\n",
    "    arr = np.array(data)\n",
    "    #arr = arr[:,:,0:3]\n",
    "    #result = np.zeros((32,32))\n",
    "    #toadd = np.zeros((32,32,4))\n",
    "    #for k in range(arr.shape[2]-1):\n",
    "    #    result[:arr[:,:,k].shape[0],:arr[:,:,k].shape[1]] = arr[:,:,k] \n",
    "    #    toadd[:,:,k] = result\n",
    "    X.append(arr)\n",
    "print(len(X))\n",
    "print(X[1].shape)"
   ]
  },
  {
   "cell_type": "code",
   "execution_count": 31,
   "metadata": {},
   "outputs": [
    {
     "name": "stdout",
     "output_type": "stream",
     "text": [
      "1280\n"
     ]
    }
   ],
   "source": [
    "import pandas as pd\n",
    "df = pd.read_csv('/Users/apple/Desktop/eeglab14_1_2b/participant_ratings.csv',\n",
    "                sep=r'\\s*,\\s*',engine = 'python', na_values = '?')\n",
    "df.dropna()\n",
    "Y_chart = pd.get_dummies(df, drop_first=True)\n",
    "Y = Y_chart['Arousal'].tolist()\n",
    "print(len(Y))"
   ]
  },
  {
   "cell_type": "code",
   "execution_count": 32,
   "metadata": {},
   "outputs": [
    {
     "name": "stdout",
     "output_type": "stream",
     "text": [
      "1280\n"
     ]
    }
   ],
   "source": [
    "for i in range(len(Y)):\n",
    "    if Y[i] < 5:\n",
    "        Y[i] = 0\n",
    "    else:\n",
    "        Y[i] = 1\n",
    "print(len(Y))"
   ]
  },
  {
   "cell_type": "code",
   "execution_count": 33,
   "metadata": {},
   "outputs": [],
   "source": [
    "from sklearn.model_selection import train_test_split"
   ]
  },
  {
   "cell_type": "code",
   "execution_count": 34,
   "metadata": {},
   "outputs": [],
   "source": [
    "X_train, X_test, y_train, y_test = train_test_split(X, Y, test_size=(40/len(Y)))"
   ]
  },
  {
   "cell_type": "code",
   "execution_count": 35,
   "metadata": {},
   "outputs": [
    {
     "name": "stdout",
     "output_type": "stream",
     "text": [
      "(1240, 32, 32, 4)\n",
      "(1240,)\n",
      "(40, 32, 32, 4)\n",
      "(40,)\n"
     ]
    }
   ],
   "source": [
    "import numpy as np\n",
    "X_train = np.asarray(X_train)\n",
    "y_train = np.asarray(y_train)\n",
    "print(X_train.shape)\n",
    "print(y_train.shape)\n",
    "\n",
    "X_test = np.asarray(X_test)\n",
    "y_test = np.asarray(y_test)\n",
    "print(X_test.shape)\n",
    "print(y_test.shape)"
   ]
  },
  {
   "cell_type": "code",
   "execution_count": 36,
   "metadata": {},
   "outputs": [
    {
     "name": "stdout",
     "output_type": "stream",
     "text": [
      "Image dataset have shape = (1240, 32, 32, 4)\n",
      "Image dataset has min/mean/std/max = 1.00/139.61/79.38/255.00\n",
      "\n",
      "Train label has shape = (1240,)\n",
      "Training label has min/mean/std/max = 0.00/0.59/0.49/1.00\n"
     ]
    }
   ],
   "source": [
    "print('Image dataset have shape =', X_train.shape)\n",
    "print('Image dataset has min/mean/std/max = %.2f/%.2f/%.2f/%.2f'%(X_train.min(),\n",
    "                        X_train.mean(), X_train.std(), X_train.max()))\n",
    "print('')\n",
    "print('Train label has shape =', y_train.shape)\n",
    "print('Training label has min/mean/std/max = %.2f/%.2f/%.2f/%.2f'%(y_train.min(),\n",
    "                        y_train.mean(), y_train.std(), y_train.max()))"
   ]
  },
  {
   "cell_type": "code",
   "execution_count": 37,
   "metadata": {},
   "outputs": [
    {
     "name": "stdout",
     "output_type": "stream",
     "text": [
      "Image dataset have shape = (1240, 32, 32, 4)\n",
      "Image dataset has min/mean/std/max = 0.00/0.55/0.31/1.00\n",
      "\n",
      "Train label has shape = (1240,)\n",
      "Training label has min/mean/std/max = 0.00/0.59/0.49/1.00\n"
     ]
    }
   ],
   "source": [
    "def normalize_data(data): \n",
    "    data = data / data.max()\n",
    "    return data\n",
    "\n",
    "X_train = normalize_data(X_train)\n",
    "X_test = normalize_data(X_test)\n",
    "print('Image dataset have shape =', X_train.shape)\n",
    "print('Image dataset has min/mean/std/max = %.2f/%.2f/%.2f/%.2f'%(X_train.min(),\n",
    "                        X_train.mean(), X_train.std(), X_train.max()))\n",
    "print('')\n",
    "print('Train label has shape =', y_train.shape)\n",
    "print('Training label has min/mean/std/max = %.2f/%.2f/%.2f/%.2f'%(y_train.min(),\n",
    "                        y_train.mean(), y_train.std(), y_train.max()))"
   ]
  },
  {
   "cell_type": "code",
   "execution_count": 38,
   "metadata": {},
   "outputs": [],
   "source": [
    "import torch\n",
    "import torchvision\n",
    "import torchvision.transforms as transforms\n",
    "import torch.nn as nn\n",
    "import torch.nn.functional as F\n",
    "import torch.optim as optim\n",
    "import torch.utils.data as utils"
   ]
  },
  {
   "cell_type": "code",
   "execution_count": 39,
   "metadata": {},
   "outputs": [],
   "source": [
    "transform = transforms.Compose(\n",
    " [transforms.ToTensor(),\n",
    " transforms.Normalize((0.5, 0.5, 0.5), (0.5, 0.5, 0.5))])\n",
    "tensor_x = torch.stack([torch.Tensor(i) for i in X_train])\n",
    "tensor_y = torch.from_numpy(y_train)"
   ]
  },
  {
   "cell_type": "code",
   "execution_count": 40,
   "metadata": {},
   "outputs": [],
   "source": [
    "trainset = utils.TensorDataset(tensor_x,tensor_y)"
   ]
  },
  {
   "cell_type": "code",
   "execution_count": 41,
   "metadata": {},
   "outputs": [],
   "source": [
    "trainloader = utils.DataLoader(trainset,  batch_size= 40)"
   ]
  },
  {
   "cell_type": "code",
   "execution_count": 42,
   "metadata": {},
   "outputs": [],
   "source": [
    "tensor_x_test = torch.stack([torch.Tensor(i) for i in X_test])\n",
    "tensor_y_test = torch.from_numpy(y_test)"
   ]
  },
  {
   "cell_type": "code",
   "execution_count": 43,
   "metadata": {},
   "outputs": [],
   "source": [
    "testset = utils.TensorDataset(tensor_x_test,tensor_y_test)\n",
    "testloader = utils.DataLoader(testset,  batch_size=40)"
   ]
  },
  {
   "cell_type": "code",
   "execution_count": 44,
   "metadata": {},
   "outputs": [
    {
     "name": "stdout",
     "output_type": "stream",
     "text": [
      "cpu\n"
     ]
    }
   ],
   "source": [
    "device = torch.device(\"cpu\")\n",
    "classes = ('Positive', 'Negative')\n",
    "print(device)"
   ]
  },
  {
   "cell_type": "code",
   "execution_count": 45,
   "metadata": {},
   "outputs": [],
   "source": [
    "def imshow(img):\n",
    "    img = img / 2 + 0.5\n",
    "    npimg = img.numpy()\n",
    "    plt.imshow(np.transpose(npimg, (1, 2, 0)))\n",
    "    plt.show()"
   ]
  },
  {
   "cell_type": "code",
   "execution_count": 46,
   "metadata": {},
   "outputs": [
    {
     "name": "stdout",
     "output_type": "stream",
     "text": [
      "torch.Size([40, 32, 32, 4])\n",
      "torch.Size([40, 4, 32, 32])\n"
     ]
    }
   ],
   "source": [
    "dataiter = iter(trainloader)\n",
    "images, labels = dataiter.next()\n",
    "print(images.size())\n",
    "images = images.permute(0, 3, 1, 2)\n",
    "print(images.size())"
   ]
  },
  {
   "cell_type": "code",
   "execution_count": 47,
   "metadata": {},
   "outputs": [
    {
     "data": {
      "image/png": "[encoded data removed]",
      "text/plain": [
       "<Figure size 432x288 with 1 Axes>"
      ]
     },
     "metadata": {
      "needs_background": "light"
     },
     "output_type": "display_data"
    }
   ],
   "source": [
    "%matplotlib inline\n",
    "import matplotlib.pyplot as plt\n",
    "import numpy as np\n",
    "rows = 1\n",
    "columns = 1\n",
    "fig=plt.figure()\n",
    "for i in range(1):\n",
    "    fig.add_subplot(rows, columns, i+1)\n",
    "    img = images[i]\n",
    "    img = torchvision.transforms.ToPILImage()(img)\n",
    "    plt.imshow(img)\n",
    "plt.show()"
   ]
  },
  {
   "cell_type": "code",
   "execution_count": 48,
   "metadata": {},
   "outputs": [
    {
     "data": {
      "text/plain": [
       "'\\nkernal size 3*3\\nstep size = 1\\nmaximum pooled layer of 2*2\\nstep size = 2\\nlearning rate = 0.0001\\nbatch size = 63\\ndropout rate = 0.5\\nk-fold: 5-fold cross validation\\n'"
      ]
     },
     "execution_count": 48,
     "metadata": {},
     "output_type": "execute_result"
    }
   ],
   "source": [
    "'''\n",
    "kernal size 3*3\n",
    "step size = 1\n",
    "maximum pooled layer of 2*2\n",
    "step size = 2\n",
    "learning rate = 0.0001\n",
    "batch size = 63\n",
    "dropout rate = 0.5\n",
    "k-fold: 5-fold cross validation\n",
    "'''"
   ]
  },
  {
   "cell_type": "markdown",
   "metadata": {},
   "source": [
    "num_classes = 2\n",
    "class Net(nn.Module):\n",
    "    def __init__(self):\n",
    "        super(Net, self).__init__()\n",
    "        self.conv1 = nn.Conv2d(4, 10, 3, padding=1)\n",
    "        self.drop_rate = 0.4\n",
    "        self.pool = nn.MaxPool2d(2, 2)\n",
    "        self.conv2 = nn.Conv2d(10, 20, 3, padding=1)\n",
    "        self.classifier = nn.Sequential(\n",
    "            nn.Dropout(),\n",
    "            nn.Linear(20*8*8, 100),\n",
    "            nn.ReLU(inplace=True),\n",
    "            nn.Dropout(),\n",
    "            nn.Linear(100, num_classes),\n",
    "        )\n",
    "\n",
    "    def forward(self, x):\n",
    "        x = self.pool(F.relu(self.conv1(x)))\n",
    "        x = self.pool(F.relu(self.conv2(x)))\n",
    "        x = x.view(-1, 20 * 8 * 8)\n",
    "        x = self.classifier(x)\n",
    "        return x\n",
    "    \n",
    "net = Net()\n",
    "net.to(device)"
   ]
  },
  {
   "cell_type": "code",
   "execution_count": 49,
   "metadata": {},
   "outputs": [
    {
     "data": {
      "text/plain": [
       "Net(\n",
       "  (conv1): Conv2d(4, 6, kernel_size=(3, 3), stride=(1, 1))\n",
       "  (conv2_bn): BatchNorm2d(20, eps=1e-05, momentum=0.1, affine=True, track_running_stats=True)\n",
       "  (conv2): Conv2d(6, 16, kernel_size=(3, 3), stride=(1, 1))\n",
       "  (drop_out): BatchNorm2d(20, eps=1e-05, momentum=0.1, affine=True, track_running_stats=True)\n",
       "  (classifier): Sequential(\n",
       "    (0): Dropout(p=0.5)\n",
       "    (1): Linear(in_features=576, out_features=96, bias=True)\n",
       "    (2): ReLU(inplace)\n",
       "    (3): Dropout(p=0.5)\n",
       "    (4): Linear(in_features=96, out_features=6, bias=True)\n",
       "    (5): Dropout(p=0.5)\n",
       "    (6): ReLU(inplace)\n",
       "    (7): Linear(in_features=6, out_features=2, bias=True)\n",
       "  )\n",
       ")"
      ]
     },
     "execution_count": 49,
     "metadata": {},
     "output_type": "execute_result"
    }
   ],
   "source": [
    "num_classes = 2\n",
    "class Net(nn.Module):\n",
    "    def __init__(self):\n",
    "        super(Net, self).__init__()\n",
    "        self.conv1 = nn.Conv2d(4, 6, 3)\n",
    "        self.conv2_bn = nn.BatchNorm2d(20)\n",
    "        self.conv2 = nn.Conv2d(6, 16, 3)\n",
    "        self.drop_out = nn.BatchNorm2d(20)\n",
    "        self.classifier = nn.Sequential(\n",
    "            nn.Dropout(),\n",
    "            nn.Linear(16*6*6, 96),\n",
    "            nn.ReLU(inplace=True),\n",
    "            nn.Dropout(),\n",
    "            nn.Linear(96, 6),\n",
    "            nn.Dropout(),\n",
    "            nn.ReLU(inplace=True),\n",
    "            nn.Linear(6, num_classes),\n",
    "        )\n",
    "\n",
    "    def forward(self, x):\n",
    "        x = F.max_pool2d(F.relu(self.conv1(x)), (2,2))\n",
    "        #x = F.dropout2d(x, p=0.5)\n",
    "        x = F.max_pool2d(F.relu(self.conv2(x)), 2)\n",
    "        x = x.view(-1, self.flat(x))\n",
    "        x = self.classifier(x)\n",
    "        return x\n",
    "    \n",
    "    def flat(self, x):\n",
    "        size = x.size()[1:]\n",
    "        num = 1\n",
    "        for s in size:\n",
    "            num *= s\n",
    "        return num\n",
    "    \n",
    "net = Net()\n",
    "net.to(device)"
   ]
  },
  {
   "cell_type": "code",
   "execution_count": null,
   "metadata": {},
   "outputs": [
    {
     "data": {
      "text/plain": [
       "\"with torch.no_grad():\\n    net = NeuralNet(model, criterion= nn.CrossEntropyLoss,\\n                max_epochs = args.epochs,\\n                lr = args.learning_rate,\\n                batch_size = 32,\\n                optimizer=optim.SGD,\\n                optimizer_momentum = 0.09,\\n                iterator_train__shuffle = True,\\n                iterator_train__num_workers = 4,\\n                iterator_valid__shuffle = True,\\n                iterator_valid__num_workers = 4,\\n                train_split= predefined_split(valid_dataset),\\n                callbacks= [ lr_scheduler, epoch_acc, checkpoint],\\n                device = 'cuda')\\nparams = {\\n        'lr':[0.01,0.02],\\n        'max_epochs':[10,20],\\n        'module_num_units': [10,20],\\n        }\\ngs = GridSearchCV(net, params,refit=False, cv=5, scoring='accuracy')\\ngs.fit(train_dataset, y=None)\""
      ]
     },
     "execution_count": 50,
     "metadata": {},
     "output_type": "execute_result"
    }
   ],
   "source": [
    "'''with torch.no_grad():\n",
    "    net = NeuralNet(model, criterion= nn.CrossEntropyLoss,\n",
    "                max_epochs = args.epochs,\n",
    "                lr = args.learning_rate,\n",
    "                batch_size = 32,\n",
    "                optimizer=optim.SGD,\n",
    "                optimizer_momentum = 0.09,\n",
    "                iterator_train__shuffle = True,\n",
    "                iterator_train__num_workers = 4,\n",
    "                iterator_valid__shuffle = True,\n",
    "                iterator_valid__num_workers = 4,\n",
    "                train_split= predefined_split(valid_dataset),\n",
    "                callbacks= [ lr_scheduler, epoch_acc, checkpoint],\n",
    "                device = 'cuda')\n",
    "params = {\n",
    "        'lr':[0.01,0.02],\n",
    "        'max_epochs':[10,20],\n",
    "        'module_num_units': [10,20],\n",
    "        }\n",
    "gs = GridSearchCV(net, params,refit=False, cv=5, scoring='accuracy')\n",
    "gs.fit(train_dataset, y=None)'''"
   ]
  },
  {
   "cell_type": "code",
   "execution_count": null,
   "metadata": {},
   "outputs": [
    {
     "name": "stdout",
     "output_type": "stream",
     "text": [
      "[epoch: 0, i:    19] avg mini-batch loss: 0.692\n",
      "[epoch: 1, i:    19] avg mini-batch loss: 0.678\n",
      "[epoch: 2, i:    19] avg mini-batch loss: 0.681\n",
      "[epoch: 3, i:    19] avg mini-batch loss: 0.681\n",
      "[epoch: 4, i:    19] avg mini-batch loss: 0.676\n",
      "[epoch: 5, i:    19] avg mini-batch loss: 0.675\n",
      "[epoch: 6, i:    19] avg mini-batch loss: 0.673\n",
      "[epoch: 7, i:    19] avg mini-batch loss: 0.674\n",
      "[epoch: 8, i:    19] avg mini-batch loss: 0.676\n",
      "[epoch: 9, i:    19] avg mini-batch loss: 0.674\n",
      "[epoch: 10, i:    19] avg mini-batch loss: 0.676\n",
      "[epoch: 11, i:    19] avg mini-batch loss: 0.677\n",
      "[epoch: 12, i:    19] avg mini-batch loss: 0.671\n",
      "[epoch: 13, i:    19] avg mini-batch loss: 0.676\n",
      "[epoch: 14, i:    19] avg mini-batch loss: 0.674\n",
      "[epoch: 15, i:    19] avg mini-batch loss: 0.678\n",
      "[epoch: 16, i:    19] avg mini-batch loss: 0.676\n",
      "[epoch: 17, i:    19] avg mini-batch loss: 0.675\n",
      "[epoch: 18, i:    19] avg mini-batch loss: 0.677\n",
      "[epoch: 19, i:    19] avg mini-batch loss: 0.671\n",
      "[epoch: 20, i:    19] avg mini-batch loss: 0.674\n",
      "[epoch: 21, i:    19] avg mini-batch loss: 0.674\n",
      "[epoch: 22, i:    19] avg mini-batch loss: 0.675\n",
      "[epoch: 23, i:    19] avg mini-batch loss: 0.673\n",
      "[epoch: 24, i:    19] avg mini-batch loss: 0.672\n",
      "[epoch: 25, i:    19] avg mini-batch loss: 0.674\n",
      "[epoch: 26, i:    19] avg mini-batch loss: 0.673\n",
      "[epoch: 27, i:    19] avg mini-batch loss: 0.674\n",
      "[epoch: 28, i:    19] avg mini-batch loss: 0.672\n",
      "[epoch: 29, i:    19] avg mini-batch loss: 0.669\n",
      "[epoch: 30, i:    19] avg mini-batch loss: 0.677\n",
      "[epoch: 31, i:    19] avg mini-batch loss: 0.672\n",
      "[epoch: 32, i:    19] avg mini-batch loss: 0.670\n",
      "[epoch: 33, i:    19] avg mini-batch loss: 0.675\n",
      "[epoch: 34, i:    19] avg mini-batch loss: 0.672\n",
      "[epoch: 35, i:    19] avg mini-batch loss: 0.675\n",
      "[epoch: 36, i:    19] avg mini-batch loss: 0.670\n",
      "[epoch: 37, i:    19] avg mini-batch loss: 0.673\n",
      "[epoch: 38, i:    19] avg mini-batch loss: 0.676\n",
      "[epoch: 39, i:    19] avg mini-batch loss: 0.676\n",
      "[epoch: 40, i:    19] avg mini-batch loss: 0.677\n",
      "[epoch: 41, i:    19] avg mini-batch loss: 0.677\n",
      "[epoch: 42, i:    19] avg mini-batch loss: 0.677\n",
      "[epoch: 43, i:    19] avg mini-batch loss: 0.672\n",
      "[epoch: 44, i:    19] avg mini-batch loss: 0.670\n",
      "[epoch: 45, i:    19] avg mini-batch loss: 0.669\n",
      "[epoch: 46, i:    19] avg mini-batch loss: 0.676\n",
      "[epoch: 47, i:    19] avg mini-batch loss: 0.678\n",
      "[epoch: 48, i:    19] avg mini-batch loss: 0.672\n",
      "[epoch: 49, i:    19] avg mini-batch loss: 0.677\n",
      "[epoch: 50, i:    19] avg mini-batch loss: 0.672\n",
      "[epoch: 51, i:    19] avg mini-batch loss: 0.673\n",
      "[epoch: 52, i:    19] avg mini-batch loss: 0.673\n",
      "[epoch: 53, i:    19] avg mini-batch loss: 0.673\n",
      "[epoch: 54, i:    19] avg mini-batch loss: 0.672\n",
      "[epoch: 55, i:    19] avg mini-batch loss: 0.673\n",
      "[epoch: 56, i:    19] avg mini-batch loss: 0.677\n",
      "[epoch: 57, i:    19] avg mini-batch loss: 0.669\n",
      "[epoch: 58, i:    19] avg mini-batch loss: 0.672\n",
      "[epoch: 59, i:    19] avg mini-batch loss: 0.672\n",
      "[epoch: 60, i:    19] avg mini-batch loss: 0.676\n",
      "[epoch: 61, i:    19] avg mini-batch loss: 0.671\n",
      "[epoch: 62, i:    19] avg mini-batch loss: 0.672\n",
      "[epoch: 63, i:    19] avg mini-batch loss: 0.673\n",
      "[epoch: 64, i:    19] avg mini-batch loss: 0.673\n",
      "[epoch: 65, i:    19] avg mini-batch loss: 0.670\n",
      "[epoch: 66, i:    19] avg mini-batch loss: 0.675\n",
      "[epoch: 67, i:    19] avg mini-batch loss: 0.674\n",
      "[epoch: 68, i:    19] avg mini-batch loss: 0.675\n",
      "[epoch: 69, i:    19] avg mini-batch loss: 0.673\n",
      "[epoch: 70, i:    19] avg mini-batch loss: 0.672\n",
      "[epoch: 71, i:    19] avg mini-batch loss: 0.673\n",
      "[epoch: 72, i:    19] avg mini-batch loss: 0.675\n",
      "[epoch: 73, i:    19] avg mini-batch loss: 0.671\n",
      "[epoch: 74, i:    19] avg mini-batch loss: 0.672\n"
     ]
    }
   ],
   "source": [
    "loss_func = nn.CrossEntropyLoss()\n",
    "#opt = torch.optim.Adam(net.parameters(), lr= 0.001)\n",
    "#opt = torch.optim.Adamax(net.parameters(), lr=0.005)\n",
    "#opt = optim.SGD(net.parameters(), lr=0.01, momentum=0.9)\n",
    "opt = torch.optim.Adagrad(net.parameters(), lr=0.005)\n",
    "avg_losses = [] \n",
    "epochs = 1000 \n",
    "print_freq = 20\n",
    "for epoch in range(epochs):\n",
    "    running_loss = 0.0\n",
    "    for i, data in enumerate(trainloader, 0):\n",
    "        inputs, labels = data\n",
    "        inputs = inputs.permute(0, 3, 1, 2)\n",
    "        inputs, labels = inputs.to(device), labels.to(device)\n",
    "        opt.zero_grad()\n",
    "        outputs = net(inputs)\n",
    "        loss = loss_func(outputs, labels)\n",
    "        loss.backward()\n",
    "        opt.step()\n",
    "        running_loss += loss.item()\n",
    "        if i % print_freq == print_freq - 1:\n",
    "            avg_loss = running_loss / print_freq\n",
    "            print('[epoch: {}, i: {:5d}] avg mini-batch loss: {:.3f}'.format(epoch, i, avg_loss))\n",
    "            avg_losses.append(avg_loss)\n",
    "            running_loss = 0.0\n",
    "print('Finished Training.')"
   ]
  },
  {
   "cell_type": "code",
   "execution_count": null,
   "metadata": {},
   "outputs": [],
   "source": [
    "plt.plot(avg_losses)\n",
    "plt.xlabel('mini-batch index / {}'.format(print_freq))\n",
    "plt.ylabel('avg. mini-batch loss')\n",
    "plt.show()"
   ]
  },
  {
   "cell_type": "code",
   "execution_count": null,
   "metadata": {},
   "outputs": [],
   "source": [
    "net.eval()\n",
    "correct = 0\n",
    "total = 0\n",
    "with torch.no_grad():\n",
    "    for data in testloader:\n",
    "        images, labels = data\n",
    "        images = images.permute(0, 3, 1, 2)\n",
    "        images = images.to(device)\n",
    "        labels = labels.to(device)\n",
    "        outputs = net(images)\n",
    "        _, predicted = torch.max(outputs.data, 1)\n",
    "        total += labels.size(0)\n",
    "        correct += (predicted == labels).sum().item()\n",
    "print(total)\n",
    "print('Accuracy of the network on the 40 test images: %d %%' % (100 * correct / total))\n",
    "# Get test accuracy for each class.\n",
    "class_correct = list(0. for i in range(10))\n",
    "class_total = list(0. for i in range(10))\n",
    "with torch.no_grad():\n",
    "    for data in testloader:\n",
    "        images, labels = data\n",
    "        images = images.permute(0, 3, 1, 2)\n",
    "        images, labels = images.to(device), labels.to(device)\n",
    "        outputs = net(images)\n",
    "        one = torch.tensor(1, dtype=torch.float, device=device)\n",
    "        _, predicted = torch.max(outputs, 1)\n",
    "        c = (predicted == labels).squeeze()\n",
    "        for i in range(40):\n",
    "            label = labels[i]\n",
    "            labels = torch.tensor(labels, dtype=torch.long, device=device)\n",
    "            class_correct[label] += c[i].item()\n",
    "            class_total[label] += 1\n",
    "for i in range(2):\n",
    "    print('Accuracy of %5s : %2d %%' % (classes[i], 100 * class_correct[i] / class_total[i]))"
   ]
  },
  {
   "cell_type": "code",
   "execution_count": null,
   "metadata": {},
   "outputs": [],
   "source": [
    "net.eval()\n",
    "correct = 0\n",
    "total = 0\n",
    "with torch.no_grad():\n",
    "    for data in trainloader:\n",
    "        images, labels = data\n",
    "        images = images.permute(0, 3, 1, 2)\n",
    "        images = images.to(device)\n",
    "        labels = labels.to(device)\n",
    "        outputs = net(images)\n",
    "        _, predicted = torch.max(outputs.data, 1)\n",
    "        total += labels.size(0)\n",
    "        correct += (predicted == labels).sum().item()\n",
    "print(total)\n",
    "print('Accuracy of the network on the 1240 training images: %d %%' % (100 * correct / total))\n",
    "# Get test accuracy for each class.\n",
    "class_correct = list(0. for i in range(10))\n",
    "class_total = list(0. for i in range(10))\n",
    "with torch.no_grad():\n",
    "    for data in trainloader:\n",
    "        images, labels = data\n",
    "        images = images.permute(0, 3, 1, 2)\n",
    "        images, labels = images.to(device), labels.to(device)\n",
    "        outputs = net(images)\n",
    "        one = torch.tensor(1, dtype=torch.float, device=device)\n",
    "        _, predicted = torch.max(outputs, 1)\n",
    "        c = (predicted == labels).squeeze()\n",
    "        for i in range(40):\n",
    "            label = labels[i]\n",
    "            labels = torch.tensor(labels, dtype=torch.long, device=device)\n",
    "            class_correct[label] += c[i].item()\n",
    "            class_total[label] += 1\n",
    "for i in range(2):\n",
    "    print('Accuracy of %5s : %2d %%' % (classes[i], 100 * class_correct[i] / class_total[i]))"
   ]
  },
  {
   "cell_type": "code",
   "execution_count": null,
   "metadata": {},
   "outputs": [],
   "source": [
    "'''\n",
    "kernal size 3*3\n",
    "step size = 1\n",
    "maximum pooled layer of 2*2\n",
    "step size = 2\n",
    "learning rate = 0.0001\n",
    "batch size = 63\n",
    "dropout rate = 0.5\n",
    "k-fold: 5-fold cross validation\n",
    "'''"
   ]
  },
  {
   "cell_type": "code",
   "execution_count": null,
   "metadata": {},
   "outputs": [],
   "source": []
  }
 ],
 "metadata": {
  "kernelspec": {
   "display_name": "Python 3",
   "language": "python",
   "name": "python3"
  },
  "language_info": {
   "codemirror_mode": {
    "name": "ipython",
    "version": 3
   },
   "file_extension": ".py",
   "mimetype": "text/x-python",
   "name": "python",
   "nbconvert_exporter": "python",
   "pygments_lexer": "ipython3",
   "version": "3.6.8"
  }
 },
 "nbformat": 4,
 "nbformat_minor": 2
}
