{
 "cells": [
  {
   "cell_type": "markdown",
   "metadata": {},
   "source": [
    "# For AROUSAL"
   ]
  },
  {
   "cell_type": "markdown",
   "metadata": {},
   "source": [
    "https://towardsdatascience.com/the-4-convolutional-neural-network-models-that-can-classify-your-fashion-images-9fe7f3e5399d"
   ]
  },
  {
   "cell_type": "code",
   "execution_count": 1,
   "metadata": {},
   "outputs": [],
   "source": [
    "from os import listdir\n",
    "from os.path import isfile, join\n",
    "mypath = \"/Users/apple/Desktop/eeglab14_1_2b/Granger Casuality/img/\"\n",
    "onlyfiles = [f for f in listdir(mypath) if isfile(join(mypath, f))]"
   ]
  },
  {
   "cell_type": "code",
   "execution_count": 2,
   "metadata": {},
   "outputs": [],
   "source": [
    "onlyfiles.sort()"
   ]
  },
  {
   "cell_type": "code",
   "execution_count": 3,
   "metadata": {},
   "outputs": [],
   "source": [
    "from matplotlib import image\n",
    "from matplotlib import pyplot\n",
    "import numpy as np\n",
    "from PIL import Image"
   ]
  },
  {
   "cell_type": "code",
   "execution_count": 4,
   "metadata": {},
   "outputs": [
    {
     "name": "stdout",
     "output_type": "stream",
     "text": [
      "1280\n",
      "(32, 32, 4)\n"
     ]
    }
   ],
   "source": [
    "X = []\n",
    "for i in range(len(onlyfiles)):\n",
    "    data = Image.open(mypath + onlyfiles[i])\n",
    "    arr = np.array(data)\n",
    "    #arr = arr[:,:,0:3]\n",
    "    #result = np.zeros((32,32))\n",
    "    #toadd = np.zeros((32,32,4))\n",
    "    #for k in range(arr.shape[2]-1):\n",
    "    #    result[:arr[:,:,k].shape[0],:arr[:,:,k].shape[1]] = arr[:,:,k] \n",
    "    #    toadd[:,:,k] = result\n",
    "    X.append(arr)\n",
    "print(len(X))\n",
    "print(X[1].shape)"
   ]
  },
  {
   "cell_type": "code",
   "execution_count": 5,
   "metadata": {},
   "outputs": [
    {
     "name": "stdout",
     "output_type": "stream",
     "text": [
      "1280\n"
     ]
    }
   ],
   "source": [
    "import pandas as pd\n",
    "df = pd.read_csv('/Users/apple/Desktop/eeglab14_1_2b/participant_ratings.csv',\n",
    "                sep=r'\\s*,\\s*',engine = 'python', na_values = '?')\n",
    "df.dropna()\n",
    "Y_chart = pd.get_dummies(df, drop_first=True)\n",
    "Y = Y_chart['Arousal'].tolist()\n",
    "print(len(Y))"
   ]
  },
  {
   "cell_type": "code",
   "execution_count": 6,
   "metadata": {},
   "outputs": [
    {
     "name": "stdout",
     "output_type": "stream",
     "text": [
      "1280\n"
     ]
    }
   ],
   "source": [
    "for i in range(len(Y)):\n",
    "    if Y[i] < 5:\n",
    "        Y[i] = 0\n",
    "    else:\n",
    "        Y[i] = 1\n",
    "print(len(Y))"
   ]
  },
  {
   "cell_type": "code",
   "execution_count": 7,
   "metadata": {},
   "outputs": [],
   "source": [
    "from sklearn.model_selection import train_test_split"
   ]
  },
  {
   "cell_type": "code",
   "execution_count": 8,
   "metadata": {},
   "outputs": [],
   "source": [
    "X_train, X_test, y_train, y_test = train_test_split(X, Y, test_size=(40/len(Y)))"
   ]
  },
  {
   "cell_type": "code",
   "execution_count": 9,
   "metadata": {},
   "outputs": [
    {
     "name": "stdout",
     "output_type": "stream",
     "text": [
      "(1240, 32, 32, 4)\n",
      "(1240,)\n",
      "(40, 32, 32, 4)\n",
      "(40,)\n"
     ]
    }
   ],
   "source": [
    "import numpy as np\n",
    "X_train = np.asarray(X_train)\n",
    "y_train = np.asarray(y_train)\n",
    "print(X_train.shape)\n",
    "print(y_train.shape)\n",
    "\n",
    "X_test = np.asarray(X_test)\n",
    "y_test = np.asarray(y_test)\n",
    "print(X_test.shape)\n",
    "print(y_test.shape)"
   ]
  },
  {
   "cell_type": "code",
   "execution_count": 10,
   "metadata": {},
   "outputs": [
    {
     "name": "stdout",
     "output_type": "stream",
     "text": [
      "Image dataset have shape = (1240, 32, 32, 4)\n",
      "Image dataset has min/mean/std/max = 1.00/139.61/79.38/255.00\n",
      "\n",
      "Train label has shape = (1240,)\n",
      "Training label has min/mean/std/max = 0.00/0.59/0.49/1.00\n"
     ]
    }
   ],
   "source": [
    "print('Image dataset have shape =', X_train.shape)\n",
    "print('Image dataset has min/mean/std/max = %.2f/%.2f/%.2f/%.2f'%(X_train.min(),\n",
    "                        X_train.mean(), X_train.std(), X_train.max()))\n",
    "print('')\n",
    "print('Train label has shape =', y_train.shape)\n",
    "print('Training label has min/mean/std/max = %.2f/%.2f/%.2f/%.2f'%(y_train.min(),\n",
    "                        y_train.mean(), y_train.std(), y_train.max()))"
   ]
  },
  {
   "cell_type": "code",
   "execution_count": 11,
   "metadata": {},
   "outputs": [
    {
     "name": "stdout",
     "output_type": "stream",
     "text": [
      "Image dataset have shape = (1240, 32, 32, 4)\n",
      "Image dataset has min/mean/std/max = 0.00/0.55/0.31/1.00\n",
      "\n",
      "Train label has shape = (1240,)\n",
      "Training label has min/mean/std/max = 0.00/0.59/0.49/1.00\n"
     ]
    }
   ],
   "source": [
    "def normalize_data(data): \n",
    "    data = data / data.max()\n",
    "    return data\n",
    "\n",
    "X_train = normalize_data(X_train)\n",
    "X_test = normalize_data(X_test)\n",
    "print('Image dataset have shape =', X_train.shape)\n",
    "print('Image dataset has min/mean/std/max = %.2f/%.2f/%.2f/%.2f'%(X_train.min(),\n",
    "                        X_train.mean(), X_train.std(), X_train.max()))\n",
    "print('')\n",
    "print('Train label has shape =', y_train.shape)\n",
    "print('Training label has min/mean/std/max = %.2f/%.2f/%.2f/%.2f'%(y_train.min(),\n",
    "                        y_train.mean(), y_train.std(), y_train.max()))"
   ]
  },
  {
   "cell_type": "code",
   "execution_count": 12,
   "metadata": {},
   "outputs": [],
   "source": [
    "import torch\n",
    "import torchvision\n",
    "import torchvision.transforms as transforms\n",
    "import torch.nn as nn\n",
    "import torch.nn.functional as F\n",
    "import torch.optim as optim\n",
    "import torch.utils.data as utils"
   ]
  },
  {
   "cell_type": "code",
   "execution_count": 13,
   "metadata": {},
   "outputs": [],
   "source": [
    "transform = transforms.Compose(\n",
    " [transforms.ToTensor(),\n",
    " transforms.Normalize((0.5, 0.5, 0.5), (0.5, 0.5, 0.5))])\n",
    "tensor_x = torch.stack([torch.Tensor(i) for i in X_train])\n",
    "tensor_y = torch.from_numpy(y_train)"
   ]
  },
  {
   "cell_type": "code",
   "execution_count": 14,
   "metadata": {},
   "outputs": [],
   "source": [
    "trainset = utils.TensorDataset(tensor_x,tensor_y)"
   ]
  },
  {
   "cell_type": "code",
   "execution_count": 15,
   "metadata": {},
   "outputs": [],
   "source": [
    "trainloader = utils.DataLoader(trainset,  batch_size= 40)"
   ]
  },
  {
   "cell_type": "code",
   "execution_count": 16,
   "metadata": {},
   "outputs": [],
   "source": [
    "tensor_x_test = torch.stack([torch.Tensor(i) for i in X_test])\n",
    "tensor_y_test = torch.from_numpy(y_test)"
   ]
  },
  {
   "cell_type": "code",
   "execution_count": 17,
   "metadata": {},
   "outputs": [],
   "source": [
    "testset = utils.TensorDataset(tensor_x_test,tensor_y_test)\n",
    "testloader = utils.DataLoader(testset,  batch_size=40)"
   ]
  },
  {
   "cell_type": "code",
   "execution_count": 18,
   "metadata": {},
   "outputs": [
    {
     "name": "stdout",
     "output_type": "stream",
     "text": [
      "cpu\n"
     ]
    }
   ],
   "source": [
    "device = torch.device(\"cpu\")\n",
    "classes = ('Positive', 'Negative')\n",
    "print(device)"
   ]
  },
  {
   "cell_type": "code",
   "execution_count": 19,
   "metadata": {},
   "outputs": [],
   "source": [
    "def imshow(img):\n",
    "    img = img / 2 + 0.5\n",
    "    npimg = img.numpy()\n",
    "    plt.imshow(np.transpose(npimg, (1, 2, 0)))\n",
    "    plt.show()"
   ]
  },
  {
   "cell_type": "code",
   "execution_count": 20,
   "metadata": {},
   "outputs": [
    {
     "name": "stdout",
     "output_type": "stream",
     "text": [
      "torch.Size([40, 32, 32, 4])\n",
      "torch.Size([40, 4, 32, 32])\n"
     ]
    }
   ],
   "source": [
    "dataiter = iter(trainloader)\n",
    "images, labels = dataiter.next()\n",
    "print(images.size())\n",
    "images = images.permute(0, 3, 1, 2)\n",
    "print(images.size())"
   ]
  },
  {
   "cell_type": "code",
   "execution_count": 21,
   "metadata": {},
   "outputs": [
    {
     "data": {
      "image/png": "[encoded data removed]",
      "text/plain": [
       "<Figure size 432x288 with 1 Axes>"
      ]
     },
     "metadata": {
      "needs_background": "light"
     },
     "output_type": "display_data"
    }
   ],
   "source": [
    "%matplotlib inline\n",
    "import matplotlib.pyplot as plt\n",
    "import numpy as np\n",
    "rows = 1\n",
    "columns = 1\n",
    "fig=plt.figure()\n",
    "for i in range(1):\n",
    "    fig.add_subplot(rows, columns, i+1)\n",
    "    img = images[i]\n",
    "    img = torchvision.transforms.ToPILImage()(img)\n",
    "    plt.imshow(img)\n",
    "plt.show()"
   ]
  },
  {
   "cell_type": "code",
   "execution_count": 22,
   "metadata": {},
   "outputs": [
    {
     "data": {
      "text/plain": [
       "'\\nkernal size 3*3\\nstep size = 1\\nmaximum pooled layer of 2*2\\nstep size = 2\\nlearning rate = 0.0001\\nbatch size = 63\\ndropout rate = 0.5\\nk-fold: 5-fold cross validation\\n'"
      ]
     },
     "execution_count": 22,
     "metadata": {},
     "output_type": "execute_result"
    }
   ],
   "source": [
    "'''\n",
    "kernal size 3*3\n",
    "step size = 1\n",
    "maximum pooled layer of 2*2\n",
    "step size = 2\n",
    "learning rate = 0.0001\n",
    "batch size = 63\n",
    "dropout rate = 0.5\n",
    "k-fold: 5-fold cross validation\n",
    "'''"
   ]
  },
  {
   "cell_type": "code",
   "execution_count": 23,
   "metadata": {},
   "outputs": [
    {
     "data": {
      "text/plain": [
       "Net(\n",
       "  (conv1): Conv2d(4, 10, kernel_size=(3, 3), stride=(1, 1), padding=(1, 1))\n",
       "  (conv1_bn): BatchNorm2d(20, eps=1e-05, momentum=0.1, affine=True, track_running_stats=True)\n",
       "  (pool): MaxPool2d(kernel_size=2, stride=2, padding=0, dilation=1, ceil_mode=False)\n",
       "  (conv2): Conv2d(10, 20, kernel_size=(3, 3), stride=(1, 1), padding=(1, 1))\n",
       "  (conv2_bn): BatchNorm2d(10, eps=1e-05, momentum=0.1, affine=True, track_running_stats=True)\n",
       "  (classifier): Sequential(\n",
       "    (0): Dropout(p=0.5)\n",
       "    (1): Linear(in_features=1280, out_features=100, bias=True)\n",
       "    (2): ReLU(inplace)\n",
       "    (3): Dropout(p=0.5)\n",
       "    (4): Linear(in_features=100, out_features=2, bias=True)\n",
       "  )\n",
       ")"
      ]
     },
     "execution_count": 23,
     "metadata": {},
     "output_type": "execute_result"
    }
   ],
   "source": [
    "num_classes = 2\n",
    "class Net(nn.Module):\n",
    "    def __init__(self):\n",
    "        super(Net, self).__init__()\n",
    "        self.conv1 = nn.Conv2d(4, 10, 3, padding=1)\n",
    "        self.conv1_bn = nn.BatchNorm2d(20)\n",
    "        self.pool = nn.MaxPool2d(2, 2)\n",
    "        self.conv2 = nn.Conv2d(10, 20, 3, padding=1)\n",
    "        self.conv2_bn = nn.BatchNorm2d(10)\n",
    "        self.classifier = nn.Sequential(\n",
    "            nn.Dropout(),\n",
    "            nn.Linear(20*8*8, 100),\n",
    "            nn.ReLU(inplace=True),\n",
    "            nn.Dropout(),\n",
    "            nn.Linear(100, num_classes),\n",
    "        )\n",
    "\n",
    "    def forward(self, x):\n",
    "        x = self.pool(F.relu(self.conv1(x)))\n",
    "        x = self.pool(F.relu(self.conv2(x)))\n",
    "        x = x.view(-1, 20 * 8 * 8)\n",
    "        x = self.classifier(x)\n",
    "        return x\n",
    "    \n",
    "net = Net()\n",
    "net.to(device)"
   ]
  },
  {
   "cell_type": "markdown",
   "metadata": {},
   "source": [
    "num_classes = 2\n",
    "class Net(nn.Module):\n",
    "    def __init__(self):\n",
    "        super(Net, self).__init__()\n",
    "        self.conv1 = nn.Conv2d(4, 6, 3)\n",
    "        self.conv1_bn = nn.BatchNorm2d(20)\n",
    "        self.conv2 = nn.Conv2d(6, 16, 3)\n",
    "        self.conv2_bn = nn.BatchNorm2d(10)\n",
    "        \n",
    "        '''\n",
    "        #spatial transformer localization\n",
    "        self.localization = nn.Sequential(\n",
    "            nn.Conv2d(4, 10, 3, padding = 1),\n",
    "            nn.MaxPool2d(2, 2),\n",
    "            nn.ReLU(True),\n",
    "            nn.Conv2d(10, 20, 3, padding=1),\n",
    "            nn.MaxPool2d(2,2),\n",
    "            nn.ReLU(True)\n",
    "            \n",
    "        ) '''\n",
    "        #add an regressor\n",
    "        self.classifier = nn.Sequential(\n",
    "            nn.Dropout(),\n",
    "            nn.Linear(16*6*6, 96),\n",
    "            nn.ReLU(inplace=True),\n",
    "            nn.Dropout(),\n",
    "            nn.Linear(96, 6),\n",
    "            nn.Dropout(),\n",
    "            nn.ReLU(inplace=True),\n",
    "            nn.Linear(6, num_classes),\n",
    "        )\n",
    "    '''\n",
    "    def forward(self, x):\n",
    "        #x = self.stn(x)\n",
    "        \n",
    "        x = F.max_pool2d(F.relu(self.conv1(x)), (2,2))\n",
    "        #x = F.dropout2d(x, p=0.5)\n",
    "        x = F.max_pool2d(F.relu(self.conv2(x)), 2)\n",
    "        x = x.view(-1, self.flat(x))\n",
    "        x = self.classifier(x)\n",
    "        return x\n",
    "\n",
    "    #spatial transformer network forward function\n",
    "    def stn(self, x):\n",
    "        xs = self.localization(x)\n",
    "        #xs = self.flat(xs)\n",
    "        theta = self.classifier(xs)\n",
    "        theta = theta.view(-1,2,3)\n",
    "        grid = F.affine_grid(theta, x.size())\n",
    "        x = F.grid_sample(x,grid)\n",
    "        return x\n",
    "        '''\n",
    "        \n",
    "    def flat(self, x):\n",
    "        size = x.size()[1:]\n",
    "        num = 1\n",
    "        for s in size:\n",
    "            num *= s\n",
    "        return num\n",
    "    \n",
    "net = Net()\n",
    "net.to(device)"
   ]
  },
  {
   "cell_type": "code",
   "execution_count": 24,
   "metadata": {},
   "outputs": [],
   "source": [
    "#model = torch.hub.load('pytorch/vision:v0.4.2', 'squeezenet1_0', pretrained=True)"
   ]
  },
  {
   "cell_type": "code",
   "execution_count": 25,
   "metadata": {},
   "outputs": [
    {
     "name": "stdout",
     "output_type": "stream",
     "text": [
      "[epoch: 0, i:    19] avg mini-batch loss: 0.682\n",
      "[epoch: 1, i:    19] avg mini-batch loss: 0.679\n",
      "[epoch: 2, i:    19] avg mini-batch loss: 0.674\n",
      "[epoch: 3, i:    19] avg mini-batch loss: 0.678\n",
      "[epoch: 4, i:    19] avg mini-batch loss: 0.676\n",
      "[epoch: 5, i:    19] avg mini-batch loss: 0.678\n",
      "[epoch: 6, i:    19] avg mini-batch loss: 0.677\n",
      "[epoch: 7, i:    19] avg mini-batch loss: 0.675\n",
      "[epoch: 8, i:    19] avg mini-batch loss: 0.676\n",
      "[epoch: 9, i:    19] avg mini-batch loss: 0.678\n",
      "[epoch: 10, i:    19] avg mini-batch loss: 0.677\n",
      "[epoch: 11, i:    19] avg mini-batch loss: 0.677\n",
      "[epoch: 12, i:    19] avg mini-batch loss: 0.677\n",
      "[epoch: 13, i:    19] avg mini-batch loss: 0.676\n",
      "[epoch: 14, i:    19] avg mini-batch loss: 0.676\n",
      "[epoch: 15, i:    19] avg mini-batch loss: 0.677\n",
      "[epoch: 16, i:    19] avg mini-batch loss: 0.676\n",
      "[epoch: 17, i:    19] avg mini-batch loss: 0.676\n",
      "[epoch: 18, i:    19] avg mini-batch loss: 0.676\n",
      "[epoch: 19, i:    19] avg mini-batch loss: 0.677\n",
      "[epoch: 20, i:    19] avg mini-batch loss: 0.677\n",
      "[epoch: 21, i:    19] avg mini-batch loss: 0.676\n",
      "[epoch: 22, i:    19] avg mini-batch loss: 0.676\n",
      "[epoch: 23, i:    19] avg mini-batch loss: 0.676\n",
      "[epoch: 24, i:    19] avg mini-batch loss: 0.675\n",
      "[epoch: 25, i:    19] avg mini-batch loss: 0.675\n",
      "[epoch: 26, i:    19] avg mini-batch loss: 0.676\n",
      "[epoch: 27, i:    19] avg mini-batch loss: 0.675\n",
      "[epoch: 28, i:    19] avg mini-batch loss: 0.676\n",
      "[epoch: 29, i:    19] avg mini-batch loss: 0.674\n",
      "[epoch: 30, i:    19] avg mini-batch loss: 0.676\n",
      "[epoch: 31, i:    19] avg mini-batch loss: 0.675\n",
      "[epoch: 32, i:    19] avg mini-batch loss: 0.675\n",
      "[epoch: 33, i:    19] avg mini-batch loss: 0.676\n",
      "[epoch: 34, i:    19] avg mini-batch loss: 0.676\n",
      "[epoch: 35, i:    19] avg mini-batch loss: 0.674\n",
      "[epoch: 36, i:    19] avg mini-batch loss: 0.676\n",
      "[epoch: 37, i:    19] avg mini-batch loss: 0.674\n",
      "[epoch: 38, i:    19] avg mini-batch loss: 0.675\n",
      "[epoch: 39, i:    19] avg mini-batch loss: 0.674\n",
      "[epoch: 40, i:    19] avg mini-batch loss: 0.674\n",
      "[epoch: 41, i:    19] avg mini-batch loss: 0.674\n",
      "[epoch: 42, i:    19] avg mini-batch loss: 0.672\n",
      "[epoch: 43, i:    19] avg mini-batch loss: 0.673\n",
      "[epoch: 44, i:    19] avg mini-batch loss: 0.672\n",
      "[epoch: 45, i:    19] avg mini-batch loss: 0.674\n",
      "[epoch: 46, i:    19] avg mini-batch loss: 0.670\n",
      "[epoch: 47, i:    19] avg mini-batch loss: 0.672\n",
      "[epoch: 48, i:    19] avg mini-batch loss: 0.672\n",
      "[epoch: 49, i:    19] avg mini-batch loss: 0.671\n",
      "[epoch: 50, i:    19] avg mini-batch loss: 0.669\n",
      "[epoch: 51, i:    19] avg mini-batch loss: 0.668\n",
      "[epoch: 52, i:    19] avg mini-batch loss: 0.665\n",
      "[epoch: 53, i:    19] avg mini-batch loss: 0.667\n",
      "[epoch: 54, i:    19] avg mini-batch loss: 0.671\n",
      "[epoch: 55, i:    19] avg mini-batch loss: 0.672\n",
      "[epoch: 56, i:    19] avg mini-batch loss: 0.669\n",
      "[epoch: 57, i:    19] avg mini-batch loss: 0.662\n",
      "[epoch: 58, i:    19] avg mini-batch loss: 0.669\n",
      "[epoch: 59, i:    19] avg mini-batch loss: 0.665\n",
      "[epoch: 60, i:    19] avg mini-batch loss: 0.663\n",
      "[epoch: 61, i:    19] avg mini-batch loss: 0.659\n",
      "[epoch: 62, i:    19] avg mini-batch loss: 0.663\n",
      "[epoch: 63, i:    19] avg mini-batch loss: 0.661\n",
      "[epoch: 64, i:    19] avg mini-batch loss: 0.659\n",
      "[epoch: 65, i:    19] avg mini-batch loss: 0.667\n",
      "[epoch: 66, i:    19] avg mini-batch loss: 0.659\n",
      "[epoch: 67, i:    19] avg mini-batch loss: 0.656\n",
      "[epoch: 68, i:    19] avg mini-batch loss: 0.660\n",
      "[epoch: 69, i:    19] avg mini-batch loss: 0.663\n",
      "[epoch: 70, i:    19] avg mini-batch loss: 0.663\n",
      "[epoch: 71, i:    19] avg mini-batch loss: 0.664\n",
      "[epoch: 72, i:    19] avg mini-batch loss: 0.662\n",
      "[epoch: 73, i:    19] avg mini-batch loss: 0.657\n",
      "[epoch: 74, i:    19] avg mini-batch loss: 0.660\n",
      "[epoch: 75, i:    19] avg mini-batch loss: 0.651\n",
      "[epoch: 76, i:    19] avg mini-batch loss: 0.649\n",
      "[epoch: 77, i:    19] avg mini-batch loss: 0.648\n",
      "[epoch: 78, i:    19] avg mini-batch loss: 0.655\n",
      "[epoch: 79, i:    19] avg mini-batch loss: 0.666\n",
      "[epoch: 80, i:    19] avg mini-batch loss: 0.639\n",
      "[epoch: 81, i:    19] avg mini-batch loss: 0.643\n",
      "[epoch: 82, i:    19] avg mini-batch loss: 0.655\n",
      "[epoch: 83, i:    19] avg mini-batch loss: 0.655\n",
      "[epoch: 84, i:    19] avg mini-batch loss: 0.644\n",
      "[epoch: 85, i:    19] avg mini-batch loss: 0.638\n",
      "[epoch: 86, i:    19] avg mini-batch loss: 0.637\n",
      "[epoch: 87, i:    19] avg mini-batch loss: 0.636\n",
      "[epoch: 88, i:    19] avg mini-batch loss: 0.652\n",
      "[epoch: 89, i:    19] avg mini-batch loss: 0.646\n",
      "[epoch: 90, i:    19] avg mini-batch loss: 0.639\n",
      "[epoch: 91, i:    19] avg mini-batch loss: 0.646\n",
      "[epoch: 92, i:    19] avg mini-batch loss: 0.647\n",
      "[epoch: 93, i:    19] avg mini-batch loss: 0.638\n",
      "[epoch: 94, i:    19] avg mini-batch loss: 0.641\n",
      "[epoch: 95, i:    19] avg mini-batch loss: 0.635\n",
      "[epoch: 96, i:    19] avg mini-batch loss: 0.643\n",
      "[epoch: 97, i:    19] avg mini-batch loss: 0.637\n",
      "[epoch: 98, i:    19] avg mini-batch loss: 0.627\n",
      "[epoch: 99, i:    19] avg mini-batch loss: 0.630\n",
      "[epoch: 100, i:    19] avg mini-batch loss: 0.630\n",
      "[epoch: 101, i:    19] avg mini-batch loss: 0.611\n",
      "[epoch: 102, i:    19] avg mini-batch loss: 0.626\n",
      "[epoch: 103, i:    19] avg mini-batch loss: 0.639\n",
      "[epoch: 104, i:    19] avg mini-batch loss: 0.621\n",
      "[epoch: 105, i:    19] avg mini-batch loss: 0.622\n",
      "[epoch: 106, i:    19] avg mini-batch loss: 0.613\n",
      "[epoch: 107, i:    19] avg mini-batch loss: 0.620\n",
      "[epoch: 108, i:    19] avg mini-batch loss: 0.640\n",
      "[epoch: 109, i:    19] avg mini-batch loss: 0.618\n",
      "[epoch: 110, i:    19] avg mini-batch loss: 0.604\n",
      "[epoch: 111, i:    19] avg mini-batch loss: 0.617\n",
      "[epoch: 112, i:    19] avg mini-batch loss: 0.603\n",
      "[epoch: 113, i:    19] avg mini-batch loss: 0.610\n",
      "[epoch: 114, i:    19] avg mini-batch loss: 0.617\n",
      "[epoch: 115, i:    19] avg mini-batch loss: 0.604\n",
      "[epoch: 116, i:    19] avg mini-batch loss: 0.627\n",
      "[epoch: 117, i:    19] avg mini-batch loss: 0.624\n",
      "[epoch: 118, i:    19] avg mini-batch loss: 0.609\n",
      "[epoch: 119, i:    19] avg mini-batch loss: 0.606\n",
      "[epoch: 120, i:    19] avg mini-batch loss: 0.619\n",
      "[epoch: 121, i:    19] avg mini-batch loss: 0.601\n",
      "[epoch: 122, i:    19] avg mini-batch loss: 0.610\n",
      "[epoch: 123, i:    19] avg mini-batch loss: 0.603\n",
      "[epoch: 124, i:    19] avg mini-batch loss: 0.627\n",
      "[epoch: 125, i:    19] avg mini-batch loss: 0.595\n",
      "[epoch: 126, i:    19] avg mini-batch loss: 0.595\n",
      "[epoch: 127, i:    19] avg mini-batch loss: 0.596\n",
      "[epoch: 128, i:    19] avg mini-batch loss: 0.599\n",
      "[epoch: 129, i:    19] avg mini-batch loss: 0.586\n",
      "[epoch: 130, i:    19] avg mini-batch loss: 0.591\n",
      "[epoch: 131, i:    19] avg mini-batch loss: 0.588\n",
      "[epoch: 132, i:    19] avg mini-batch loss: 0.584\n",
      "[epoch: 133, i:    19] avg mini-batch loss: 0.569\n",
      "[epoch: 134, i:    19] avg mini-batch loss: 0.558\n",
      "[epoch: 135, i:    19] avg mini-batch loss: 0.573\n",
      "[epoch: 136, i:    19] avg mini-batch loss: 0.557\n",
      "[epoch: 137, i:    19] avg mini-batch loss: 0.564\n",
      "[epoch: 138, i:    19] avg mini-batch loss: 0.551\n",
      "[epoch: 139, i:    19] avg mini-batch loss: 0.572\n",
      "[epoch: 140, i:    19] avg mini-batch loss: 0.561\n",
      "[epoch: 141, i:    19] avg mini-batch loss: 0.565\n",
      "[epoch: 142, i:    19] avg mini-batch loss: 0.554\n",
      "[epoch: 143, i:    19] avg mini-batch loss: 0.544\n",
      "[epoch: 144, i:    19] avg mini-batch loss: 0.542\n",
      "[epoch: 145, i:    19] avg mini-batch loss: 0.537\n",
      "[epoch: 146, i:    19] avg mini-batch loss: 0.526\n",
      "[epoch: 147, i:    19] avg mini-batch loss: 0.562\n",
      "[epoch: 148, i:    19] avg mini-batch loss: 0.551\n",
      "[epoch: 149, i:    19] avg mini-batch loss: 0.534\n",
      "[epoch: 150, i:    19] avg mini-batch loss: 0.516\n",
      "[epoch: 151, i:    19] avg mini-batch loss: 0.537\n",
      "[epoch: 152, i:    19] avg mini-batch loss: 0.506\n",
      "[epoch: 153, i:    19] avg mini-batch loss: 0.522\n",
      "[epoch: 154, i:    19] avg mini-batch loss: 0.505\n",
      "[epoch: 155, i:    19] avg mini-batch loss: 0.511\n",
      "[epoch: 156, i:    19] avg mini-batch loss: 0.508\n",
      "[epoch: 157, i:    19] avg mini-batch loss: 0.496\n",
      "[epoch: 158, i:    19] avg mini-batch loss: 0.521\n",
      "[epoch: 159, i:    19] avg mini-batch loss: 0.484\n",
      "[epoch: 160, i:    19] avg mini-batch loss: 0.499\n",
      "[epoch: 161, i:    19] avg mini-batch loss: 0.486\n",
      "[epoch: 162, i:    19] avg mini-batch loss: 0.472\n",
      "[epoch: 163, i:    19] avg mini-batch loss: 0.456\n",
      "[epoch: 164, i:    19] avg mini-batch loss: 0.469\n",
      "[epoch: 165, i:    19] avg mini-batch loss: 0.489\n",
      "[epoch: 166, i:    19] avg mini-batch loss: 0.434\n"
     ]
    },
    {
     "name": "stdout",
     "output_type": "stream",
     "text": [
      "[epoch: 167, i:    19] avg mini-batch loss: 0.464\n",
      "[epoch: 168, i:    19] avg mini-batch loss: 0.460\n",
      "[epoch: 169, i:    19] avg mini-batch loss: 0.450\n",
      "[epoch: 170, i:    19] avg mini-batch loss: 0.430\n",
      "[epoch: 171, i:    19] avg mini-batch loss: 0.448\n",
      "[epoch: 172, i:    19] avg mini-batch loss: 0.418\n",
      "[epoch: 173, i:    19] avg mini-batch loss: 0.430\n",
      "[epoch: 174, i:    19] avg mini-batch loss: 0.424\n",
      "[epoch: 175, i:    19] avg mini-batch loss: 0.437\n",
      "[epoch: 176, i:    19] avg mini-batch loss: 0.418\n",
      "[epoch: 177, i:    19] avg mini-batch loss: 0.422\n",
      "[epoch: 178, i:    19] avg mini-batch loss: 0.430\n",
      "[epoch: 179, i:    19] avg mini-batch loss: 0.413\n",
      "[epoch: 180, i:    19] avg mini-batch loss: 0.394\n",
      "[epoch: 181, i:    19] avg mini-batch loss: 0.413\n",
      "[epoch: 182, i:    19] avg mini-batch loss: 0.390\n",
      "[epoch: 183, i:    19] avg mini-batch loss: 0.369\n",
      "[epoch: 184, i:    19] avg mini-batch loss: 0.385\n",
      "[epoch: 185, i:    19] avg mini-batch loss: 0.387\n",
      "[epoch: 186, i:    19] avg mini-batch loss: 0.404\n",
      "[epoch: 187, i:    19] avg mini-batch loss: 0.380\n",
      "[epoch: 188, i:    19] avg mini-batch loss: 0.365\n",
      "[epoch: 189, i:    19] avg mini-batch loss: 0.367\n",
      "[epoch: 190, i:    19] avg mini-batch loss: 0.376\n",
      "[epoch: 191, i:    19] avg mini-batch loss: 0.401\n",
      "[epoch: 192, i:    19] avg mini-batch loss: 0.358\n",
      "[epoch: 193, i:    19] avg mini-batch loss: 0.361\n",
      "[epoch: 194, i:    19] avg mini-batch loss: 0.371\n",
      "[epoch: 195, i:    19] avg mini-batch loss: 0.349\n",
      "[epoch: 196, i:    19] avg mini-batch loss: 0.348\n",
      "[epoch: 197, i:    19] avg mini-batch loss: 0.336\n",
      "[epoch: 198, i:    19] avg mini-batch loss: 0.359\n",
      "[epoch: 199, i:    19] avg mini-batch loss: 0.346\n",
      "[epoch: 200, i:    19] avg mini-batch loss: 0.300\n",
      "[epoch: 201, i:    19] avg mini-batch loss: 0.320\n",
      "[epoch: 202, i:    19] avg mini-batch loss: 0.282\n",
      "[epoch: 203, i:    19] avg mini-batch loss: 0.320\n",
      "[epoch: 204, i:    19] avg mini-batch loss: 0.309\n",
      "[epoch: 205, i:    19] avg mini-batch loss: 0.340\n",
      "[epoch: 206, i:    19] avg mini-batch loss: 0.325\n",
      "[epoch: 207, i:    19] avg mini-batch loss: 0.328\n",
      "[epoch: 208, i:    19] avg mini-batch loss: 0.319\n",
      "[epoch: 209, i:    19] avg mini-batch loss: 0.337\n",
      "[epoch: 210, i:    19] avg mini-batch loss: 0.425\n",
      "[epoch: 211, i:    19] avg mini-batch loss: 0.439\n",
      "[epoch: 212, i:    19] avg mini-batch loss: 0.482\n",
      "[epoch: 213, i:    19] avg mini-batch loss: 0.377\n",
      "[epoch: 214, i:    19] avg mini-batch loss: 0.447\n",
      "[epoch: 215, i:    19] avg mini-batch loss: 0.389\n",
      "[epoch: 216, i:    19] avg mini-batch loss: 0.422\n",
      "[epoch: 217, i:    19] avg mini-batch loss: 0.368\n",
      "[epoch: 218, i:    19] avg mini-batch loss: 0.360\n",
      "[epoch: 219, i:    19] avg mini-batch loss: 0.358\n",
      "[epoch: 220, i:    19] avg mini-batch loss: 0.292\n",
      "[epoch: 221, i:    19] avg mini-batch loss: 0.340\n",
      "[epoch: 222, i:    19] avg mini-batch loss: 0.320\n",
      "[epoch: 223, i:    19] avg mini-batch loss: 0.300\n",
      "[epoch: 224, i:    19] avg mini-batch loss: 0.312\n",
      "[epoch: 225, i:    19] avg mini-batch loss: 0.333\n",
      "[epoch: 226, i:    19] avg mini-batch loss: 0.330\n",
      "[epoch: 227, i:    19] avg mini-batch loss: 0.330\n",
      "[epoch: 228, i:    19] avg mini-batch loss: 0.263\n",
      "[epoch: 229, i:    19] avg mini-batch loss: 0.305\n",
      "[epoch: 230, i:    19] avg mini-batch loss: 0.308\n",
      "[epoch: 231, i:    19] avg mini-batch loss: 0.267\n",
      "[epoch: 232, i:    19] avg mini-batch loss: 0.305\n",
      "[epoch: 233, i:    19] avg mini-batch loss: 0.322\n",
      "[epoch: 234, i:    19] avg mini-batch loss: 0.304\n",
      "[epoch: 235, i:    19] avg mini-batch loss: 0.274\n",
      "[epoch: 236, i:    19] avg mini-batch loss: 0.295\n",
      "[epoch: 237, i:    19] avg mini-batch loss: 0.253\n",
      "[epoch: 238, i:    19] avg mini-batch loss: 0.281\n",
      "[epoch: 239, i:    19] avg mini-batch loss: 0.274\n",
      "[epoch: 240, i:    19] avg mini-batch loss: 0.241\n",
      "[epoch: 241, i:    19] avg mini-batch loss: 0.260\n",
      "[epoch: 242, i:    19] avg mini-batch loss: 0.258\n",
      "[epoch: 243, i:    19] avg mini-batch loss: 0.249\n",
      "[epoch: 244, i:    19] avg mini-batch loss: 0.244\n",
      "[epoch: 245, i:    19] avg mini-batch loss: 0.227\n",
      "[epoch: 246, i:    19] avg mini-batch loss: 0.258\n",
      "[epoch: 247, i:    19] avg mini-batch loss: 0.280\n",
      "[epoch: 248, i:    19] avg mini-batch loss: 0.231\n",
      "[epoch: 249, i:    19] avg mini-batch loss: 0.243\n",
      "[epoch: 250, i:    19] avg mini-batch loss: 0.226\n",
      "[epoch: 251, i:    19] avg mini-batch loss: 0.194\n",
      "[epoch: 252, i:    19] avg mini-batch loss: 0.210\n",
      "[epoch: 253, i:    19] avg mini-batch loss: 0.224\n",
      "[epoch: 254, i:    19] avg mini-batch loss: 0.227\n",
      "[epoch: 255, i:    19] avg mini-batch loss: 0.217\n",
      "[epoch: 256, i:    19] avg mini-batch loss: 0.245\n",
      "[epoch: 257, i:    19] avg mini-batch loss: 0.245\n",
      "[epoch: 258, i:    19] avg mini-batch loss: 0.207\n",
      "[epoch: 259, i:    19] avg mini-batch loss: 0.189\n",
      "[epoch: 260, i:    19] avg mini-batch loss: 0.225\n",
      "[epoch: 261, i:    19] avg mini-batch loss: 0.217\n",
      "[epoch: 262, i:    19] avg mini-batch loss: 0.200\n",
      "[epoch: 263, i:    19] avg mini-batch loss: 0.204\n",
      "[epoch: 264, i:    19] avg mini-batch loss: 0.186\n",
      "[epoch: 265, i:    19] avg mini-batch loss: 0.194\n",
      "[epoch: 266, i:    19] avg mini-batch loss: 0.202\n",
      "[epoch: 267, i:    19] avg mini-batch loss: 0.196\n",
      "[epoch: 268, i:    19] avg mini-batch loss: 0.199\n",
      "[epoch: 269, i:    19] avg mini-batch loss: 0.199\n",
      "[epoch: 270, i:    19] avg mini-batch loss: 0.180\n",
      "[epoch: 271, i:    19] avg mini-batch loss: 0.193\n",
      "[epoch: 272, i:    19] avg mini-batch loss: 0.184\n",
      "[epoch: 273, i:    19] avg mini-batch loss: 0.186\n",
      "[epoch: 274, i:    19] avg mini-batch loss: 0.178\n",
      "[epoch: 275, i:    19] avg mini-batch loss: 0.172\n",
      "[epoch: 276, i:    19] avg mini-batch loss: 0.167\n",
      "[epoch: 277, i:    19] avg mini-batch loss: 0.217\n",
      "[epoch: 278, i:    19] avg mini-batch loss: 0.199\n",
      "[epoch: 279, i:    19] avg mini-batch loss: 0.182\n",
      "[epoch: 280, i:    19] avg mini-batch loss: 0.178\n",
      "[epoch: 281, i:    19] avg mini-batch loss: 0.176\n",
      "[epoch: 282, i:    19] avg mini-batch loss: 0.189\n",
      "[epoch: 283, i:    19] avg mini-batch loss: 0.187\n",
      "[epoch: 284, i:    19] avg mini-batch loss: 0.166\n",
      "[epoch: 285, i:    19] avg mini-batch loss: 0.175\n",
      "[epoch: 286, i:    19] avg mini-batch loss: 0.170\n",
      "[epoch: 287, i:    19] avg mini-batch loss: 0.172\n",
      "[epoch: 288, i:    19] avg mini-batch loss: 0.169\n",
      "[epoch: 289, i:    19] avg mini-batch loss: 0.182\n",
      "[epoch: 290, i:    19] avg mini-batch loss: 0.144\n",
      "[epoch: 291, i:    19] avg mini-batch loss: 0.177\n",
      "[epoch: 292, i:    19] avg mini-batch loss: 0.143\n",
      "[epoch: 293, i:    19] avg mini-batch loss: 0.186\n",
      "[epoch: 294, i:    19] avg mini-batch loss: 0.148\n",
      "[epoch: 295, i:    19] avg mini-batch loss: 0.154\n",
      "[epoch: 296, i:    19] avg mini-batch loss: 0.186\n",
      "[epoch: 297, i:    19] avg mini-batch loss: 0.179\n",
      "[epoch: 298, i:    19] avg mini-batch loss: 0.179\n",
      "[epoch: 299, i:    19] avg mini-batch loss: 0.191\n",
      "[epoch: 300, i:    19] avg mini-batch loss: 0.137\n",
      "[epoch: 301, i:    19] avg mini-batch loss: 0.170\n",
      "[epoch: 302, i:    19] avg mini-batch loss: 0.151\n",
      "[epoch: 303, i:    19] avg mini-batch loss: 0.174\n",
      "[epoch: 304, i:    19] avg mini-batch loss: 0.162\n",
      "[epoch: 305, i:    19] avg mini-batch loss: 0.156\n",
      "[epoch: 306, i:    19] avg mini-batch loss: 0.159\n",
      "[epoch: 307, i:    19] avg mini-batch loss: 0.155\n",
      "[epoch: 308, i:    19] avg mini-batch loss: 0.149\n",
      "[epoch: 309, i:    19] avg mini-batch loss: 0.159\n",
      "[epoch: 310, i:    19] avg mini-batch loss: 0.155\n",
      "[epoch: 311, i:    19] avg mini-batch loss: 0.160\n",
      "[epoch: 312, i:    19] avg mini-batch loss: 0.165\n",
      "[epoch: 313, i:    19] avg mini-batch loss: 0.148\n",
      "[epoch: 314, i:    19] avg mini-batch loss: 0.151\n",
      "[epoch: 315, i:    19] avg mini-batch loss: 0.163\n",
      "[epoch: 316, i:    19] avg mini-batch loss: 0.165\n",
      "[epoch: 317, i:    19] avg mini-batch loss: 0.118\n",
      "[epoch: 318, i:    19] avg mini-batch loss: 0.136\n",
      "[epoch: 319, i:    19] avg mini-batch loss: 0.140\n",
      "[epoch: 320, i:    19] avg mini-batch loss: 0.140\n",
      "[epoch: 321, i:    19] avg mini-batch loss: 0.120\n",
      "[epoch: 322, i:    19] avg mini-batch loss: 0.130\n",
      "[epoch: 323, i:    19] avg mini-batch loss: 0.157\n",
      "[epoch: 324, i:    19] avg mini-batch loss: 0.148\n",
      "[epoch: 325, i:    19] avg mini-batch loss: 0.152\n",
      "[epoch: 326, i:    19] avg mini-batch loss: 0.171\n",
      "[epoch: 327, i:    19] avg mini-batch loss: 0.153\n",
      "[epoch: 328, i:    19] avg mini-batch loss: 0.149\n",
      "[epoch: 329, i:    19] avg mini-batch loss: 0.126\n",
      "[epoch: 330, i:    19] avg mini-batch loss: 0.151\n"
     ]
    },
    {
     "name": "stdout",
     "output_type": "stream",
     "text": [
      "[epoch: 331, i:    19] avg mini-batch loss: 0.129\n",
      "[epoch: 332, i:    19] avg mini-batch loss: 0.131\n",
      "[epoch: 333, i:    19] avg mini-batch loss: 0.172\n",
      "[epoch: 334, i:    19] avg mini-batch loss: 0.135\n",
      "[epoch: 335, i:    19] avg mini-batch loss: 0.163\n",
      "[epoch: 336, i:    19] avg mini-batch loss: 0.137\n",
      "[epoch: 337, i:    19] avg mini-batch loss: 0.138\n",
      "[epoch: 338, i:    19] avg mini-batch loss: 0.178\n",
      "[epoch: 339, i:    19] avg mini-batch loss: 0.155\n",
      "[epoch: 340, i:    19] avg mini-batch loss: 0.147\n",
      "[epoch: 341, i:    19] avg mini-batch loss: 0.124\n",
      "[epoch: 342, i:    19] avg mini-batch loss: 0.139\n",
      "[epoch: 343, i:    19] avg mini-batch loss: 0.131\n",
      "[epoch: 344, i:    19] avg mini-batch loss: 0.130\n",
      "[epoch: 345, i:    19] avg mini-batch loss: 0.135\n",
      "[epoch: 346, i:    19] avg mini-batch loss: 0.132\n",
      "[epoch: 347, i:    19] avg mini-batch loss: 0.132\n",
      "[epoch: 348, i:    19] avg mini-batch loss: 0.136\n",
      "[epoch: 349, i:    19] avg mini-batch loss: 0.132\n",
      "[epoch: 350, i:    19] avg mini-batch loss: 0.184\n",
      "[epoch: 351, i:    19] avg mini-batch loss: 0.120\n",
      "[epoch: 352, i:    19] avg mini-batch loss: 0.133\n",
      "[epoch: 353, i:    19] avg mini-batch loss: 0.128\n",
      "[epoch: 354, i:    19] avg mini-batch loss: 0.165\n",
      "[epoch: 355, i:    19] avg mini-batch loss: 0.114\n",
      "[epoch: 356, i:    19] avg mini-batch loss: 0.144\n",
      "[epoch: 357, i:    19] avg mini-batch loss: 0.127\n",
      "[epoch: 358, i:    19] avg mini-batch loss: 0.125\n",
      "[epoch: 359, i:    19] avg mini-batch loss: 0.152\n",
      "[epoch: 360, i:    19] avg mini-batch loss: 0.109\n",
      "[epoch: 361, i:    19] avg mini-batch loss: 0.098\n",
      "[epoch: 362, i:    19] avg mini-batch loss: 0.113\n",
      "[epoch: 363, i:    19] avg mini-batch loss: 0.095\n",
      "[epoch: 364, i:    19] avg mini-batch loss: 0.125\n",
      "[epoch: 365, i:    19] avg mini-batch loss: 0.119\n",
      "[epoch: 366, i:    19] avg mini-batch loss: 0.139\n",
      "[epoch: 367, i:    19] avg mini-batch loss: 0.128\n",
      "[epoch: 368, i:    19] avg mini-batch loss: 0.132\n",
      "[epoch: 369, i:    19] avg mini-batch loss: 0.107\n",
      "[epoch: 370, i:    19] avg mini-batch loss: 0.128\n",
      "[epoch: 371, i:    19] avg mini-batch loss: 0.166\n",
      "[epoch: 372, i:    19] avg mini-batch loss: 0.132\n",
      "[epoch: 373, i:    19] avg mini-batch loss: 0.126\n",
      "[epoch: 374, i:    19] avg mini-batch loss: 0.144\n",
      "[epoch: 375, i:    19] avg mini-batch loss: 0.136\n",
      "[epoch: 376, i:    19] avg mini-batch loss: 0.104\n",
      "[epoch: 377, i:    19] avg mini-batch loss: 0.122\n",
      "[epoch: 378, i:    19] avg mini-batch loss: 0.142\n",
      "[epoch: 379, i:    19] avg mini-batch loss: 0.130\n",
      "[epoch: 380, i:    19] avg mini-batch loss: 0.138\n",
      "[epoch: 381, i:    19] avg mini-batch loss: 0.125\n",
      "[epoch: 382, i:    19] avg mini-batch loss: 0.107\n",
      "[epoch: 383, i:    19] avg mini-batch loss: 0.126\n",
      "[epoch: 384, i:    19] avg mini-batch loss: 0.143\n",
      "[epoch: 385, i:    19] avg mini-batch loss: 0.117\n",
      "[epoch: 386, i:    19] avg mini-batch loss: 0.122\n",
      "[epoch: 387, i:    19] avg mini-batch loss: 0.132\n",
      "[epoch: 388, i:    19] avg mini-batch loss: 0.137\n",
      "[epoch: 389, i:    19] avg mini-batch loss: 0.113\n",
      "[epoch: 390, i:    19] avg mini-batch loss: 0.132\n",
      "[epoch: 391, i:    19] avg mini-batch loss: 0.127\n",
      "[epoch: 392, i:    19] avg mini-batch loss: 0.123\n",
      "[epoch: 393, i:    19] avg mini-batch loss: 0.121\n",
      "[epoch: 394, i:    19] avg mini-batch loss: 0.124\n",
      "[epoch: 395, i:    19] avg mini-batch loss: 0.122\n",
      "[epoch: 396, i:    19] avg mini-batch loss: 0.105\n",
      "[epoch: 397, i:    19] avg mini-batch loss: 0.120\n",
      "[epoch: 398, i:    19] avg mini-batch loss: 0.121\n",
      "[epoch: 399, i:    19] avg mini-batch loss: 0.078\n",
      "[epoch: 400, i:    19] avg mini-batch loss: 0.125\n",
      "[epoch: 401, i:    19] avg mini-batch loss: 0.096\n",
      "[epoch: 402, i:    19] avg mini-batch loss: 0.108\n",
      "[epoch: 403, i:    19] avg mini-batch loss: 0.081\n",
      "[epoch: 404, i:    19] avg mini-batch loss: 0.122\n",
      "[epoch: 405, i:    19] avg mini-batch loss: 0.126\n",
      "[epoch: 406, i:    19] avg mini-batch loss: 0.122\n",
      "[epoch: 407, i:    19] avg mini-batch loss: 0.121\n",
      "[epoch: 408, i:    19] avg mini-batch loss: 0.119\n",
      "[epoch: 409, i:    19] avg mini-batch loss: 0.105\n",
      "[epoch: 410, i:    19] avg mini-batch loss: 0.099\n",
      "[epoch: 411, i:    19] avg mini-batch loss: 0.123\n",
      "[epoch: 412, i:    19] avg mini-batch loss: 0.095\n",
      "[epoch: 413, i:    19] avg mini-batch loss: 0.112\n",
      "[epoch: 414, i:    19] avg mini-batch loss: 0.126\n",
      "[epoch: 415, i:    19] avg mini-batch loss: 0.104\n",
      "[epoch: 416, i:    19] avg mini-batch loss: 0.142\n",
      "[epoch: 417, i:    19] avg mini-batch loss: 0.129\n",
      "[epoch: 418, i:    19] avg mini-batch loss: 0.123\n",
      "[epoch: 419, i:    19] avg mini-batch loss: 0.109\n",
      "[epoch: 420, i:    19] avg mini-batch loss: 0.083\n",
      "[epoch: 421, i:    19] avg mini-batch loss: 0.087\n",
      "[epoch: 422, i:    19] avg mini-batch loss: 0.090\n",
      "[epoch: 423, i:    19] avg mini-batch loss: 0.107\n",
      "[epoch: 424, i:    19] avg mini-batch loss: 0.095\n",
      "[epoch: 425, i:    19] avg mini-batch loss: 0.107\n",
      "[epoch: 426, i:    19] avg mini-batch loss: 0.088\n",
      "[epoch: 427, i:    19] avg mini-batch loss: 0.097\n",
      "[epoch: 428, i:    19] avg mini-batch loss: 0.088\n",
      "[epoch: 429, i:    19] avg mini-batch loss: 0.100\n",
      "[epoch: 430, i:    19] avg mini-batch loss: 0.090\n",
      "[epoch: 431, i:    19] avg mini-batch loss: 0.103\n",
      "[epoch: 432, i:    19] avg mini-batch loss: 0.147\n",
      "[epoch: 433, i:    19] avg mini-batch loss: 0.093\n",
      "[epoch: 434, i:    19] avg mini-batch loss: 0.096\n",
      "[epoch: 435, i:    19] avg mini-batch loss: 0.099\n",
      "[epoch: 436, i:    19] avg mini-batch loss: 0.129\n",
      "[epoch: 437, i:    19] avg mini-batch loss: 0.087\n",
      "[epoch: 438, i:    19] avg mini-batch loss: 0.103\n",
      "[epoch: 439, i:    19] avg mini-batch loss: 0.104\n",
      "[epoch: 440, i:    19] avg mini-batch loss: 0.118\n",
      "[epoch: 441, i:    19] avg mini-batch loss: 0.118\n",
      "[epoch: 442, i:    19] avg mini-batch loss: 0.090\n",
      "[epoch: 443, i:    19] avg mini-batch loss: 0.074\n",
      "[epoch: 444, i:    19] avg mini-batch loss: 0.090\n",
      "[epoch: 445, i:    19] avg mini-batch loss: 0.098\n",
      "[epoch: 446, i:    19] avg mini-batch loss: 0.098\n",
      "[epoch: 447, i:    19] avg mini-batch loss: 0.104\n",
      "[epoch: 448, i:    19] avg mini-batch loss: 0.087\n",
      "[epoch: 449, i:    19] avg mini-batch loss: 0.133\n",
      "[epoch: 450, i:    19] avg mini-batch loss: 0.096\n",
      "[epoch: 451, i:    19] avg mini-batch loss: 0.107\n",
      "[epoch: 452, i:    19] avg mini-batch loss: 0.112\n",
      "[epoch: 453, i:    19] avg mini-batch loss: 0.100\n",
      "[epoch: 454, i:    19] avg mini-batch loss: 0.093\n",
      "[epoch: 455, i:    19] avg mini-batch loss: 0.114\n",
      "[epoch: 456, i:    19] avg mini-batch loss: 0.067\n",
      "[epoch: 457, i:    19] avg mini-batch loss: 0.093\n",
      "[epoch: 458, i:    19] avg mini-batch loss: 0.085\n",
      "[epoch: 459, i:    19] avg mini-batch loss: 0.115\n",
      "[epoch: 460, i:    19] avg mini-batch loss: 0.102\n",
      "[epoch: 461, i:    19] avg mini-batch loss: 0.090\n",
      "[epoch: 462, i:    19] avg mini-batch loss: 0.075\n",
      "[epoch: 463, i:    19] avg mini-batch loss: 0.107\n",
      "[epoch: 464, i:    19] avg mini-batch loss: 0.110\n",
      "[epoch: 465, i:    19] avg mini-batch loss: 0.080\n",
      "[epoch: 466, i:    19] avg mini-batch loss: 0.115\n",
      "[epoch: 467, i:    19] avg mini-batch loss: 0.081\n",
      "[epoch: 468, i:    19] avg mini-batch loss: 0.090\n",
      "[epoch: 469, i:    19] avg mini-batch loss: 0.093\n",
      "[epoch: 470, i:    19] avg mini-batch loss: 0.121\n",
      "[epoch: 471, i:    19] avg mini-batch loss: 0.106\n",
      "[epoch: 472, i:    19] avg mini-batch loss: 0.091\n",
      "[epoch: 473, i:    19] avg mini-batch loss: 0.095\n",
      "[epoch: 474, i:    19] avg mini-batch loss: 0.126\n",
      "[epoch: 475, i:    19] avg mini-batch loss: 0.090\n",
      "[epoch: 476, i:    19] avg mini-batch loss: 0.065\n",
      "[epoch: 477, i:    19] avg mini-batch loss: 0.087\n",
      "[epoch: 478, i:    19] avg mini-batch loss: 0.088\n",
      "[epoch: 479, i:    19] avg mini-batch loss: 0.084\n",
      "[epoch: 480, i:    19] avg mini-batch loss: 0.123\n",
      "[epoch: 481, i:    19] avg mini-batch loss: 0.108\n",
      "[epoch: 482, i:    19] avg mini-batch loss: 0.111\n",
      "[epoch: 483, i:    19] avg mini-batch loss: 0.084\n",
      "[epoch: 484, i:    19] avg mini-batch loss: 0.113\n",
      "[epoch: 485, i:    19] avg mini-batch loss: 0.080\n"
     ]
    },
    {
     "ename": "KeyboardInterrupt",
     "evalue": "",
     "output_type": "error",
     "traceback": [
      "\u001b[0;31m---------------------------------------------------------------------------\u001b[0m",
      "\u001b[0;31mKeyboardInterrupt\u001b[0m                         Traceback (most recent call last)",
      "\u001b[0;32m<ipython-input-25-50e0bfe56686>\u001b[0m in \u001b[0;36m<module>\u001b[0;34m\u001b[0m\n\u001b[1;32m     16\u001b[0m         \u001b[0moutputs\u001b[0m \u001b[0;34m=\u001b[0m \u001b[0mnet\u001b[0m\u001b[0;34m(\u001b[0m\u001b[0minputs\u001b[0m\u001b[0;34m)\u001b[0m\u001b[0;34m\u001b[0m\u001b[0;34m\u001b[0m\u001b[0m\n\u001b[1;32m     17\u001b[0m         \u001b[0mloss\u001b[0m \u001b[0;34m=\u001b[0m \u001b[0mloss_func\u001b[0m\u001b[0;34m(\u001b[0m\u001b[0moutputs\u001b[0m\u001b[0;34m,\u001b[0m \u001b[0mlabels\u001b[0m\u001b[0;34m)\u001b[0m\u001b[0;34m\u001b[0m\u001b[0;34m\u001b[0m\u001b[0m\n\u001b[0;32m---> 18\u001b[0;31m         \u001b[0mloss\u001b[0m\u001b[0;34m.\u001b[0m\u001b[0mbackward\u001b[0m\u001b[0;34m(\u001b[0m\u001b[0;34m)\u001b[0m\u001b[0;34m\u001b[0m\u001b[0;34m\u001b[0m\u001b[0m\n\u001b[0m\u001b[1;32m     19\u001b[0m         \u001b[0mopt\u001b[0m\u001b[0;34m.\u001b[0m\u001b[0mstep\u001b[0m\u001b[0;34m(\u001b[0m\u001b[0;34m)\u001b[0m\u001b[0;34m\u001b[0m\u001b[0;34m\u001b[0m\u001b[0m\n\u001b[1;32m     20\u001b[0m         \u001b[0mrunning_loss\u001b[0m \u001b[0;34m+=\u001b[0m \u001b[0mloss\u001b[0m\u001b[0;34m.\u001b[0m\u001b[0mitem\u001b[0m\u001b[0;34m(\u001b[0m\u001b[0;34m)\u001b[0m\u001b[0;34m\u001b[0m\u001b[0;34m\u001b[0m\u001b[0m\n",
      "\u001b[0;32m/anaconda3/lib/python3.6/site-packages/torch/tensor.py\u001b[0m in \u001b[0;36mbackward\u001b[0;34m(self, gradient, retain_graph, create_graph)\u001b[0m\n\u001b[1;32m    100\u001b[0m                 \u001b[0mproducts\u001b[0m\u001b[0;34m.\u001b[0m \u001b[0mDefaults\u001b[0m \u001b[0mto\u001b[0m\u001b[0;31m \u001b[0m\u001b[0;31m`\u001b[0m\u001b[0;31m`\u001b[0m\u001b[0;32mFalse\u001b[0m\u001b[0;31m`\u001b[0m\u001b[0;31m`\u001b[0m\u001b[0;34m.\u001b[0m\u001b[0;34m\u001b[0m\u001b[0;34m\u001b[0m\u001b[0m\n\u001b[1;32m    101\u001b[0m         \"\"\"\n\u001b[0;32m--> 102\u001b[0;31m         \u001b[0mtorch\u001b[0m\u001b[0;34m.\u001b[0m\u001b[0mautograd\u001b[0m\u001b[0;34m.\u001b[0m\u001b[0mbackward\u001b[0m\u001b[0;34m(\u001b[0m\u001b[0mself\u001b[0m\u001b[0;34m,\u001b[0m \u001b[0mgradient\u001b[0m\u001b[0;34m,\u001b[0m \u001b[0mretain_graph\u001b[0m\u001b[0;34m,\u001b[0m \u001b[0mcreate_graph\u001b[0m\u001b[0;34m)\u001b[0m\u001b[0;34m\u001b[0m\u001b[0;34m\u001b[0m\u001b[0m\n\u001b[0m\u001b[1;32m    103\u001b[0m \u001b[0;34m\u001b[0m\u001b[0m\n\u001b[1;32m    104\u001b[0m     \u001b[0;32mdef\u001b[0m \u001b[0mregister_hook\u001b[0m\u001b[0;34m(\u001b[0m\u001b[0mself\u001b[0m\u001b[0;34m,\u001b[0m \u001b[0mhook\u001b[0m\u001b[0;34m)\u001b[0m\u001b[0;34m:\u001b[0m\u001b[0;34m\u001b[0m\u001b[0;34m\u001b[0m\u001b[0m\n",
      "\u001b[0;32m/anaconda3/lib/python3.6/site-packages/torch/autograd/__init__.py\u001b[0m in \u001b[0;36mbackward\u001b[0;34m(tensors, grad_tensors, retain_graph, create_graph, grad_variables)\u001b[0m\n\u001b[1;32m     88\u001b[0m     Variable._execution_engine.run_backward(\n\u001b[1;32m     89\u001b[0m         \u001b[0mtensors\u001b[0m\u001b[0;34m,\u001b[0m \u001b[0mgrad_tensors\u001b[0m\u001b[0;34m,\u001b[0m \u001b[0mretain_graph\u001b[0m\u001b[0;34m,\u001b[0m \u001b[0mcreate_graph\u001b[0m\u001b[0;34m,\u001b[0m\u001b[0;34m\u001b[0m\u001b[0;34m\u001b[0m\u001b[0m\n\u001b[0;32m---> 90\u001b[0;31m         allow_unreachable=True)  # allow_unreachable flag\n\u001b[0m\u001b[1;32m     91\u001b[0m \u001b[0;34m\u001b[0m\u001b[0m\n\u001b[1;32m     92\u001b[0m \u001b[0;34m\u001b[0m\u001b[0m\n",
      "\u001b[0;31mKeyboardInterrupt\u001b[0m: "
     ]
    }
   ],
   "source": [
    "loss_func = nn.CrossEntropyLoss()\n",
    "#opt = torch.optim.Adam(net.parameters(), lr= 0.001)\n",
    "#opt = torch.optim.Adamax(net.parameters(), lr=0.01)\n",
    "opt = optim.SGD(net.parameters(), lr=0.01, momentum=0.9)\n",
    "#opt = torch.optim.Adagrad(net.parameters(), lr=0.0)\n",
    "avg_losses = [] \n",
    "epochs = 450\n",
    "print_freq = 20\n",
    "for epoch in range(epochs):\n",
    "    running_loss = 0.0\n",
    "    for i, data in enumerate(trainloader, 0):\n",
    "        inputs, labels = data\n",
    "        inputs = inputs.permute(0, 3, 1, 2)\n",
    "        inputs, labels = inputs.to(device), labels.to(device)\n",
    "        opt.zero_grad()\n",
    "        outputs = net(inputs)\n",
    "        loss = loss_func(outputs, labels)\n",
    "        loss.backward()\n",
    "        opt.step()\n",
    "        running_loss += loss.item()\n",
    "        if i % print_freq == print_freq - 1:\n",
    "            avg_loss = running_loss / print_freq\n",
    "            print('[epoch: {}, i: {:5d}] avg mini-batch loss: {:.3f}'.format(epoch, i, avg_loss))\n",
    "            avg_losses.append(avg_loss)\n",
    "            running_loss = 0.0\n",
    "print('Finished Training.')"
   ]
  },
  {
   "cell_type": "code",
   "execution_count": 26,
   "metadata": {},
   "outputs": [
    {
     "data": {
      "image/png": "[encoded data removed]",
      "text/plain": [
       "<Figure size 432x288 with 1 Axes>"
      ]
     },
     "metadata": {
      "needs_background": "light"
     },
     "output_type": "display_data"
    }
   ],
   "source": [
    "plt.plot(avg_losses)\n",
    "plt.xlabel('mini-batch index / {}'.format(print_freq))\n",
    "plt.ylabel('avg. mini-batch loss')\n",
    "plt.show()"
   ]
  },
  {
   "cell_type": "code",
   "execution_count": 27,
   "metadata": {},
   "outputs": [
    {
     "name": "stdout",
     "output_type": "stream",
     "text": [
      "40\n",
      "Accuracy of the network on the 40 test images: 80 %\n",
      "Accuracy of Positive : 68 %\n",
      "Accuracy of Negative : 90 %\n"
     ]
    },
    {
     "name": "stderr",
     "output_type": "stream",
     "text": [
      "/anaconda3/lib/python3.6/site-packages/ipykernel_launcher.py:30: UserWarning: To copy construct from a tensor, it is recommended to use sourceTensor.clone().detach() or sourceTensor.clone().detach().requires_grad_(True), rather than torch.tensor(sourceTensor).\n"
     ]
    }
   ],
   "source": [
    "net.eval()\n",
    "correct = 0\n",
    "total = 0\n",
    "with torch.no_grad():\n",
    "    for data in testloader:\n",
    "        images, labels = data\n",
    "        images = images.permute(0, 3, 1, 2)\n",
    "        images = images.to(device)\n",
    "        labels = labels.to(device)\n",
    "        outputs = net(images)\n",
    "        _, predicted = torch.max(outputs.data, 1)\n",
    "        total += labels.size(0)\n",
    "        correct += (predicted == labels).sum().item()\n",
    "print(total)\n",
    "print('Accuracy of the network on the 40 test images: %d %%' % (100 * correct / total))\n",
    "# Get test accuracy for each class.\n",
    "class_correct = list(0. for i in range(10))\n",
    "class_total = list(0. for i in range(10))\n",
    "with torch.no_grad():\n",
    "    for data in testloader:\n",
    "        images, labels = data\n",
    "        images = images.permute(0, 3, 1, 2)\n",
    "        images, labels = images.to(device), labels.to(device)\n",
    "        outputs = net(images)\n",
    "        one = torch.tensor(1, dtype=torch.float, device=device)\n",
    "        _, predicted = torch.max(outputs, 1)\n",
    "        c = (predicted == labels).squeeze()\n",
    "        for i in range(40):\n",
    "            label = labels[i]\n",
    "            labels = torch.tensor(labels, dtype=torch.long, device=device)\n",
    "            class_correct[label] += c[i].item()\n",
    "            class_total[label] += 1\n",
    "for i in range(2):\n",
    "    print('Accuracy of %5s : %2d %%' % (classes[i], 100 * class_correct[i] / class_total[i]))"
   ]
  },
  {
   "cell_type": "code",
   "execution_count": 28,
   "metadata": {},
   "outputs": [
    {
     "name": "stdout",
     "output_type": "stream",
     "text": [
      "1240\n",
      "Accuracy of the network on the 1240 training images: 100 %\n"
     ]
    },
    {
     "name": "stderr",
     "output_type": "stream",
     "text": [
      "/anaconda3/lib/python3.6/site-packages/ipykernel_launcher.py:30: UserWarning: To copy construct from a tensor, it is recommended to use sourceTensor.clone().detach() or sourceTensor.clone().detach().requires_grad_(True), rather than torch.tensor(sourceTensor).\n"
     ]
    },
    {
     "name": "stdout",
     "output_type": "stream",
     "text": [
      "Accuracy of Positive : 100 %\n",
      "Accuracy of Negative : 100 %\n"
     ]
    }
   ],
   "source": [
    "net.eval()\n",
    "correct = 0\n",
    "total = 0\n",
    "with torch.no_grad():\n",
    "    for data in trainloader:\n",
    "        images, labels = data\n",
    "        images = images.permute(0, 3, 1, 2)\n",
    "        images = images.to(device)\n",
    "        labels = labels.to(device)\n",
    "        outputs = net(images)\n",
    "        _, predicted = torch.max(outputs.data, 1)\n",
    "        total += labels.size(0)\n",
    "        correct += (predicted == labels).sum().item()\n",
    "print(total)\n",
    "print('Accuracy of the network on the 1240 training images: %d %%' % (100 * correct / total))\n",
    "# Get test accuracy for each class.\n",
    "class_correct = list(0. for i in range(10))\n",
    "class_total = list(0. for i in range(10))\n",
    "with torch.no_grad():\n",
    "    for data in trainloader:\n",
    "        images, labels = data\n",
    "        images = images.permute(0, 3, 1, 2)\n",
    "        images, labels = images.to(device), labels.to(device)\n",
    "        outputs = net(images)\n",
    "        one = torch.tensor(1, dtype=torch.float, device=device)\n",
    "        _, predicted = torch.max(outputs, 1)\n",
    "        c = (predicted == labels).squeeze()\n",
    "        for i in range(40):\n",
    "            label = labels[i]\n",
    "            labels = torch.tensor(labels, dtype=torch.long, device=device)\n",
    "            class_correct[label] += c[i].item()\n",
    "            class_total[label] += 1\n",
    "for i in range(2):\n",
    "    print('Accuracy of %5s : %2d %%' % (classes[i], 100 * class_correct[i] / class_total[i]))"
   ]
  },
  {
   "cell_type": "code",
   "execution_count": null,
   "metadata": {},
   "outputs": [],
   "source": [
    "'''\n",
    "kernal size 3*3\n",
    "step size = 1\n",
    "maximum pooled layer of 2*2\n",
    "step size = 2\n",
    "learning rate = 0.0001\n",
    "batch size = 63\n",
    "dropout rate = 0.5\n",
    "k-fold: 5-fold cross validation\n",
    "'''"
   ]
  },
  {
   "cell_type": "code",
   "execution_count": null,
   "metadata": {},
   "outputs": [],
   "source": []
  }
 ],
 "metadata": {
  "kernelspec": {
   "display_name": "Python 3",
   "language": "python",
   "name": "python3"
  },
  "language_info": {
   "codemirror_mode": {
    "name": "ipython",
    "version": 3
   },
   "file_extension": ".py",
   "mimetype": "text/x-python",
   "name": "python",
   "nbconvert_exporter": "python",
   "pygments_lexer": "ipython3",
   "version": "3.6.8"
  }
 },
 "nbformat": 4,
 "nbformat_minor": 2
}
