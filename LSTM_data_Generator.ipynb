{
 "cells": [
  {
   "cell_type": "code",
   "execution_count": 39,
   "metadata": {},
   "outputs": [],
   "source": [
    "import sys, os\n",
    "old = sys.stdout\n",
    "def blockPrint():\n",
    "    sys.stdout = open(os.devnull, 'w')\n",
    "\n",
    "def enablePrint():\n",
    "    sys.stdout = old"
   ]
  },
  {
   "cell_type": "code",
   "execution_count": 51,
   "metadata": {},
   "outputs": [],
   "source": [
    "import scipy.io as sio\n",
    "#import statsmodels.tsa.stattools as stm\n",
    "import numpy as np\n",
    "from statsmodels.tsa.ar_model import AR"
   ]
  },
  {
   "cell_type": "code",
   "execution_count": 52,
   "metadata": {},
   "outputs": [],
   "source": [
    "from matplotlib import pyplot\n",
    "import math\n",
    "import time\n",
    "import pickle"
   ]
  },
  {
   "cell_type": "code",
   "execution_count": null,
   "metadata": {},
   "outputs": [],
   "source": [
    "filename = []\n",
    "directory = '/Users/apple/Desktop/eeglab14_1_2b/ICA_Data/'\n",
    "for file in os.listdir(directory):\n",
    "    if file.endswith(\".mat\"):\n",
    "        filename.append(file)\n",
    "filename.sort()\n",
    "#filename = filename[31::]\n",
    "print(filename)\n",
    "#temp_trial = sio.loadmat(file)['data']"
   ]
  },
  {
   "cell_type": "code",
   "execution_count": 60,
   "metadata": {},
   "outputs": [
    {
     "ename": "NameError",
     "evalue": "name 'OLS' is not defined",
     "output_type": "error",
     "traceback": [
      "\u001b[0;31m---------------------------------------------------------------------------\u001b[0m",
      "\u001b[0;31mNameError\u001b[0m                                 Traceback (most recent call last)",
      "\u001b[0;32m<ipython-input-60-57e19d236993>\u001b[0m in \u001b[0;36m<module>\u001b[0;34m\u001b[0m\n\u001b[1;32m     31\u001b[0m                     \u001b[0mx\u001b[0m \u001b[0;34m=\u001b[0m \u001b[0mnp\u001b[0m\u001b[0;34m.\u001b[0m\u001b[0mvstack\u001b[0m\u001b[0;34m(\u001b[0m\u001b[0;34m(\u001b[0m\u001b[0mnp\u001b[0m\u001b[0;34m.\u001b[0m\u001b[0masarray\u001b[0m\u001b[0;34m(\u001b[0m\u001b[0mcurrent_trial\u001b[0m\u001b[0;34m[\u001b[0m\u001b[0mi\u001b[0m\u001b[0;34m,\u001b[0m\u001b[0;34m:\u001b[0m\u001b[0;34m]\u001b[0m\u001b[0;34m)\u001b[0m\u001b[0;34m,\u001b[0m \u001b[0mnp\u001b[0m\u001b[0;34m.\u001b[0m\u001b[0masarray\u001b[0m\u001b[0;34m(\u001b[0m\u001b[0mcurrent_trial\u001b[0m\u001b[0;34m[\u001b[0m\u001b[0mj\u001b[0m\u001b[0;34m,\u001b[0m\u001b[0;34m:\u001b[0m\u001b[0;34m]\u001b[0m\u001b[0;34m)\u001b[0m\u001b[0;34m)\u001b[0m\u001b[0;34m)\u001b[0m\u001b[0;34m.\u001b[0m\u001b[0mT\u001b[0m\u001b[0;34m\u001b[0m\u001b[0;34m\u001b[0m\u001b[0m\n\u001b[1;32m     32\u001b[0m                     \u001b[0mmaxlag\u001b[0m \u001b[0;34m=\u001b[0m \u001b[0;36m3\u001b[0m\u001b[0;34m\u001b[0m\u001b[0;34m\u001b[0m\u001b[0m\n\u001b[0;32m---> 33\u001b[0;31m                     \u001b[0mresult\u001b[0m \u001b[0;34m=\u001b[0m \u001b[0mgrangercausalitytests\u001b[0m\u001b[0;34m(\u001b[0m\u001b[0mx\u001b[0m\u001b[0;34m,\u001b[0m \u001b[0mmaxlag\u001b[0m\u001b[0;34m,\u001b[0m \u001b[0maddconst\u001b[0m \u001b[0;34m=\u001b[0m \u001b[0;32mTrue\u001b[0m\u001b[0;34m,\u001b[0m \u001b[0mverbose\u001b[0m \u001b[0;34m=\u001b[0m \u001b[0;32mTrue\u001b[0m\u001b[0;34m)\u001b[0m\u001b[0;34m\u001b[0m\u001b[0;34m\u001b[0m\u001b[0m\n\u001b[0m\u001b[1;32m     34\u001b[0m                     \u001b[0moptimal_lag\u001b[0m \u001b[0;34m=\u001b[0m \u001b[0;34m-\u001b[0m\u001b[0;36m1\u001b[0m\u001b[0;34m\u001b[0m\u001b[0;34m\u001b[0m\u001b[0m\n\u001b[1;32m     35\u001b[0m                     \u001b[0mF_test\u001b[0m \u001b[0;34m=\u001b[0m \u001b[0;34m-\u001b[0m\u001b[0;36m1.0\u001b[0m\u001b[0;34m\u001b[0m\u001b[0;34m\u001b[0m\u001b[0m\n",
      "\u001b[0;32m<ipython-input-56-e03a7ac3b670>\u001b[0m in \u001b[0;36mgrangercausalitytests\u001b[0;34m(x, maxlag, addconst, verbose)\u001b[0m\n\u001b[1;32m    666\u001b[0m \u001b[0;34m\u001b[0m\u001b[0m\n\u001b[1;32m    667\u001b[0m         \u001b[0;31m# Run ols on both models without and with lags of second variable\u001b[0m\u001b[0;34m\u001b[0m\u001b[0;34m\u001b[0m\u001b[0;34m\u001b[0m\u001b[0m\n\u001b[0;32m--> 668\u001b[0;31m         \u001b[0mres2down\u001b[0m \u001b[0;34m=\u001b[0m \u001b[0mOLS\u001b[0m\u001b[0;34m(\u001b[0m\u001b[0mdta\u001b[0m\u001b[0;34m[\u001b[0m\u001b[0;34m:\u001b[0m\u001b[0;34m,\u001b[0m \u001b[0;36m0\u001b[0m\u001b[0;34m]\u001b[0m\u001b[0;34m,\u001b[0m \u001b[0mdtaown\u001b[0m\u001b[0;34m)\u001b[0m\u001b[0;34m.\u001b[0m\u001b[0mfit\u001b[0m\u001b[0;34m(\u001b[0m\u001b[0;34m)\u001b[0m\u001b[0;34m\u001b[0m\u001b[0;34m\u001b[0m\u001b[0m\n\u001b[0m\u001b[1;32m    669\u001b[0m         \u001b[0mres2djoint\u001b[0m \u001b[0;34m=\u001b[0m \u001b[0mOLS\u001b[0m\u001b[0;34m(\u001b[0m\u001b[0mdta\u001b[0m\u001b[0;34m[\u001b[0m\u001b[0;34m:\u001b[0m\u001b[0;34m,\u001b[0m \u001b[0;36m0\u001b[0m\u001b[0;34m]\u001b[0m\u001b[0;34m,\u001b[0m \u001b[0mdtajoint\u001b[0m\u001b[0;34m)\u001b[0m\u001b[0;34m.\u001b[0m\u001b[0mfit\u001b[0m\u001b[0;34m(\u001b[0m\u001b[0;34m)\u001b[0m\u001b[0;34m\u001b[0m\u001b[0;34m\u001b[0m\u001b[0m\n\u001b[1;32m    670\u001b[0m \u001b[0;34m\u001b[0m\u001b[0m\n",
      "\u001b[0;31mNameError\u001b[0m: name 'OLS' is not defined"
     ]
    }
   ],
   "source": [
    "for eegdata in filename:\n",
    "    filepath = directory + eegdata\n",
    "    mat_contents = sio.loadmat(filepath)\n",
    "    ica = mat_contents['data']\n",
    "    hz = 128\n",
    "    #a 3 second pre-trial baseline removed\n",
    "    trial = ica.shape[2]\n",
    "    print(\"{}: {}\".format(\"Total number of trials is\", trial))\n",
    "    channel = ica.shape[0]\n",
    "    print(\"{}: {}\".format(\"Total number of channels in each trial is\", channel))\n",
    "    timepoint = ica.shape[1]\n",
    "    print(\"{}: {}\".format(\"Total number of time points in per channel per trial is\", timepoint))\n",
    "    for t in range(trial):\n",
    "        toSave = []\n",
    "        hz = 128\n",
    "        #a 3 second pre-trial baseline removed\n",
    "        temp_trial = ica[:,:,t]\n",
    "        temp_trial = temp_trial[:,hz*3:]\n",
    "        MGCM = np.zeros((channel,channel))\n",
    "        for k in range(60):\n",
    "            enablePrint()\n",
    "            print(k)\n",
    "            blockPrint()\n",
    "            current_trial = temp_trial[:, k*hz:(k+1)*hz]\n",
    "            for i in range(channel):\n",
    "                for j in range(channel):\n",
    "                    if i == j:\n",
    "                        print(\"{} -> {}:{}\".format(k,i,j))\n",
    "                        MGCM[i,j] = 1\n",
    "                    blockPrint()\n",
    "                    x = np.vstack((np.asarray(current_trial[i,:]), np.asarray(current_trial[j,:]))).T\n",
    "                    maxlag = 3\n",
    "                    result = grangercausalitytests(x, maxlag, addconst = True, verbose = True)\n",
    "                    optimal_lag = -1\n",
    "                    F_test = -1.0\n",
    "                    for key in result.keys():\n",
    "                        _F_test_ = result[key][0]['params_ftest'][0]\n",
    "                        if _F_test_ > F_test:\n",
    "                            F_test = _F_test_\n",
    "                            optimal_lag = key\n",
    "                    if (result[optimal_lag][0]['params_ftest'][1] < 0.03):\n",
    "                        MGCM[i,j] = math.log(result[optimal_lag][0]['params_ftest'][0])\n",
    "                    else:\n",
    "                        MGCM[i,j] = 0\n",
    "            enablePrint()\n",
    "            diag = np.max(MGCM)\n",
    "            for i in range(channel):\n",
    "                for j in range(channel):\n",
    "                    if i == j:\n",
    "                        MGCM[i,j] = 1\n",
    "                    else:\n",
    "                        MGCM[i,j] = MGCM[i,j]/diag\n",
    "            enablePrint()\n",
    "            pyplot.matshow(MGCM)\n",
    "            pyplot.show()\n",
    "            #np.append(result,MGCM)\n",
    "            #eegdata = os.path.splitext(eegdata)[0]\n",
    "            toSave.append(MGCM.tolist());\n",
    "            #imgname = \"img/{0}_{1}_{2}.png\".format(eegdata, str(t).zfill(2), str(k).zfill(2))\n",
    "            #pyplot.imsave(imgname, MGCM)\n",
    "        name = \"LSTM_Data/{0}.data\".format(str(t).zfill(2))\n",
    "        np.save(name, np.asarray(toSave))"
   ]
  },
  {
   "cell_type": "code",
   "execution_count": 34,
   "metadata": {},
   "outputs": [],
   "source": [
    "contents = np.load(\"LSTM_Data/00.data.npy\")"
   ]
  },
  {
   "cell_type": "code",
   "execution_count": 36,
   "metadata": {},
   "outputs": [
    {
     "name": "stdout",
     "output_type": "stream",
     "text": [
      "[[1.         0.27338572 0.         ... 0.         0.27252933 0.        ]\n",
      " [0.         1.         0.         ... 0.         0.         0.25025578]\n",
      " [0.         0.         1.         ... 0.         0.40386428 0.38924155]\n",
      " ...\n",
      " [0.         0.         0.         ... 1.         0.         0.24741004]\n",
      " [0.         0.         0.32300738 ... 0.         1.         0.28362414]\n",
      " [0.         0.         0.         ... 0.         0.         1.        ]]\n"
     ]
    }
   ],
   "source": [
    "enablePrint()\n",
    "print(contents[0])"
   ]
  },
  {
   "cell_type": "code",
   "execution_count": 38,
   "metadata": {},
   "outputs": [
    {
     "name": "stdout",
     "output_type": "stream",
     "text": [
      "[[1.         0.32578946 0.28806359 ... 0.4846877  0.30608935 0.        ]\n",
      " [0.         1.         0.         ... 0.3357059  0.         0.        ]\n",
      " [0.         0.         1.         ... 0.         0.         0.        ]\n",
      " ...\n",
      " [0.28224078 0.27749811 0.         ... 1.         0.35610624 0.52190271]\n",
      " [0.33479073 0.         0.25774204 ... 0.         1.         0.32878237]\n",
      " [0.         0.         0.         ... 0.28613715 0.31178654 1.        ]]\n"
     ]
    }
   ],
   "source": [
    "print(contents[1])"
   ]
  },
  {
   "cell_type": "code",
   "execution_count": null,
   "metadata": {},
   "outputs": [],
   "source": []
  }
 ],
 "metadata": {
  "kernelspec": {
   "display_name": "Python 3",
   "language": "python",
   "name": "python3"
  },
  "language_info": {
   "codemirror_mode": {
    "name": "ipython",
    "version": 3
   },
   "file_extension": ".py",
   "mimetype": "text/x-python",
   "name": "python",
   "nbconvert_exporter": "python",
   "pygments_lexer": "ipython3",
   "version": "3.6.8"
  }
 },
 "nbformat": 4,
 "nbformat_minor": 2
}
