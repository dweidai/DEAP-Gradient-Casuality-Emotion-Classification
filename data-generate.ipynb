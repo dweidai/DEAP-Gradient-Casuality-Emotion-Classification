{
 "cells": [
  {
   "cell_type": "markdown",
   "metadata": {},
   "source": [
    "# Suppress Printing"
   ]
  },
  {
   "cell_type": "code",
   "execution_count": 1,
   "metadata": {},
   "outputs": [],
   "source": [
    "import sys, os\n",
    "old = sys.stdout\n",
    "def blockPrint():\n",
    "    sys.stdout = open(os.devnull, 'w')\n",
    "\n",
    "def enablePrint():\n",
    "    sys.stdout = old"
   ]
  },
  {
   "cell_type": "markdown",
   "metadata": {},
   "source": [
    "# Load Back Projected ICA Data"
   ]
  },
  {
   "cell_type": "code",
   "execution_count": 2,
   "metadata": {},
   "outputs": [],
   "source": [
    "import scipy.io as sio"
   ]
  },
  {
   "cell_type": "code",
   "execution_count": 3,
   "metadata": {},
   "outputs": [
    {
     "name": "stdout",
     "output_type": "stream",
     "text": [
      "Total number of trials is: 40\n",
      "Total number of channels in each trial is: 32\n",
      "Total number of time points in per channel per trial is: 8064\n"
     ]
    }
   ],
   "source": [
    "enablePrint()\n",
    "filepath = '/Users/apple/Desktop/eeglab14_1_2b/ICA_Data/EEGData1.mat'\n",
    "mat_contents = sio.loadmat(filepath)\n",
    "ica = mat_contents['data']\n",
    "temp_trial = ica[:,:,1]\n",
    "trial = ica.shape[2]\n",
    "print(\"{}: {}\".format(\"Total number of trials is\", trial))\n",
    "channel = temp_trial.shape[0]\n",
    "print(\"{}: {}\".format(\"Total number of channels in each trial is\", channel))\n",
    "timepoint = temp_trial.shape[1]\n",
    "print(\"{}: {}\".format(\"Total number of time points in per channel per trial is\", timepoint))"
   ]
  },
  {
   "cell_type": "markdown",
   "metadata": {},
   "source": [
    "# Testing between 1 trial 2 channels with GC"
   ]
  },
  {
   "cell_type": "code",
   "execution_count": 4,
   "metadata": {},
   "outputs": [],
   "source": [
    "import statsmodels.tsa.stattools as stm\n",
    "import numpy as np"
   ]
  },
  {
   "cell_type": "code",
   "execution_count": 5,
   "metadata": {},
   "outputs": [
    {
     "name": "stdout",
     "output_type": "stream",
     "text": [
      "(32, 8064)\n",
      "(32, 7680)\n"
     ]
    }
   ],
   "source": [
    "#we just gonna pick temp_trial\n",
    "print(temp_trial.shape)\n",
    "hz = 128\n",
    "#a 3 second pre-trial baseline removed\n",
    "temp_trial = temp_trial[:,128*3:]\n",
    "print(temp_trial.shape)"
   ]
  },
  {
   "cell_type": "code",
   "execution_count": 6,
   "metadata": {},
   "outputs": [
    {
     "name": "stdout",
     "output_type": "stream",
     "text": [
      "(7680, 2)\n"
     ]
    }
   ],
   "source": [
    "a = np.asarray(temp_trial[0,:])\n",
    "b = np.asarray(temp_trial[1,:])\n",
    "x = np.vstack((a, b)).T\n",
    "print(x.shape)"
   ]
  },
  {
   "cell_type": "code",
   "execution_count": 7,
   "metadata": {},
   "outputs": [
    {
     "name": "stdout",
     "output_type": "stream",
     "text": [
      "Lag: 36\n"
     ]
    }
   ],
   "source": [
    "from statsmodels.tsa.ar_model import AR\n",
    "model = AR(a)\n",
    "model_fit = model.fit()\n",
    "print('Lag: %s' % model_fit.k_ar)\n",
    "maxlag = model_fit.k_ar"
   ]
  },
  {
   "cell_type": "code",
   "execution_count": 8,
   "metadata": {},
   "outputs": [],
   "source": [
    "addconst = True\n",
    "verbose = True"
   ]
  },
  {
   "cell_type": "code",
   "execution_count": 9,
   "metadata": {},
   "outputs": [
    {
     "name": "stdout",
     "output_type": "stream",
     "text": [
      "\n",
      "Granger Causality\n",
      "number of lags (no zero) 1\n",
      "ssr based F test:         F=140.9611, p=0.0000  , df_denom=7676, df_num=1\n",
      "ssr based chi2 test:   chi2=141.0162, p=0.0000  , df=1\n",
      "likelihood ratio test: chi2=139.7370, p=0.0000  , df=1\n",
      "parameter F test:         F=140.9611, p=0.0000  , df_denom=7676, df_num=1\n",
      "\n",
      "Granger Causality\n",
      "number of lags (no zero) 2\n",
      "ssr based F test:         F=306.1023, p=0.0000  , df_denom=7673, df_num=2\n",
      "ssr based chi2 test:   chi2=612.6036, p=0.0000  , df=2\n",
      "likelihood ratio test: chi2=589.3915, p=0.0000  , df=2\n",
      "parameter F test:         F=306.1023, p=0.0000  , df_denom=7673, df_num=2\n",
      "\n",
      "Granger Causality\n",
      "number of lags (no zero) 3\n",
      "ssr based F test:         F=277.6453, p=0.0000  , df_denom=7670, df_num=3\n",
      "ssr based chi2 test:   chi2=833.6961, p=0.0000  , df=3\n",
      "likelihood ratio test: chi2=791.4595, p=0.0000  , df=3\n",
      "parameter F test:         F=277.6453, p=0.0000  , df_denom=7670, df_num=3\n",
      "\n",
      "Granger Causality\n",
      "number of lags (no zero) 4\n",
      "ssr based F test:         F=204.5570, p=0.0000  , df_denom=7667, df_num=4\n",
      "ssr based chi2 test:   chi2=819.1885, p=0.0000  , df=4\n",
      "likelihood ratio test: chi2=778.3569, p=0.0000  , df=4\n",
      "parameter F test:         F=204.5570, p=0.0000  , df_denom=7667, df_num=4\n",
      "\n",
      "Granger Causality\n",
      "number of lags (no zero) 5\n",
      "ssr based F test:         F=125.3751, p=0.0000  , df_denom=7664, df_num=5\n",
      "ssr based chi2 test:   chi2=627.7754, p=0.0000  , df=5\n",
      "likelihood ratio test: chi2=603.4204, p=0.0000  , df=5\n",
      "parameter F test:         F=125.3751, p=0.0000  , df_denom=7664, df_num=5\n",
      "\n",
      "Granger Causality\n",
      "number of lags (no zero) 6\n",
      "ssr based F test:         F=113.6361, p=0.0000  , df_denom=7661, df_num=6\n",
      "ssr based chi2 test:   chi2=682.9734, p=0.0000  , df=6\n",
      "likelihood ratio test: chi2=654.2725, p=0.0000  , df=6\n",
      "parameter F test:         F=113.6361, p=0.0000  , df_denom=7661, df_num=6\n",
      "\n",
      "Granger Causality\n",
      "number of lags (no zero) 7\n",
      "ssr based F test:         F=108.8429, p=0.0000  , df_denom=7658, df_num=7\n",
      "ssr based chi2 test:   chi2=763.3924, p=0.0000  , df=7\n",
      "likelihood ratio test: chi2=727.7618, p=0.0000  , df=7\n",
      "parameter F test:         F=108.8429, p=0.0000  , df_denom=7658, df_num=7\n",
      "\n",
      "Granger Causality\n",
      "number of lags (no zero) 8\n",
      "ssr based F test:         F=98.6044 , p=0.0000  , df_denom=7655, df_num=8\n",
      "ssr based chi2 test:   chi2=790.5868, p=0.0000  , df=8\n",
      "likelihood ratio test: chi2=752.4510, p=0.0000  , df=8\n",
      "parameter F test:         F=98.6044 , p=0.0000  , df_denom=7655, df_num=8\n",
      "\n",
      "Granger Causality\n",
      "number of lags (no zero) 9\n",
      "ssr based F test:         F=80.5288 , p=0.0000  , df_denom=7652, df_num=9\n",
      "ssr based chi2 test:   chi2=726.5584, p=0.0000  , df=9\n",
      "likelihood ratio test: chi2=694.1796, p=0.0000  , df=9\n",
      "parameter F test:         F=80.5288 , p=0.0000  , df_denom=7652, df_num=9\n",
      "\n",
      "Granger Causality\n",
      "number of lags (no zero) 10\n",
      "ssr based F test:         F=76.2210 , p=0.0000  , df_denom=7649, df_num=10\n",
      "ssr based chi2 test:   chi2=764.3024, p=0.0000  , df=10\n",
      "likelihood ratio test: chi2=728.5763, p=0.0000  , df=10\n",
      "parameter F test:         F=76.2210 , p=0.0000  , df_denom=7649, df_num=10\n",
      "\n",
      "Granger Causality\n",
      "number of lags (no zero) 11\n",
      "ssr based F test:         F=72.2506 , p=0.0000  , df_denom=7646, df_num=11\n",
      "ssr based chi2 test:   chi2=797.1477, p=0.0000  , df=11\n",
      "likelihood ratio test: chi2=758.3825, p=0.0000  , df=11\n",
      "parameter F test:         F=72.2506 , p=0.0000  , df_denom=7646, df_num=11\n",
      "\n",
      "Granger Causality\n",
      "number of lags (no zero) 12\n",
      "ssr based F test:         F=60.9219 , p=0.0000  , df_denom=7643, df_num=12\n",
      "ssr based chi2 test:   chi2=733.4545, p=0.0000  , df=12\n",
      "likelihood ratio test: chi2=700.4643, p=0.0000  , df=12\n",
      "parameter F test:         F=60.9219 , p=0.0000  , df_denom=7643, df_num=12\n",
      "\n",
      "Granger Causality\n",
      "number of lags (no zero) 13\n",
      "ssr based F test:         F=57.3583 , p=0.0000  , df_denom=7640, df_num=13\n",
      "ssr based chi2 test:   chi2=748.2937, p=0.0000  , df=13\n",
      "likelihood ratio test: chi2=713.9918, p=0.0000  , df=13\n",
      "parameter F test:         F=57.3583 , p=0.0000  , df_denom=7640, df_num=13\n",
      "\n",
      "Granger Causality\n",
      "number of lags (no zero) 14\n",
      "ssr based F test:         F=57.2980 , p=0.0000  , df_denom=7637, df_num=14\n",
      "ssr based chi2 test:   chi2=805.2178, p=0.0000  , df=14\n",
      "likelihood ratio test: chi2=765.6748, p=0.0000  , df=14\n",
      "parameter F test:         F=57.2980 , p=0.0000  , df_denom=7637, df_num=14\n",
      "\n",
      "Granger Causality\n",
      "number of lags (no zero) 15\n",
      "ssr based F test:         F=49.3006 , p=0.0000  , df_denom=7634, df_num=15\n",
      "ssr based chi2 test:   chi2=742.5114, p=0.0000  , df=15\n",
      "likelihood ratio test: chi2=708.7136, p=0.0000  , df=15\n",
      "parameter F test:         F=49.3006 , p=0.0000  , df_denom=7634, df_num=15\n",
      "\n",
      "Granger Causality\n",
      "number of lags (no zero) 16\n",
      "ssr based F test:         F=43.1663 , p=0.0000  , df_denom=7631, df_num=16\n",
      "ssr based chi2 test:   chi2=693.6482, p=0.0000  , df=16\n",
      "likelihood ratio test: chi2=664.0322, p=0.0000  , df=16\n",
      "parameter F test:         F=43.1663 , p=0.0000  , df_denom=7631, df_num=16\n",
      "\n",
      "Granger Causality\n",
      "number of lags (no zero) 17\n",
      "ssr based F test:         F=46.4142 , p=0.0000  , df_denom=7628, df_num=17\n",
      "ssr based chi2 test:   chi2=792.6612, p=0.0000  , df=17\n",
      "likelihood ratio test: chi2=754.2893, p=0.0000  , df=17\n",
      "parameter F test:         F=46.4142 , p=0.0000  , df_denom=7628, df_num=17\n",
      "\n",
      "Granger Causality\n",
      "number of lags (no zero) 18\n",
      "ssr based F test:         F=40.6806 , p=0.0000  , df_denom=7625, df_num=18\n",
      "ssr based chi2 test:   chi2=735.8044, p=0.0000  , df=18\n",
      "likelihood ratio test: chi2=702.5843, p=0.0000  , df=18\n",
      "parameter F test:         F=40.6806 , p=0.0000  , df_denom=7625, df_num=18\n",
      "\n",
      "Granger Causality\n",
      "number of lags (no zero) 19\n",
      "ssr based F test:         F=36.3790 , p=0.0000  , df_denom=7622, df_num=19\n",
      "ssr based chi2 test:   chi2=694.7378, p=0.0000  , df=19\n",
      "likelihood ratio test: chi2=665.0203, p=0.0000  , df=19\n",
      "parameter F test:         F=36.3790 , p=0.0000  , df_denom=7622, df_num=19\n",
      "\n",
      "Granger Causality\n",
      "number of lags (no zero) 20\n",
      "ssr based F test:         F=39.0620 , p=0.0000  , df_denom=7619, df_num=20\n",
      "ssr based chi2 test:   chi2=785.4450, p=0.0000  , df=20\n",
      "likelihood ratio test: chi2=747.7329, p=0.0000  , df=20\n",
      "parameter F test:         F=39.0620 , p=0.0000  , df_denom=7619, df_num=20\n",
      "\n",
      "Granger Causality\n",
      "number of lags (no zero) 21\n",
      "ssr based F test:         F=37.7292 , p=0.0000  , df_denom=7616, df_num=21\n",
      "ssr based chi2 test:   chi2=796.7870, p=0.0000  , df=21\n",
      "likelihood ratio test: chi2=758.0084, p=0.0000  , df=21\n",
      "parameter F test:         F=37.7292 , p=0.0000  , df_denom=7616, df_num=21\n",
      "\n",
      "Granger Causality\n",
      "number of lags (no zero) 22\n",
      "ssr based F test:         F=33.0708 , p=0.0000  , df_denom=7613, df_num=22\n",
      "ssr based chi2 test:   chi2=731.8580, p=0.0000  , df=22\n",
      "likelihood ratio test: chi2=698.9667, p=0.0000  , df=22\n",
      "parameter F test:         F=33.0708 , p=0.0000  , df_denom=7613, df_num=22\n",
      "\n",
      "Granger Causality\n",
      "number of lags (no zero) 23\n",
      "ssr based F test:         F=31.3360 , p=0.0000  , df_denom=7610, df_num=23\n",
      "ssr based chi2 test:   chi2=725.1793, p=0.0000  , df=23\n",
      "likelihood ratio test: chi2=692.8642, p=0.0000  , df=23\n",
      "parameter F test:         F=31.3360 , p=0.0000  , df_denom=7610, df_num=23\n",
      "\n",
      "Granger Causality\n",
      "number of lags (no zero) 24\n",
      "ssr based F test:         F=30.4425 , p=0.0000  , df_denom=7607, df_num=24\n",
      "ssr based chi2 test:   chi2=735.3254, p=0.0000  , df=24\n",
      "likelihood ratio test: chi2=702.1228, p=0.0000  , df=24\n",
      "parameter F test:         F=30.4425 , p=0.0000  , df_denom=7607, df_num=24\n",
      "\n",
      "Granger Causality\n",
      "number of lags (no zero) 25\n",
      "ssr based F test:         F=27.4623 , p=0.0000  , df_denom=7604, df_num=25\n",
      "ssr based chi2 test:   chi2=691.1611, p=0.0000  , df=25\n",
      "likelihood ratio test: chi2=661.7185, p=0.0000  , df=25\n",
      "parameter F test:         F=27.4623 , p=0.0000  , df_denom=7604, df_num=25\n",
      "\n",
      "Granger Causality\n",
      "number of lags (no zero) 26\n",
      "ssr based F test:         F=29.4030 , p=0.0000  , df_denom=7601, df_num=26\n",
      "ssr based chi2 test:   chi2=769.8073, p=0.0000  , df=26\n",
      "likelihood ratio test: chi2=733.5097, p=0.0000  , df=26\n",
      "parameter F test:         F=29.4030 , p=0.0000  , df_denom=7601, df_num=26\n",
      "\n",
      "Granger Causality\n",
      "number of lags (no zero) 27\n",
      "ssr based F test:         F=29.1955 , p=0.0000  , df_denom=7598, df_num=27\n",
      "ssr based chi2 test:   chi2=793.9844, p=0.0000  , df=27\n",
      "likelihood ratio test: chi2=755.4412, p=0.0000  , df=27\n",
      "parameter F test:         F=29.1955 , p=0.0000  , df_denom=7598, df_num=27\n",
      "\n",
      "Granger Causality\n",
      "number of lags (no zero) 28\n",
      "ssr based F test:         F=27.3955 , p=0.0000  , df_denom=7595, df_num=28\n",
      "ssr based chi2 test:   chi2=772.8314, p=0.0000  , df=28\n",
      "likelihood ratio test: chi2=736.2480, p=0.0000  , df=28\n",
      "parameter F test:         F=27.3955 , p=0.0000  , df_denom=7595, df_num=28\n",
      "\n",
      "Granger Causality\n",
      "number of lags (no zero) 29\n"
     ]
    },
    {
     "name": "stdout",
     "output_type": "stream",
     "text": [
      "ssr based F test:         F=25.5107 , p=0.0000  , df_denom=7592, df_num=29\n",
      "ssr based chi2 test:   chi2=745.5605, p=0.0000  , df=29\n",
      "likelihood ratio test: chi2=711.4344, p=0.0000  , df=29\n",
      "parameter F test:         F=25.5107 , p=0.0000  , df_denom=7592, df_num=29\n",
      "\n",
      "Granger Causality\n",
      "number of lags (no zero) 30\n",
      "ssr based F test:         F=24.9183 , p=0.0000  , df_denom=7589, df_num=30\n",
      "ssr based chi2 test:   chi2=753.5582, p=0.0000  , df=30\n",
      "likelihood ratio test: chi2=718.7142, p=0.0000  , df=30\n",
      "parameter F test:         F=24.9183 , p=0.0000  , df_denom=7589, df_num=30\n",
      "\n",
      "Granger Causality\n",
      "number of lags (no zero) 31\n",
      "ssr based F test:         F=23.8377 , p=0.0000  , df_denom=7586, df_num=31\n",
      "ssr based chi2 test:   chi2=745.1047, p=0.0000  , df=31\n",
      "likelihood ratio test: chi2=711.0106, p=0.0000  , df=31\n",
      "parameter F test:         F=23.8378 , p=0.0000  , df_denom=7586, df_num=31\n",
      "\n",
      "Granger Causality\n",
      "number of lags (no zero) 32\n",
      "ssr based F test:         F=24.6581 , p=0.0000  , df_denom=7583, df_num=32\n",
      "ssr based chi2 test:   chi2=795.8237, p=0.0000  , df=32\n",
      "likelihood ratio test: chi2=757.0837, p=0.0000  , df=32\n",
      "parameter F test:         F=24.6581 , p=0.0000  , df_denom=7583, df_num=32\n",
      "\n",
      "Granger Causality\n",
      "number of lags (no zero) 33\n",
      "ssr based F test:         F=24.9976 , p=0.0000  , df_denom=7580, df_num=33\n",
      "ssr based chi2 test:   chi2=832.2129, p=0.0000  , df=33\n",
      "likelihood ratio test: chi2=789.9674, p=0.0000  , df=33\n",
      "parameter F test:         F=24.9963 , p=0.0000  , df_denom=7580, df_num=33\n",
      "\n",
      "Granger Causality\n",
      "number of lags (no zero) 34\n",
      "ssr based F test:         F=23.9627 , p=0.0000  , df_denom=7577, df_num=34\n",
      "ssr based chi2 test:   chi2=822.1528, p=0.0000  , df=34\n",
      "likelihood ratio test: chi2=780.8842, p=0.0000  , df=34\n",
      "parameter F test:         F=23.9642 , p=0.0000  , df_denom=7577, df_num=34\n",
      "\n",
      "Granger Causality\n",
      "number of lags (no zero) 35\n",
      "ssr based F test:         F=23.4242 , p=0.0000  , df_denom=7574, df_num=35\n",
      "ssr based chi2 test:   chi2=827.5314, p=0.0000  , df=35\n",
      "likelihood ratio test: chi2=785.7339, p=0.0000  , df=35\n",
      "parameter F test:         F=24.8546 , p=0.0000  , df_denom=7574, df_num=33\n",
      "\n",
      "Granger Causality\n",
      "number of lags (no zero) 36\n",
      "ssr based F test:         F=26.2146 , p=0.0000  , df_denom=7571, df_num=36\n",
      "ssr based chi2 test:   chi2=952.8234, p=0.0000  , df=36\n",
      "likelihood ratio test: chi2=897.9539, p=0.0000  , df=36\n",
      "parameter F test:         F=29.4368 , p=0.0000  , df_denom=7571, df_num=32\n"
     ]
    },
    {
     "name": "stderr",
     "output_type": "stream",
     "text": [
      "/anaconda3/lib/python3.6/site-packages/statsmodels/base/model.py:1752: ValueWarning: covariance of constraints does not have full rank. The number of constraints is 35, but rank is 33\n",
      "  'rank is %d' % (J, J_), ValueWarning)\n",
      "/anaconda3/lib/python3.6/site-packages/statsmodels/base/model.py:1752: ValueWarning: covariance of constraints does not have full rank. The number of constraints is 36, but rank is 32\n",
      "  'rank is %d' % (J, J_), ValueWarning)\n"
     ]
    }
   ],
   "source": [
    "result = stm.grangercausalitytests(x, maxlag, addconst, verbose)\n",
    "optimal_lag = -1\n",
    "F_test = -1.0\n",
    "for key in result.keys():\n",
    "    _F_test_ = result[key][0]['params_ftest'][0]\n",
    "    if _F_test_ > F_test:\n",
    "        F_test = _F_test_\n",
    "        optimal_lag = key"
   ]
  },
  {
   "cell_type": "code",
   "execution_count": 10,
   "metadata": {},
   "outputs": [
    {
     "name": "stdout",
     "output_type": "stream",
     "text": [
      "We are going to look into the GC with Optimal Lag of 2\n"
     ]
    }
   ],
   "source": [
    "print(\"{} {}\".format(\"We are going to look into the GC with Optimal Lag of\", optimal_lag))"
   ]
  },
  {
   "cell_type": "markdown",
   "metadata": {},
   "source": [
    "We consider the p-value of the test as a measure for Granger causality: rejection of ℋ0 (p < 0.03) signifies Granger causality, acceptance means non-causality."
   ]
  },
  {
   "cell_type": "markdown",
   "metadata": {},
   "source": [
    "The causality relations drawn from systems with very small values of |det(ΛˆI)| are not meaningful"
   ]
  },
  {
   "cell_type": "code",
   "execution_count": 11,
   "metadata": {},
   "outputs": [
    {
     "name": "stdout",
     "output_type": "stream",
     "text": [
      "306.1023099421199\n"
     ]
    }
   ],
   "source": [
    "if (result[optimal_lag][0]['params_ftest'][1] < 0.03):\n",
    "    print(result[optimal_lag][0]['params_ftest'][0])"
   ]
  },
  {
   "cell_type": "markdown",
   "metadata": {},
   "source": [
    "# Compute one Multivariant Granger Causality Matrix MGCM"
   ]
  },
  {
   "cell_type": "code",
   "execution_count": 91,
   "metadata": {},
   "outputs": [],
   "source": [
    "from matplotlib import pyplot\n",
    "import math\n",
    "import time"
   ]
  },
  {
   "cell_type": "code",
   "execution_count": 92,
   "metadata": {
    "scrolled": true
   },
   "outputs": [
    {
     "name": "stdout",
     "output_type": "stream",
     "text": [
      "Time Used: 8.034980000000132\n"
     ]
    }
   ],
   "source": [
    "#temp_trial = temp_trial[:,1::8] #TODO\n",
    "time_start = time.clock()\n",
    "MGCM = np.zeros((channel,channel))\n",
    "for i in range(channel):\n",
    "    for j in range(channel):\n",
    "        if i == j:\n",
    "            blockPrint()\n",
    "            print(\"{}:{}\".format(i,j))\n",
    "            MGCM[i,j] = 0\n",
    "        blockPrint()\n",
    "        x = np.vstack((np.asarray(temp_trial[i,:]), np.asarray(temp_trial[j,:]))).T\n",
    "        #model = AR(a)\n",
    "        #model_fit = model.fit()\n",
    "        #maxlag = model_fit.k_ar\n",
    "        #if maxlag > 5:\n",
    "        maxlag = 3\n",
    "        result = stm.grangercausalitytests(x, maxlag, addconst = True, verbose = True)\n",
    "        optimal_lag = 2\n",
    "        F_test = -1.0\n",
    "        for key in result.keys():\n",
    "            _F_test_ = result[key][0]['params_ftest'][0]\n",
    "            if _F_test_ > F_test:\n",
    "                F_test = _F_test_\n",
    "                optimal_lag = key\n",
    "        enablePrint()\n",
    "        #print(optimal_lag)\n",
    "        blockPrint()\n",
    "        if (result[optimal_lag][0]['params_ftest'][1] < 0.03):\n",
    "            MGCM[i,j] = math.log(result[optimal_lag][0]['params_ftest'][0])\n",
    "        else:\n",
    "            MGCM[i,j] = 0\n",
    "blockPrint()\n",
    "diag = np.max(MGCM)\n",
    "for i in range(channel):\n",
    "    for j in range(channel):\n",
    "        if i == j:\n",
    "            MGCM[i,j] = 1\n",
    "        else:\n",
    "            MGCM[i,j] = MGCM[i,j]/diag"
   ]
  },
  {
   "cell_type": "code",
   "execution_count": 93,
   "metadata": {},
   "outputs": [
    {
     "data": {
      "image/png": "[encoded data removed]",
      "text/plain": [
       "<Figure size 288x288 with 1 Axes>"
      ]
     },
     "metadata": {
      "needs_background": "light"
     },
     "output_type": "display_data"
    }
   ],
   "source": [
    "enablePrint()\n",
    "pyplot.matshow(MGCM)\n",
    "pyplot.show()\n",
    "time_elapsed = (time.clock() - time_start)\n",
    "print(\"{}: {}\".format(\"Time Used\", time_elapsed))"
   ]
  },
  {
   "cell_type": "code",
   "execution_count": 94,
   "metadata": {},
   "outputs": [
    {
     "name": "stdout",
     "output_type": "stream",
     "text": [
      "0.14601210799756287\n",
      "0.0\n",
      "1.0\n",
      "0.0\n"
     ]
    }
   ],
   "source": [
    "print(np.mean(MGCM))\n",
    "print(np.median(MGCM))\n",
    "print(np.max(MGCM))\n",
    "print(np.min(MGCM))"
   ]
  },
  {
   "cell_type": "code",
   "execution_count": 95,
   "metadata": {},
   "outputs": [
    {
     "name": "stdout",
     "output_type": "stream",
     "text": [
      "Hours needed:2.856881777777825\n"
     ]
    }
   ],
   "source": [
    "print(\"{}:{}\".format(\"Hours needed\", time_elapsed*40*32/60/60))"
   ]
  },
  {
   "cell_type": "code",
   "execution_count": 80,
   "metadata": {},
   "outputs": [],
   "source": [
    "#GoogleColab takes 34 seconds\n",
    "#Hours needed:33.8410016\n",
    "#Hours needed:2.871406577777816 no optimal maxlag =5\n",
    "#Hours needed:4.871406577777816 no optimal maxlag =5"
   ]
  },
  {
   "cell_type": "markdown",
   "metadata": {},
   "source": [
    "# Split data computing MGCM for LSTM"
   ]
  },
  {
   "cell_type": "code",
   "execution_count": 47,
   "metadata": {},
   "outputs": [
    {
     "name": "stdout",
     "output_type": "stream",
     "text": [
      "Total number of trials is: 40\n",
      "Total number of channels in each trial is: 32\n",
      "Total number of time points in per channel per trial is: 8064\n"
     ]
    }
   ],
   "source": [
    "temp_trial = ica[:,:,1]\n",
    "trial = ica.shape[2]\n",
    "print(\"{}: {}\".format(\"Total number of trials is\", trial))\n",
    "channel = temp_trial.shape[0]\n",
    "print(\"{}: {}\".format(\"Total number of channels in each trial is\", channel))\n",
    "timepoint = temp_trial.shape[1]\n",
    "print(\"{}: {}\".format(\"Total number of time points in per channel per trial is\", timepoint))"
   ]
  },
  {
   "cell_type": "code",
   "execution_count": 48,
   "metadata": {},
   "outputs": [],
   "source": [
    "from matplotlib import pyplot\n",
    "import math\n",
    "import time"
   ]
  },
  {
   "cell_type": "code",
   "execution_count": 49,
   "metadata": {},
   "outputs": [
    {
     "name": "stdout",
     "output_type": "stream",
     "text": [
      "(32, 8064)\n",
      "(32, 7680)\n"
     ]
    }
   ],
   "source": [
    "hz = 128\n",
    "#a 3 second pre-trial baseline removed\n",
    "lstm_trial = temp_trial[:,128*3:]\n",
    "print(temp_trial.shape)\n",
    "print(lstm_trial.shape)"
   ]
  },
  {
   "cell_type": "code",
   "execution_count": 50,
   "metadata": {},
   "outputs": [
    {
     "name": "stdout",
     "output_type": "stream",
     "text": [
      "(32, 128)\n"
     ]
    }
   ],
   "source": [
    "current_trial = lstm_trial[:,0*hz:(0+1)*hz]\n",
    "print(current_trial.shape)"
   ]
  },
  {
   "cell_type": "code",
   "execution_count": 51,
   "metadata": {},
   "outputs": [
    {
     "name": "stdout",
     "output_type": "stream",
     "text": [
      "(128, 2)\n",
      "Lag: 13\n"
     ]
    }
   ],
   "source": [
    "from statsmodels.tsa.ar_model import AR\n",
    "a = np.asarray(current_trial[0,:])\n",
    "b = np.asarray(current_trial[17,:])\n",
    "x = np.vstack((a, b)).T\n",
    "print(x.shape)\n",
    "\n",
    "model = AR(a)\n",
    "model_fit = model.fit()\n",
    "print('Lag: %s' % model_fit.k_ar)\n",
    "maxlag = model_fit.k_ar\n",
    "if maxlag > 3:\n",
    "    maxlag =3"
   ]
  },
  {
   "cell_type": "code",
   "execution_count": 52,
   "metadata": {},
   "outputs": [
    {
     "name": "stdout",
     "output_type": "stream",
     "text": [
      "We are going to look into the GC with Optimal Lag of 3\n"
     ]
    }
   ],
   "source": [
    "blockPrint()\n",
    "result = stm.grangercausalitytests(x, maxlag, addconst, verbose)\n",
    "optimal_lag = -1\n",
    "F_test = -1.0\n",
    "for key in result.keys():\n",
    "    _F_test_ = result[key][0]['params_ftest'][0]\n",
    "    if _F_test_ > F_test:\n",
    "        F_test = _F_test_\n",
    "        optimal_lag = key\n",
    "enablePrint()\n",
    "print(\"{} {}\".format(\"We are going to look into the GC with Optimal Lag of\", optimal_lag))"
   ]
  },
  {
   "cell_type": "markdown",
   "metadata": {},
   "source": [
    "Here split the dataset second by second and compute the MGCM for each 128 datapoints. Since 7680/128 = 60 seconds, the sanity check is good"
   ]
  },
  {
   "cell_type": "code",
   "execution_count": 53,
   "metadata": {},
   "outputs": [],
   "source": [
    "temp_list = []\n",
    "MGCM = np.zeros((channel,channel))\n",
    "#load for lstm"
   ]
  },
  {
   "cell_type": "code",
   "execution_count": null,
   "metadata": {},
   "outputs": [
    {
     "name": "stdout",
     "output_type": "stream",
     "text": [
      "Start\n",
      "0\n",
      "1\n",
      "2\n",
      "3\n",
      "4\n",
      "5\n",
      "6\n",
      "7\n",
      "8\n",
      "9\n",
      "10\n",
      "11\n",
      "12\n",
      "13\n",
      "14\n",
      "15\n",
      "16\n",
      "17\n",
      "18\n",
      "19\n",
      "20\n",
      "21\n",
      "22\n",
      "23\n",
      "24\n",
      "25\n",
      "26\n",
      "27\n",
      "28\n",
      "29\n",
      "30\n",
      "31\n",
      "32\n",
      "33\n",
      "34\n",
      "35\n",
      "36\n",
      "37\n",
      "38\n",
      "39\n",
      "40\n",
      "41\n",
      "42\n",
      "43\n",
      "44\n",
      "45\n",
      "46\n",
      "47\n",
      "48\n",
      "49\n",
      "50\n",
      "51\n",
      "52\n",
      "53\n",
      "54\n",
      "55\n",
      "56\n",
      "57\n",
      "58\n"
     ]
    }
   ],
   "source": [
    "time_start = time.clock()\n",
    "print(\"Start\")\n",
    "for k in range(60):\n",
    "    enablePrint()\n",
    "    print(k)\n",
    "    blockPrint()\n",
    "    current_trial = lstm_trial[:, k*hz:(k+1)*hz]\n",
    "    for i in range(channel):\n",
    "        for j in range(channel):\n",
    "            if i == j:\n",
    "                print(\"{} -> {}:{}\".format(k,i,j))\n",
    "                MGCM[i,j] = 1\n",
    "            blockPrint()\n",
    "            x = np.vstack((np.asarray(current_trial[i,:]), np.asarray(current_trial[j,:]))).T\n",
    "            #model = AR(a)\n",
    "            #model_fit = model.fit()\n",
    "            maxlag = 3 #model_fit.k_ar\n",
    "            #if maxlag > 3:\n",
    "            #    maxlag = 3\n",
    "            result = stm.grangercausalitytests(x, maxlag, addconst = True, verbose = True)\n",
    "            optimal_lag = -1\n",
    "            F_test = -1.0\n",
    "            for key in result.keys():\n",
    "                _F_test_ = result[key][0]['params_ftest'][0]\n",
    "                if _F_test_ > F_test:\n",
    "                    F_test = _F_test_\n",
    "                    optimal_lag = key\n",
    "            if (result[optimal_lag][0]['params_ftest'][1] < 0.03):\n",
    "                MGCM[i,j] = math.log(result[optimal_lag][0]['params_ftest'][0])\n",
    "            else:\n",
    "                MGCM[i,j] = 0\n",
    "    enablePrint()\n",
    "    diag = np.max(MGCM)\n",
    "    #print(diag)\n",
    "    for i in range(channel):\n",
    "        for j in range(channel):\n",
    "            if i == j:\n",
    "                MGCM[i,j] = 1\n",
    "            else:\n",
    "                MGCM[i,j] = MGCM[i,j]/diag\n",
    "    enablePrint()\n",
    "    temp_list.append(MGCM)\n",
    "    #pyplot.matshow(MGCM)\n",
    "    #pyplot.show()\n",
    "time_elapsed = (time.clock() - time_start)\n",
    "print(\"{}: {}\".format(\"Time Used\", time_elapsed))"
   ]
  },
  {
   "cell_type": "code",
   "execution_count": null,
   "metadata": {},
   "outputs": [],
   "source": [
    "print(\"{} {}\".format(\"Hours needed\", time_elapsed*40*32/60/60))"
   ]
  },
  {
   "cell_type": "code",
   "execution_count": null,
   "metadata": {},
   "outputs": [],
   "source": [
    "print(len(temp_list)) #should be 60"
   ]
  },
  {
   "cell_type": "code",
   "execution_count": 24,
   "metadata": {},
   "outputs": [],
   "source": [
    "#Original one need 393 hours\n",
    "#changed to 172 hours\n",
    "#141 hours current"
   ]
  },
  {
   "cell_type": "code",
   "execution_count": null,
   "metadata": {},
   "outputs": [],
   "source": []
  }
 ],
 "metadata": {
  "kernelspec": {
   "display_name": "Python 3",
   "language": "python",
   "name": "python3"
  },
  "language_info": {
   "codemirror_mode": {
    "name": "ipython",
    "version": 3
   },
   "file_extension": ".py",
   "mimetype": "text/x-python",
   "name": "python",
   "nbconvert_exporter": "python",
   "pygments_lexer": "ipython3",
   "version": "3.6.8"
  }
 },
 "nbformat": 4,
 "nbformat_minor": 2
}
