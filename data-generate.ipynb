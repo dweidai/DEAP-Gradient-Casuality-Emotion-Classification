{
 "cells": [
  {
   "cell_type": "markdown",
   "metadata": {},
   "source": [
    "# Load Back Projected ICA Data"
   ]
  },
  {
   "cell_type": "code",
   "execution_count": 1,
   "metadata": {},
   "outputs": [],
   "source": [
    "import scipy.io as sio"
   ]
  },
  {
   "cell_type": "code",
   "execution_count": 10,
   "metadata": {},
   "outputs": [
    {
     "name": "stdout",
     "output_type": "stream",
     "text": [
      "Total number of trials is: 40\n",
      "Total number of channels in each trial is: 32\n",
      "Total number of time points in per channel per trial is: 8064\n"
     ]
    }
   ],
   "source": [
    "filepath = '/Users/apple/Desktop/eeglab14_1_2b/ICA_Data/EEGData1.mat'\n",
    "mat_contents = sio.loadmat(filepath)\n",
    "ica = mat_contents['data']\n",
    "temp_trial = ica[:,:,1]\n",
    "trial = ica.shape[2]\n",
    "print(\"{}: {}\".format(\"Total number of trials is\", trial))\n",
    "channel = temp_trial.shape[0]\n",
    "print(\"{}: {}\".format(\"Total number of channels in each trial is\", channel))\n",
    "timepoint = temp_trial.shape[1]\n",
    "print(\"{}: {}\".format(\"Total number of time points in per channel per trial is\", timepoint))"
   ]
  },
  {
   "cell_type": "markdown",
   "metadata": {},
   "source": [
    "# Testing between 1 trial 2 channels with GC"
   ]
  },
  {
   "cell_type": "code",
   "execution_count": 13,
   "metadata": {},
   "outputs": [],
   "source": [
    "import statsmodels.tsa.stattools as stm\n",
    "import numpy as np"
   ]
  },
  {
   "cell_type": "code",
   "execution_count": 14,
   "metadata": {},
   "outputs": [
    {
     "name": "stdout",
     "output_type": "stream",
     "text": [
      "(32, 8064)\n"
     ]
    }
   ],
   "source": [
    "#we just gonna pick temp_trial\n",
    "print(temp_trial.shape)"
   ]
  },
  {
   "cell_type": "code",
   "execution_count": 23,
   "metadata": {},
   "outputs": [
    {
     "name": "stdout",
     "output_type": "stream",
     "text": [
      "(2, 8064)\n"
     ]
    }
   ],
   "source": [
    "a = np.asarray(temp_trial[0,:])\n",
    "b = np.asarray(temp_trial[1,:])\n",
    "x = np.vstack((a, b))\n",
    "print(x.shape)"
   ]
  },
  {
   "cell_type": "code",
   "execution_count": 22,
   "metadata": {},
   "outputs": [
    {
     "name": "stdout",
     "output_type": "stream",
     "text": [
      "(2, 8064)\n",
      "[ 9.49186897 12.58977032 10.57402706 ...  6.03399467  9.06874561\n",
      "  8.74021435]\n"
     ]
    }
   ],
   "source": [
    "maxlag\n"
   ]
  },
  {
   "cell_type": "code",
   "execution_count": null,
   "metadata": {},
   "outputs": [],
   "source": []
  }
 ],
 "metadata": {
  "kernelspec": {
   "display_name": "Python 3",
   "language": "python",
   "name": "python3"
  },
  "language_info": {
   "codemirror_mode": {
    "name": "ipython",
    "version": 3
   },
   "file_extension": ".py",
   "mimetype": "text/x-python",
   "name": "python",
   "nbconvert_exporter": "python",
   "pygments_lexer": "ipython3",
   "version": "3.6.8"
  }
 },
 "nbformat": 4,
 "nbformat_minor": 2
}
