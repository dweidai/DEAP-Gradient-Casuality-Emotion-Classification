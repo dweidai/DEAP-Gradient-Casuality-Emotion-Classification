{
 "cells": [
  {
   "cell_type": "markdown",
   "metadata": {},
   "source": [
    "# Suppress Printing"
   ]
  },
  {
   "cell_type": "code",
   "execution_count": 1,
   "metadata": {},
   "outputs": [],
   "source": [
    "import sys, os\n",
    "old = sys.stdout\n",
    "def blockPrint():\n",
    "    sys.stdout = open(os.devnull, 'w')\n",
    "\n",
    "def enablePrint():\n",
    "    sys.stdout = old"
   ]
  },
  {
   "cell_type": "markdown",
   "metadata": {},
   "source": [
    "# Load Back Projected ICA Data"
   ]
  },
  {
   "cell_type": "code",
   "execution_count": 2,
   "metadata": {},
   "outputs": [],
   "source": [
    "import scipy.io as sio"
   ]
  },
  {
   "cell_type": "code",
   "execution_count": 3,
   "metadata": {},
   "outputs": [
    {
     "name": "stdout",
     "output_type": "stream",
     "text": [
      "Total number of trials is: 40\n",
      "Total number of channels in each trial is: 32\n",
      "Total number of time points in per channel per trial is: 8064\n"
     ]
    }
   ],
   "source": [
    "enablePrint()\n",
    "filepath = '/Users/apple/Desktop/eeglab14_1_2b/ICA_Data/EEGData1.mat'\n",
    "mat_contents = sio.loadmat(filepath)\n",
    "ica = mat_contents['data']\n",
    "temp_trial = ica[:,:,1]\n",
    "trial = ica.shape[2]\n",
    "print(\"{}: {}\".format(\"Total number of trials is\", trial))\n",
    "channel = temp_trial.shape[0]\n",
    "print(\"{}: {}\".format(\"Total number of channels in each trial is\", channel))\n",
    "timepoint = temp_trial.shape[1]\n",
    "print(\"{}: {}\".format(\"Total number of time points in per channel per trial is\", timepoint))"
   ]
  },
  {
   "cell_type": "markdown",
   "metadata": {},
   "source": [
    "# Testing between 1 trial 2 channels with GC"
   ]
  },
  {
   "cell_type": "code",
   "execution_count": 4,
   "metadata": {},
   "outputs": [],
   "source": [
    "import statsmodels.tsa.stattools as stm\n",
    "import numpy as np"
   ]
  },
  {
   "cell_type": "code",
   "execution_count": 5,
   "metadata": {},
   "outputs": [
    {
     "name": "stdout",
     "output_type": "stream",
     "text": [
      "(32, 8064)\n",
      "(32, 807)\n"
     ]
    }
   ],
   "source": [
    "#we just gonna pick temp_trial\n",
    "print(temp_trial.shape)\n",
    "temp_trial = temp_trial[:,1::10]\n",
    "print(temp_trial.shape)"
   ]
  },
  {
   "cell_type": "code",
   "execution_count": 76,
   "metadata": {},
   "outputs": [
    {
     "name": "stdout",
     "output_type": "stream",
     "text": [
      "(8064, 2)\n"
     ]
    }
   ],
   "source": [
    "a = np.asarray(temp_trial[0,:])\n",
    "b = np.asarray(temp_trial[1,:])\n",
    "x = np.vstack((a, b)).T\n",
    "print(x.shape)"
   ]
  },
  {
   "cell_type": "code",
   "execution_count": 77,
   "metadata": {},
   "outputs": [
    {
     "name": "stdout",
     "output_type": "stream",
     "text": [
      "Lag: 36\n"
     ]
    }
   ],
   "source": [
    "from statsmodels.tsa.ar_model import AR\n",
    "model = AR(a)\n",
    "model_fit = model.fit()\n",
    "print('Lag: %s' % model_fit.k_ar)\n",
    "maxlag = model_fit.k_ar\n",
    "if maxlag > 5:\n",
    "    maxlag =5"
   ]
  },
  {
   "cell_type": "code",
   "execution_count": 78,
   "metadata": {},
   "outputs": [],
   "source": [
    "addconst = True\n",
    "verbose = True"
   ]
  },
  {
   "cell_type": "code",
   "execution_count": 79,
   "metadata": {},
   "outputs": [
    {
     "name": "stdout",
     "output_type": "stream",
     "text": [
      "\n",
      "Granger Causality\n",
      "number of lags (no zero) 1\n",
      "ssr based F test:         F=137.4970, p=0.0000  , df_denom=8060, df_num=1\n",
      "ssr based chi2 test:   chi2=137.5481, p=0.0000  , df=1\n",
      "likelihood ratio test: chi2=136.3881, p=0.0000  , df=1\n",
      "parameter F test:         F=137.4970, p=0.0000  , df_denom=8060, df_num=1\n",
      "\n",
      "Granger Causality\n",
      "number of lags (no zero) 2\n",
      "ssr based F test:         F=311.0022, p=0.0000  , df_denom=8057, df_num=2\n",
      "ssr based chi2 test:   chi2=622.3905, p=0.0000  , df=2\n",
      "likelihood ratio test: chi2=599.5351, p=0.0000  , df=2\n",
      "parameter F test:         F=311.0022, p=0.0000  , df_denom=8057, df_num=2\n",
      "\n",
      "Granger Causality\n",
      "number of lags (no zero) 3\n",
      "ssr based F test:         F=283.9087, p=0.0000  , df_denom=8054, df_num=3\n",
      "ssr based chi2 test:   chi2=852.4664, p=0.0000  , df=3\n",
      "likelihood ratio test: chi2=810.3369, p=0.0000  , df=3\n",
      "parameter F test:         F=283.9087, p=0.0000  , df_denom=8054, df_num=3\n",
      "\n",
      "Granger Causality\n",
      "number of lags (no zero) 4\n",
      "ssr based F test:         F=215.8010, p=0.0000  , df_denom=8051, df_num=4\n",
      "ssr based chi2 test:   chi2=864.1688, p=0.0000  , df=4\n",
      "likelihood ratio test: chi2=820.9081, p=0.0000  , df=4\n",
      "parameter F test:         F=215.8010, p=0.0000  , df_denom=8051, df_num=4\n",
      "\n",
      "Granger Causality\n",
      "number of lags (no zero) 5\n",
      "ssr based F test:         F=131.9068, p=0.0000  , df_denom=8048, df_num=5\n",
      "ssr based chi2 test:   chi2=660.4354, p=0.0000  , df=5\n",
      "likelihood ratio test: chi2=634.7672, p=0.0000  , df=5\n",
      "parameter F test:         F=131.9068, p=0.0000  , df_denom=8048, df_num=5\n"
     ]
    }
   ],
   "source": [
    "result = stm.grangercausalitytests(x, maxlag, addconst, verbose)\n",
    "optimal_lag = -1\n",
    "F_test = -1.0\n",
    "for key in result.keys():\n",
    "    _F_test_ = result[key][0]['params_ftest'][0]\n",
    "    if _F_test_ > F_test:\n",
    "        F_test = _F_test_\n",
    "        optimal_lag = key"
   ]
  },
  {
   "cell_type": "code",
   "execution_count": 80,
   "metadata": {},
   "outputs": [
    {
     "name": "stdout",
     "output_type": "stream",
     "text": [
      "We are going to look into the GC with Optimal Lag of 2\n"
     ]
    }
   ],
   "source": [
    "print(\"{} {}\".format(\"We are going to look into the GC with Optimal Lag of\", optimal_lag))"
   ]
  },
  {
   "cell_type": "markdown",
   "metadata": {},
   "source": [
    "We consider the p-value of the test as a measure for Granger causality: rejection of ℋ0 (p < 0.03) signifies Granger causality, acceptance means non-causality."
   ]
  },
  {
   "cell_type": "markdown",
   "metadata": {},
   "source": [
    "The causality relations drawn from systems with very small values of |det(ΛˆI)| are not meaningful"
   ]
  },
  {
   "cell_type": "code",
   "execution_count": 11,
   "metadata": {},
   "outputs": [],
   "source": [
    "if (result[optimal_lag][0]['params_ftest'][1] < 0.03):\n",
    "    print(result[optimal_lag][0]['params_ftest'][0])"
   ]
  },
  {
   "cell_type": "markdown",
   "metadata": {},
   "source": [
    "# Compute one Multivariant Granger Causality Matrix MGCM"
   ]
  },
  {
   "cell_type": "code",
   "execution_count": 81,
   "metadata": {},
   "outputs": [],
   "source": [
    "from matplotlib import pyplot\n",
    "import math\n",
    "import time"
   ]
  },
  {
   "cell_type": "code",
   "execution_count": 86,
   "metadata": {
    "scrolled": true
   },
   "outputs": [
    {
     "name": "stdout",
     "output_type": "stream",
     "text": [
      "Time Used: 189.257473\n"
     ]
    }
   ],
   "source": [
    "time_start = time.clock()\n",
    "MGCM = np.zeros((channel,channel))\n",
    "for i in range(channel):\n",
    "    for j in range(channel):\n",
    "        if i == j:\n",
    "            blockPrint()\n",
    "            print(\"{}:{}\".format(i,j))\n",
    "            MGCM[i,j] = 0\n",
    "        blockPrint()\n",
    "        a = np.asarray(temp_trial[i,:])\n",
    "        b = np.asarray(temp_trial[j,:])\n",
    "        x = np.vstack((a, b)).T\n",
    "        model = AR(a)\n",
    "        model_fit = model.fit()\n",
    "        maxlag = model_fit.k_ar\n",
    "        if maxlag > 5:\n",
    "            maxlag = 5\n",
    "        result = stm.grangercausalitytests(x, maxlag, addconst = True, verbose = True)\n",
    "        optimal_lag = -1\n",
    "        F_test = -1.0\n",
    "        for key in result.keys():\n",
    "            _F_test_ = result[key][0]['params_ftest'][0]\n",
    "            if _F_test_ > F_test:\n",
    "                F_test = _F_test_\n",
    "                optimal_lag = key\n",
    "        if (result[optimal_lag][0]['params_ftest'][1] < 0.03):\n",
    "            MGCM[i,j] = math.log(result[optimal_lag][0]['params_ftest'][0])\n",
    "        else:\n",
    "            MGCM[i,j] = 0\n",
    "blockPrint()\n",
    "diag = np.max(MGCM)\n",
    "for i in range(channel):\n",
    "    for j in range(channel):\n",
    "        if i == j:\n",
    "            MGCM[i,j] = 1\n",
    "        else:\n",
    "            MGCM[i,j] = MGCM[i,j]/diag"
   ]
  },
  {
   "cell_type": "code",
   "execution_count": 87,
   "metadata": {},
   "outputs": [
    {
     "data": {
      "image/png": "[encoded data removed]",
      "text/plain": [
       "<Figure size 288x288 with 1 Axes>"
      ]
     },
     "metadata": {
      "needs_background": "light"
     },
     "output_type": "display_data"
    }
   ],
   "source": [
    "enablePrint()\n",
    "pyplot.matshow(MGCM)\n",
    "pyplot.show()\n",
    "time_elapsed = (time.clock() - time_start)\n",
    "print(\"{}: {}\".format(\"Time Used\", time_elapsed))"
   ]
  },
  {
   "cell_type": "code",
   "execution_count": 88,
   "metadata": {},
   "outputs": [
    {
     "name": "stdout",
     "output_type": "stream",
     "text": [
      "0.35693551284594077\n",
      "0.3423807029848485\n",
      "1.0\n",
      "0.0\n"
     ]
    }
   ],
   "source": [
    "print(np.mean(MGCM))\n",
    "print(np.median(MGCM))\n",
    "print(np.max(MGCM))\n",
    "print(np.min(MGCM))"
   ]
  },
  {
   "cell_type": "code",
   "execution_count": 89,
   "metadata": {},
   "outputs": [
    {
     "name": "stdout",
     "output_type": "stream",
     "text": [
      "Hours needed:67.29154595555556\n"
     ]
    }
   ],
   "source": [
    "print(\"{}:{}\".format(\"Hours needed\", time_elapsed*40*32/60/60))"
   ]
  },
  {
   "cell_type": "code",
   "execution_count": 32,
   "metadata": {},
   "outputs": [],
   "source": [
    "#GoogleColab takes 34 seconds"
   ]
  },
  {
   "cell_type": "markdown",
   "metadata": {},
   "source": [
    "# Split data computing MGCM for LSTM"
   ]
  },
  {
   "cell_type": "code",
   "execution_count": 98,
   "metadata": {},
   "outputs": [],
   "source": [
    "temp_trial = ica[:,:,1]\n",
    "trial = ica.shape[2]\n",
    "print(\"{}: {}\".format(\"Total number of trials is\", trial))\n",
    "channel = temp_trial.shape[0]\n",
    "print(\"{}: {}\".format(\"Total number of channels in each trial is\", channel))\n",
    "timepoint = temp_trial.shape[1]\n",
    "print(\"{}: {}\".format(\"Total number of time points in per channel per trial is\", timepoint))"
   ]
  },
  {
   "cell_type": "code",
   "execution_count": 99,
   "metadata": {},
   "outputs": [],
   "source": [
    "from matplotlib import pyplot\n",
    "import math\n",
    "import time"
   ]
  },
  {
   "cell_type": "code",
   "execution_count": 100,
   "metadata": {},
   "outputs": [],
   "source": [
    "hz = 128\n",
    "#a 3 second pre-trial baseline removed\n",
    "lstm_trial = temp_trial[:,128*3:]\n",
    "print(temp_trial.shape)\n",
    "print(lstm_trial.shape)"
   ]
  },
  {
   "cell_type": "code",
   "execution_count": 101,
   "metadata": {},
   "outputs": [],
   "source": [
    "current_trial = lstm_trial[:,0*hz:(0+1)*hz]\n",
    "print(current_trial.shape)"
   ]
  },
  {
   "cell_type": "code",
   "execution_count": 102,
   "metadata": {},
   "outputs": [],
   "source": [
    "from statsmodels.tsa.ar_model import AR\n",
    "a = np.asarray(current_trial[0,:])\n",
    "b = np.asarray(current_trial[17,:])\n",
    "x = np.vstack((a, b)).T\n",
    "print(x.shape)\n",
    "\n",
    "model = AR(a)\n",
    "model_fit = model.fit()\n",
    "print('Lag: %s' % model_fit.k_ar)\n",
    "maxlag = model_fit.k_ar\n",
    "if maxlag > 8:\n",
    "    maxlag =8"
   ]
  },
  {
   "cell_type": "code",
   "execution_count": 104,
   "metadata": {},
   "outputs": [
    {
     "name": "stdout",
     "output_type": "stream",
     "text": [
      "We are going to look into the GC with Optimal Lag of 7\n"
     ]
    }
   ],
   "source": [
    "blockPrint()\n",
    "result = stm.grangercausalitytests(x, maxlag, addconst, verbose)\n",
    "optimal_lag = -1\n",
    "F_test = -1.0\n",
    "for key in result.keys():\n",
    "    _F_test_ = result[key][0]['params_ftest'][0]\n",
    "    if _F_test_ > F_test:\n",
    "        F_test = _F_test_\n",
    "        optimal_lag = key\n",
    "enablePrint()\n",
    "print(\"{} {}\".format(\"We are going to look into the GC with Optimal Lag of\", optimal_lag))"
   ]
  },
  {
   "cell_type": "markdown",
   "metadata": {},
   "source": [
    "Here split the dataset second by second and compute the MGCM for each 128 datapoints. Since 7680/128 = 60 seconds, the sanity check is good"
   ]
  },
  {
   "cell_type": "code",
   "execution_count": null,
   "metadata": {},
   "outputs": [
    {
     "name": "stdout",
     "output_type": "stream",
     "text": [
      "0\n"
     ]
    }
   ],
   "source": [
    "time_start = time.clock()\n",
    "for k in range(60):\n",
    "    print(k)\n",
    "    blockPrint()\n",
    "    current_trial = lstm_trial[k*hz:(k+1)*hz]\n",
    "    for i in range(channel):\n",
    "        for j in range(channel):\n",
    "            if i == j:\n",
    "                print(\"{} -> {}:{}\".format(k,i,j))\n",
    "                MGCM[i,j] = 0\n",
    "            blockPrint()\n",
    "            a = np.asarray(current_trial[i,:])\n",
    "            b = np.asarray(current_trial[j,:])\n",
    "            x = np.vstack((a, b)).T\n",
    "            model = AR(a)\n",
    "            model_fit = model.fit()\n",
    "            maxlag = model_fit.k_ar\n",
    "            if maxlag > 8:\n",
    "                maxlag = 8\n",
    "            result = stm.grangercausalitytests(x, maxlag, addconst = True, verbose = True)\n",
    "            optimal_lag = -1\n",
    "            F_test = -1.0\n",
    "            for key in result.keys():\n",
    "                _F_test_ = result[key][0]['params_ftest'][0]\n",
    "                if _F_test_ > F_test:\n",
    "                    F_test = _F_test_\n",
    "                    optimal_lag = key\n",
    "            if (result[optimal_lag][0]['params_ftest'][1] < 0.03):\n",
    "                MGCM[i,j] = math.log(result[optimal_lag][0]['params_ftest'][0])\n",
    "            else:\n",
    "                MGCM[i,j] = 0\n",
    "    enablePrint()\n",
    "    diag = np.max(MGCM)\n",
    "    print(diag)\n",
    "    for i in range(channel):\n",
    "        for j in range(channel):\n",
    "            if i == j:\n",
    "                MGCM[i,j] = 1\n",
    "            else:\n",
    "                MGCM[i,j] = MGCM[i,j]/diag\n",
    "    enablePrint()\n",
    "    pyplot.matshow(MGCM)\n",
    "    pyplot.show()\n",
    "time_elapsed = (time.clock() - time_start)\n",
    "print(\"{}: {}\".format(\"Time Used\", time_elapsed))"
   ]
  },
  {
   "cell_type": "code",
   "execution_count": null,
   "metadata": {},
   "outputs": [],
   "source": []
  }
 ],
 "metadata": {
  "kernelspec": {
   "display_name": "Python 3",
   "language": "python",
   "name": "python3"
  },
  "language_info": {
   "codemirror_mode": {
    "name": "ipython",
    "version": 3
   },
   "file_extension": ".py",
   "mimetype": "text/x-python",
   "name": "python",
   "nbconvert_exporter": "python",
   "pygments_lexer": "ipython3",
   "version": "3.6.8"
  }
 },
 "nbformat": 4,
 "nbformat_minor": 2
}
