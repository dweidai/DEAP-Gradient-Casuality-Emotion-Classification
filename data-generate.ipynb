{
 "cells": [
  {
   "cell_type": "markdown",
   "metadata": {},
   "source": [
    "# Suppress Printing"
   ]
  },
  {
   "cell_type": "code",
   "execution_count": 129,
   "metadata": {},
   "outputs": [],
   "source": [
    "import sys, os\n",
    "def blockPrint():\n",
    "    sys.stdout = open(os.devnull, 'w')\n",
    "\n",
    "def enablePrint():\n",
    "    sys.stdout = sys.__stdout__"
   ]
  },
  {
   "cell_type": "markdown",
   "metadata": {},
   "source": [
    "# Load Back Projected ICA Data"
   ]
  },
  {
   "cell_type": "code",
   "execution_count": 130,
   "metadata": {},
   "outputs": [],
   "source": [
    "import scipy.io as sio"
   ]
  },
  {
   "cell_type": "code",
   "execution_count": 131,
   "metadata": {},
   "outputs": [],
   "source": [
    "enablePrint()\n",
    "filepath = '/Users/apple/Desktop/eeglab14_1_2b/ICA_Data/EEGData1.mat'\n",
    "mat_contents = sio.loadmat(filepath)\n",
    "ica = mat_contents['data']\n",
    "temp_trial = ica[:,:,1]\n",
    "trial = ica.shape[2]\n",
    "print(\"{}: {}\".format(\"Total number of trials is\", trial))\n",
    "channel = temp_trial.shape[0]\n",
    "print(\"{}: {}\".format(\"Total number of channels in each trial is\", channel))\n",
    "timepoint = temp_trial.shape[1]\n",
    "print(\"{}: {}\".format(\"Total number of time points in per channel per trial is\", timepoint))"
   ]
  },
  {
   "cell_type": "markdown",
   "metadata": {},
   "source": [
    "# Testing between 1 trial 2 channels with GC"
   ]
  },
  {
   "cell_type": "code",
   "execution_count": 132,
   "metadata": {},
   "outputs": [],
   "source": [
    "import statsmodels.tsa.stattools as stm\n",
    "import numpy as np"
   ]
  },
  {
   "cell_type": "code",
   "execution_count": 133,
   "metadata": {},
   "outputs": [],
   "source": [
    "#we just gonna pick temp_trial\n",
    "print(temp_trial.shape)\n",
    "temp_trial = temp_trial[:,1::10]\n",
    "print(temp_trial.shape)"
   ]
  },
  {
   "cell_type": "code",
   "execution_count": 134,
   "metadata": {},
   "outputs": [],
   "source": [
    "a = np.asarray(temp_trial[0,:])\n",
    "b = np.asarray(temp_trial[1,:])\n",
    "x = np.vstack((a, b)).T\n",
    "print(x.shape)"
   ]
  },
  {
   "cell_type": "code",
   "execution_count": 136,
   "metadata": {},
   "outputs": [],
   "source": [
    "from statsmodels.tsa.ar_model import AR\n",
    "model = AR(a)\n",
    "model_fit = model.fit()\n",
    "print('Lag: %s' % model_fit.k_ar)\n",
    "maxlag = model_fit.k_ar\n",
    "if maxlag > 5:\n",
    "    maxlag =5"
   ]
  },
  {
   "cell_type": "code",
   "execution_count": 137,
   "metadata": {},
   "outputs": [],
   "source": [
    "addconst = True\n",
    "verbose = True"
   ]
  },
  {
   "cell_type": "code",
   "execution_count": 138,
   "metadata": {},
   "outputs": [],
   "source": [
    "result = stm.grangercausalitytests(x, maxlag, addconst, verbose)\n",
    "optimal_lag = -1\n",
    "F_test = -1.0\n",
    "for key in result.keys():\n",
    "    _F_test_ = result[key][0]['params_ftest'][0]\n",
    "    if _F_test_ > F_test:\n",
    "        F_test = _F_test_\n",
    "        optimal_lag = key"
   ]
  },
  {
   "cell_type": "code",
   "execution_count": 139,
   "metadata": {},
   "outputs": [],
   "source": [
    "print(\"{} {}\".format(\"We are going to look into the GC with Optimal Lag of\", optimal_lag))"
   ]
  },
  {
   "cell_type": "markdown",
   "metadata": {},
   "source": [
    "We consider the p-value of the test as a measure for Granger causality: rejection of ℋ0 (p < 0.03) signifies Granger causality, acceptance means non-causality."
   ]
  },
  {
   "cell_type": "markdown",
   "metadata": {},
   "source": [
    "The causality relations drawn from systems with very small values of |det(ΛˆI)| are not meaningful"
   ]
  },
  {
   "cell_type": "code",
   "execution_count": 140,
   "metadata": {},
   "outputs": [],
   "source": [
    "if (result[optimal_lag][0]['params_ftest'][1] < 0.03):\n",
    "    print(result[optimal_lag][0]['params_ftest'][0])"
   ]
  },
  {
   "cell_type": "markdown",
   "metadata": {},
   "source": [
    "# Compute one Multivariant Granger Causality Matrix MGCM"
   ]
  },
  {
   "cell_type": "code",
   "execution_count": 141,
   "metadata": {},
   "outputs": [],
   "source": [
    "from matplotlib import pyplot\n",
    "import math\n",
    "import time"
   ]
  },
  {
   "cell_type": "code",
   "execution_count": 142,
   "metadata": {
    "scrolled": true
   },
   "outputs": [
    {
     "data": {
      "image/png": "[encoded data removed]",
      "text/plain": [
       "<Figure size 288x288 with 1 Axes>"
      ]
     },
     "metadata": {
      "needs_background": "light"
     },
     "output_type": "display_data"
    }
   ],
   "source": [
    "time_start = time.clock()\n",
    "MGCM = np.zeros((channel,channel))\n",
    "for i in range(channel):\n",
    "    for j in range(channel):\n",
    "        if i == j:\n",
    "            enablePrint()\n",
    "            print(\"{}:{}\".format(i,j))\n",
    "            MGCM[i,j] = 0\n",
    "        blockPrint()\n",
    "        a = np.asarray(temp_trial[i,:])\n",
    "        b = np.asarray(temp_trial[j,:])\n",
    "        x = np.vstack((a, b)).T\n",
    "        model = AR(a)\n",
    "        model_fit = model.fit()\n",
    "        maxlag = model_fit.k_ar\n",
    "        if maxlag > 5:\n",
    "            maxlag = 5\n",
    "        result = stm.grangercausalitytests(x, maxlag, addconst = True, verbose = True)\n",
    "        optimal_lag = -1\n",
    "        F_test = -1.0\n",
    "        for key in result.keys():\n",
    "            _F_test_ = result[key][0]['params_ftest'][0]\n",
    "            if _F_test_ > F_test:\n",
    "                F_test = _F_test_\n",
    "                optimal_lag = key\n",
    "        if (result[optimal_lag][0]['params_ftest'][1] < 0.03):\n",
    "            MGCM[i,j] = math.log(result[optimal_lag][0]['params_ftest'][0])\n",
    "        else:\n",
    "            MGCM[i,j] = 0\n",
    "enablePrint()\n",
    "diag = np.max(MGCM)\n",
    "print(diag)\n",
    "for i in range(channel):\n",
    "    for j in range(channel):\n",
    "        if i == j:\n",
    "            MGCM[i,j] = 1\n",
    "        else:\n",
    "            MGCM[i,j] = MGCM[i,j]/diag\n",
    "pyplot.matshow(MGCM)\n",
    "pyplot.show()\n",
    "time_elapsed = (time.clock() - time_start)\n",
    "print(\"{}: {}\".format(\"Time Used\", time_elapsed))"
   ]
  },
  {
   "cell_type": "code",
   "execution_count": 143,
   "metadata": {},
   "outputs": [],
   "source": [
    "print(np.mean(MGCM))\n",
    "print(np.median(MGCM))\n",
    "print(np.max(MGCM))\n",
    "print(np.min(MGCM))"
   ]
  },
  {
   "cell_type": "code",
   "execution_count": 145,
   "metadata": {},
   "outputs": [],
   "source": [
    "print(\"{}:{}\".format(\"Hours needed\", 193*40*40/60/24))"
   ]
  },
  {
   "cell_type": "code",
   "execution_count": 110,
   "metadata": {},
   "outputs": [
    {
     "data": {
      "image/png": "[encoded data removed]",
      "text/plain": [
       "<Figure size 288x288 with 1 Axes>"
      ]
     },
     "metadata": {
      "needs_background": "light"
     },
     "output_type": "display_data"
    }
   ],
   "source": [
    "temp_trial = ica[:,:,15]\n",
    "time_start = time.clock()\n",
    "MGCM = np.zeros((channel,channel))\n",
    "for i in range(channel):\n",
    "    for j in range(channel):\n",
    "        if i == j:\n",
    "            enablePrint()\n",
    "            print(\"{}:{}\".format(i,j))\n",
    "            MGCM[i,j] = 0\n",
    "        blockPrint()\n",
    "        a = np.asarray(temp_trial[i,:])\n",
    "        b = np.asarray(temp_trial[j,:])\n",
    "        x = np.vstack((a, b)).T\n",
    "        model = AR(a)\n",
    "        model_fit = model.fit()\n",
    "        maxlag = model_fit.k_ar\n",
    "        if maxlag > 5:\n",
    "            maxlag = 5\n",
    "        result = stm.grangercausalitytests(x, maxlag, addconst = True, verbose = True)\n",
    "        optimal_lag = -1\n",
    "        F_test = -1.0\n",
    "        for key in result.keys():\n",
    "            _F_test_ = result[key][0]['params_ftest'][0]\n",
    "            if _F_test_ > F_test:\n",
    "                F_test = _F_test_\n",
    "                optimal_lag = key\n",
    "        if (result[optimal_lag][0]['params_ftest'][1] < 0.03 and AR):\n",
    "            MGCM[i,j] = result[optimal_lag][0]['params_ftest'][0]\n",
    "        else:\n",
    "            MGCM[i,j] = 0\n",
    "diag = np.max(MGCM)\n",
    "for i in range(channel):\n",
    "    for j in range(channel):\n",
    "        if i == j:\n",
    "            MGCM[i,j] = 1\n",
    "        else:\n",
    "            MGCM[i,j] = MGCM[i,j]/diag\n",
    "enablePrint()            \n",
    "pyplot.matshow(MGCM)\n",
    "pyplot.show()\n",
    "time_elapsed = (time.clock() - time_start)\n",
    "print(\"{}: {}\".format(\"Time Used\", time_elapsed))"
   ]
  },
  {
   "cell_type": "code",
   "execution_count": null,
   "metadata": {},
   "outputs": [],
   "source": []
  }
 ],
 "metadata": {
  "kernelspec": {
   "display_name": "Python 3",
   "language": "python",
   "name": "python3"
  },
  "language_info": {
   "codemirror_mode": {
    "name": "ipython",
    "version": 3
   },
   "file_extension": ".py",
   "mimetype": "text/x-python",
   "name": "python",
   "nbconvert_exporter": "python",
   "pygments_lexer": "ipython3",
   "version": "3.6.8"
  }
 },
 "nbformat": 4,
 "nbformat_minor": 2
}
