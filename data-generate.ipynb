{
 "cells": [
  {
   "cell_type": "markdown",
   "metadata": {},
   "source": [
    "# Load Back Projected ICA Data"
   ]
  },
  {
   "cell_type": "code",
   "execution_count": 1,
   "metadata": {},
   "outputs": [],
   "source": [
    "import scipy.io as sio"
   ]
  },
  {
   "cell_type": "code",
   "execution_count": 10,
   "metadata": {},
   "outputs": [
    {
     "name": "stdout",
     "output_type": "stream",
     "text": [
      "Total number of trials is: 40\n",
      "Total number of channels in each trial is: 32\n",
      "Total number of time points in per channel per trial is: 8064\n"
     ]
    }
   ],
   "source": [
    "filepath = '/Users/apple/Desktop/eeglab14_1_2b/ICA_Data/EEGData1.mat'\n",
    "mat_contents = sio.loadmat(filepath)\n",
    "ica = mat_contents['data']\n",
    "temp_trial = ica[:,:,1]\n",
    "trial = ica.shape[2]\n",
    "print(\"{}: {}\".format(\"Total number of trials is\", trial))\n",
    "channel = temp_trial.shape[0]\n",
    "print(\"{}: {}\".format(\"Total number of channels in each trial is\", channel))\n",
    "timepoint = temp_trial.shape[1]\n",
    "print(\"{}: {}\".format(\"Total number of time points in per channel per trial is\", timepoint))"
   ]
  },
  {
   "cell_type": "markdown",
   "metadata": {},
   "source": [
    "# Testing between 1 trial 2 channels with GC"
   ]
  },
  {
   "cell_type": "code",
   "execution_count": 13,
   "metadata": {},
   "outputs": [],
   "source": [
    "import statsmodels.tsa.stattools as stm\n",
    "import numpy as np"
   ]
  },
  {
   "cell_type": "code",
   "execution_count": 14,
   "metadata": {},
   "outputs": [
    {
     "name": "stdout",
     "output_type": "stream",
     "text": [
      "(32, 8064)\n"
     ]
    }
   ],
   "source": [
    "#we just gonna pick temp_trial\n",
    "print(temp_trial.shape)"
   ]
  },
  {
   "cell_type": "code",
   "execution_count": 36,
   "metadata": {},
   "outputs": [
    {
     "name": "stdout",
     "output_type": "stream",
     "text": [
      "(8064, 2)\n"
     ]
    }
   ],
   "source": [
    "a = np.asarray(temp_trial[0,:])\n",
    "b = np.asarray(temp_trial[1,:])\n",
    "x = np.vstack((a, b)).T\n",
    "print(x.shape)"
   ]
  },
  {
   "cell_type": "code",
   "execution_count": 86,
   "metadata": {},
   "outputs": [
    {
     "name": "stdout",
     "output_type": "stream",
     "text": [
      "Lag: 36\n"
     ]
    }
   ],
   "source": [
    "from statsmodels.tsa.ar_model import AR\n",
    "model = AR(a)\n",
    "model_fit = model.fit()\n",
    "print('Lag: %s' % model_fit.k_ar)\n",
    "maxlag = model_fit.k_ar #dimension.fnn(x[0])"
   ]
  },
  {
   "cell_type": "code",
   "execution_count": 87,
   "metadata": {},
   "outputs": [],
   "source": [
    "addconst = True\n",
    "verbose = True"
   ]
  },
  {
   "cell_type": "code",
   "execution_count": 88,
   "metadata": {},
   "outputs": [
    {
     "name": "stdout",
     "output_type": "stream",
     "text": [
      "\n",
      "Granger Causality\n",
      "number of lags (no zero) 1\n",
      "ssr based F test:         F=137.4970, p=0.0000  , df_denom=8060, df_num=1\n",
      "ssr based chi2 test:   chi2=137.5481, p=0.0000  , df=1\n",
      "likelihood ratio test: chi2=136.3881, p=0.0000  , df=1\n",
      "parameter F test:         F=137.4970, p=0.0000  , df_denom=8060, df_num=1\n",
      "\n",
      "Granger Causality\n",
      "number of lags (no zero) 2\n",
      "ssr based F test:         F=311.0022, p=0.0000  , df_denom=8057, df_num=2\n",
      "ssr based chi2 test:   chi2=622.3905, p=0.0000  , df=2\n",
      "likelihood ratio test: chi2=599.5351, p=0.0000  , df=2\n",
      "parameter F test:         F=311.0022, p=0.0000  , df_denom=8057, df_num=2\n",
      "\n",
      "Granger Causality\n",
      "number of lags (no zero) 3\n",
      "ssr based F test:         F=283.9087, p=0.0000  , df_denom=8054, df_num=3\n",
      "ssr based chi2 test:   chi2=852.4664, p=0.0000  , df=3\n",
      "likelihood ratio test: chi2=810.3369, p=0.0000  , df=3\n",
      "parameter F test:         F=283.9087, p=0.0000  , df_denom=8054, df_num=3\n",
      "\n",
      "Granger Causality\n",
      "number of lags (no zero) 4\n",
      "ssr based F test:         F=215.8010, p=0.0000  , df_denom=8051, df_num=4\n",
      "ssr based chi2 test:   chi2=864.1688, p=0.0000  , df=4\n",
      "likelihood ratio test: chi2=820.9081, p=0.0000  , df=4\n",
      "parameter F test:         F=215.8010, p=0.0000  , df_denom=8051, df_num=4\n",
      "\n",
      "Granger Causality\n",
      "number of lags (no zero) 5\n",
      "ssr based F test:         F=131.9068, p=0.0000  , df_denom=8048, df_num=5\n",
      "ssr based chi2 test:   chi2=660.4354, p=0.0000  , df=5\n",
      "likelihood ratio test: chi2=634.7672, p=0.0000  , df=5\n",
      "parameter F test:         F=131.9068, p=0.0000  , df_denom=8048, df_num=5\n",
      "\n",
      "Granger Causality\n",
      "number of lags (no zero) 6\n",
      "ssr based F test:         F=116.9787, p=0.0000  , df_denom=8045, df_num=6\n",
      "ssr based chi2 test:   chi2=703.0064, p=0.0000  , df=6\n",
      "likelihood ratio test: chi2=674.0146, p=0.0000  , df=6\n",
      "parameter F test:         F=116.9787, p=0.0000  , df_denom=8045, df_num=6\n",
      "\n",
      "Granger Causality\n",
      "number of lags (no zero) 7\n",
      "ssr based F test:         F=111.0437, p=0.0000  , df_denom=8042, df_num=7\n",
      "ssr based chi2 test:   chi2=778.7557, p=0.0000  , df=7\n",
      "likelihood ratio test: chi2=743.3820, p=0.0000  , df=7\n",
      "parameter F test:         F=111.0437, p=0.0000  , df_denom=8042, df_num=7\n",
      "\n",
      "Granger Causality\n",
      "number of lags (no zero) 8\n",
      "ssr based F test:         F=100.6896, p=0.0000  , df_denom=8039, df_num=8\n",
      "ssr based chi2 test:   chi2=807.2205, p=0.0000  , df=8\n",
      "likelihood ratio test: chi2=769.2919, p=0.0000  , df=8\n",
      "parameter F test:         F=100.6896, p=0.0000  , df_denom=8039, df_num=8\n",
      "\n",
      "Granger Causality\n",
      "number of lags (no zero) 9\n",
      "ssr based F test:         F=82.6059 , p=0.0000  , df_denom=8036, df_num=9\n",
      "ssr based chi2 test:   chi2=745.2106, p=0.0000  , df=9\n",
      "likelihood ratio test: chi2=712.7276, p=0.0000  , df=9\n",
      "parameter F test:         F=82.6059 , p=0.0000  , df_denom=8036, df_num=9\n",
      "\n",
      "Granger Causality\n",
      "number of lags (no zero) 10\n",
      "ssr based F test:         F=77.6361 , p=0.0000  , df_denom=8033, df_num=10\n",
      "ssr based chi2 test:   chi2=778.3902, p=0.0000  , df=10\n",
      "likelihood ratio test: chi2=743.0363, p=0.0000  , df=10\n",
      "parameter F test:         F=77.6361 , p=0.0000  , df_denom=8033, df_num=10\n",
      "\n",
      "Granger Causality\n",
      "number of lags (no zero) 11\n",
      "ssr based F test:         F=73.2057 , p=0.0000  , df_denom=8030, df_num=11\n",
      "ssr based chi2 test:   chi2=807.5689, p=0.0000  , df=11\n",
      "likelihood ratio test: chi2=769.5953, p=0.0000  , df=11\n",
      "parameter F test:         F=73.2057 , p=0.0000  , df_denom=8030, df_num=11\n",
      "\n",
      "Granger Causality\n",
      "number of lags (no zero) 12\n",
      "ssr based F test:         F=62.6791 , p=0.0000  , df_denom=8027, df_num=12\n",
      "ssr based chi2 test:   chi2=754.4914, p=0.0000  , df=12\n",
      "likelihood ratio test: chi2=721.2064, p=0.0000  , df=12\n",
      "parameter F test:         F=62.6791 , p=0.0000  , df_denom=8027, df_num=12\n",
      "\n",
      "Granger Causality\n",
      "number of lags (no zero) 13\n",
      "ssr based F test:         F=59.2800 , p=0.0000  , df_denom=8024, df_num=13\n",
      "ssr based chi2 test:   chi2=773.2327, p=0.0000  , df=13\n",
      "likelihood ratio test: chi2=738.3197, p=0.0000  , df=13\n",
      "parameter F test:         F=59.2800 , p=0.0000  , df_denom=8024, df_num=13\n",
      "\n",
      "Granger Causality\n",
      "number of lags (no zero) 14\n",
      "ssr based F test:         F=59.1082 , p=0.0000  , df_denom=8021, df_num=14\n",
      "ssr based chi2 test:   chi2=830.5068, p=0.0000  , df=14\n",
      "likelihood ratio test: chi2=790.4016, p=0.0000  , df=14\n",
      "parameter F test:         F=59.1082 , p=0.0000  , df_denom=8021, df_num=14\n",
      "\n",
      "Granger Causality\n",
      "number of lags (no zero) 15\n",
      "ssr based F test:         F=51.3316 , p=0.0000  , df_denom=8018, df_num=15\n",
      "ssr based chi2 test:   chi2=772.9511, p=0.0000  , df=15\n",
      "likelihood ratio test: chi2=738.0547, p=0.0000  , df=15\n",
      "parameter F test:         F=51.3316 , p=0.0000  , df_denom=8018, df_num=15\n",
      "\n",
      "Granger Causality\n",
      "number of lags (no zero) 16\n",
      "ssr based F test:         F=43.9572 , p=0.0000  , df_denom=8015, df_num=16\n",
      "ssr based chi2 test:   chi2=706.2104, p=0.0000  , df=16\n",
      "likelihood ratio test: chi2=676.9266, p=0.0000  , df=16\n",
      "parameter F test:         F=43.9572 , p=0.0000  , df_denom=8015, df_num=16\n",
      "\n",
      "Granger Causality\n",
      "number of lags (no zero) 17\n",
      "ssr based F test:         F=47.4586 , p=0.0000  , df_denom=8012, df_num=17\n",
      "ssr based chi2 test:   chi2=810.3208, p=0.0000  , df=17\n",
      "likelihood ratio test: chi2=772.0692, p=0.0000  , df=17\n",
      "parameter F test:         F=47.4586 , p=0.0000  , df_denom=8012, df_num=17\n",
      "\n",
      "Granger Causality\n",
      "number of lags (no zero) 18\n",
      "ssr based F test:         F=41.6170 , p=0.0000  , df_denom=8009, df_num=18\n",
      "ssr based chi2 test:   chi2=752.5660, p=0.0000  , df=18\n",
      "likelihood ratio test: chi2=719.4224, p=0.0000  , df=18\n",
      "parameter F test:         F=41.6170 , p=0.0000  , df_denom=8009, df_num=18\n",
      "\n",
      "Granger Causality\n",
      "number of lags (no zero) 19\n",
      "ssr based F test:         F=37.0784 , p=0.0000  , df_denom=8006, df_num=19\n",
      "ssr based chi2 test:   chi2=707.9223, p=0.0000  , df=19\n",
      "likelihood ratio test: chi2=678.4899, p=0.0000  , df=19\n",
      "parameter F test:         F=37.0784 , p=0.0000  , df_denom=8006, df_num=19\n",
      "\n",
      "Granger Causality\n",
      "number of lags (no zero) 20\n",
      "ssr based F test:         F=40.3483 , p=0.0000  , df_denom=8003, df_num=20\n",
      "ssr based chi2 test:   chi2=811.1002, p=0.0000  , df=20\n",
      "likelihood ratio test: chi2=772.7639, p=0.0000  , df=20\n",
      "parameter F test:         F=40.3483 , p=0.0000  , df_denom=8003, df_num=20\n",
      "\n",
      "Granger Causality\n",
      "number of lags (no zero) 21\n",
      "ssr based F test:         F=38.3816 , p=0.0000  , df_denom=8000, df_num=21\n",
      "ssr based chi2 test:   chi2=810.3454, p=0.0000  , df=21\n",
      "likelihood ratio test: chi2=772.0737, p=0.0000  , df=21\n",
      "parameter F test:         F=38.3816 , p=0.0000  , df_denom=8000, df_num=21\n",
      "\n",
      "Granger Causality\n",
      "number of lags (no zero) 22\n",
      "ssr based F test:         F=33.5414 , p=0.0000  , df_denom=7997, df_num=22\n",
      "ssr based chi2 test:   chi2=742.0623, p=0.0000  , df=22\n",
      "likelihood ratio test: chi2=709.7963, p=0.0000  , df=22\n",
      "parameter F test:         F=33.5414 , p=0.0000  , df_denom=7997, df_num=22\n",
      "\n",
      "Granger Causality\n",
      "number of lags (no zero) 23\n",
      "ssr based F test:         F=32.3142 , p=0.0000  , df_denom=7994, df_num=23\n",
      "ssr based chi2 test:   chi2=747.5959, p=0.0000  , df=23\n",
      "likelihood ratio test: chi2=714.8570, p=0.0000  , df=23\n",
      "parameter F test:         F=32.3142 , p=0.0000  , df_denom=7994, df_num=23\n",
      "\n",
      "Granger Causality\n",
      "number of lags (no zero) 24\n",
      "ssr based F test:         F=30.5649 , p=0.0000  , df_denom=7991, df_num=24\n",
      "ssr based chi2 test:   chi2=738.0550, p=0.0000  , df=24\n",
      "likelihood ratio test: chi2=706.1193, p=0.0000  , df=24\n",
      "parameter F test:         F=30.5649 , p=0.0000  , df_denom=7991, df_num=24\n",
      "\n",
      "Granger Causality\n",
      "number of lags (no zero) 25\n",
      "ssr based F test:         F=27.7368 , p=0.0000  , df_denom=7988, df_num=25\n",
      "ssr based chi2 test:   chi2=697.8461, p=0.0000  , df=25\n",
      "likelihood ratio test: chi2=669.2031, p=0.0000  , df=25\n",
      "parameter F test:         F=27.7368 , p=0.0000  , df_denom=7988, df_num=25\n",
      "\n",
      "Granger Causality\n",
      "number of lags (no zero) 26\n",
      "ssr based F test:         F=29.2961 , p=0.0000  , df_denom=7985, df_num=26\n",
      "ssr based chi2 test:   chi2=766.7534, p=0.0000  , df=26\n",
      "likelihood ratio test: chi2=732.3537, p=0.0000  , df=26\n",
      "parameter F test:         F=29.2961 , p=0.0000  , df_denom=7985, df_num=26\n",
      "\n",
      "Granger Causality\n",
      "number of lags (no zero) 27\n",
      "ssr based F test:         F=29.2957 , p=0.0000  , df_denom=7982, df_num=27\n",
      "ssr based chi2 test:   chi2=796.4333, p=0.0000  , df=27\n",
      "likelihood ratio test: chi2=759.3991, p=0.0000  , df=27\n",
      "parameter F test:         F=29.2957 , p=0.0000  , df_denom=7982, df_num=27\n",
      "\n",
      "Granger Causality\n",
      "number of lags (no zero) 28\n"
     ]
    },
    {
     "name": "stdout",
     "output_type": "stream",
     "text": [
      "ssr based F test:         F=27.2416 , p=0.0000  , df_denom=7979, df_num=28\n",
      "ssr based chi2 test:   chi2=768.2134, p=0.0000  , df=28\n",
      "likelihood ratio test: chi2=733.6784, p=0.0000  , df=28\n",
      "parameter F test:         F=27.2416 , p=0.0000  , df_denom=7979, df_num=28\n",
      "\n",
      "Granger Causality\n",
      "number of lags (no zero) 29\n",
      "ssr based F test:         F=25.3977 , p=0.0000  , df_denom=7976, df_num=29\n",
      "ssr based chi2 test:   chi2=741.9811, p=0.0000  , df=29\n",
      "likelihood ratio test: chi2=709.6955, p=0.0000  , df=29\n",
      "parameter F test:         F=25.3977 , p=0.0000  , df_denom=7976, df_num=29\n",
      "\n",
      "Granger Causality\n",
      "number of lags (no zero) 30\n",
      "ssr based F test:         F=25.2617 , p=0.0000  , df_denom=7973, df_num=30\n",
      "ssr based chi2 test:   chi2=763.6484, p=0.0000  , df=30\n",
      "likelihood ratio test: chi2=729.5026, p=0.0000  , df=30\n",
      "parameter F test:         F=25.2616 , p=0.0000  , df_denom=7973, df_num=30\n",
      "\n",
      "Granger Causality\n",
      "number of lags (no zero) 31\n",
      "ssr based F test:         F=23.9798 , p=0.0000  , df_denom=7970, df_num=31\n",
      "ssr based chi2 test:   chi2=749.2505, p=0.0000  , df=31\n",
      "likelihood ratio test: chi2=716.3399, p=0.0000  , df=31\n",
      "parameter F test:         F=23.9798 , p=0.0000  , df_denom=7970, df_num=31\n",
      "\n",
      "Granger Causality\n",
      "number of lags (no zero) 32\n",
      "ssr based F test:         F=24.7924 , p=0.0000  , df_denom=7967, df_num=32\n",
      "ssr based chi2 test:   chi2=799.8299, p=0.0000  , df=32\n",
      "likelihood ratio test: chi2=762.4671, p=0.0000  , df=32\n",
      "parameter F test:         F=24.7929 , p=0.0000  , df_denom=7967, df_num=32\n",
      "\n",
      "Granger Causality\n",
      "number of lags (no zero) 33\n",
      "ssr based F test:         F=25.1998 , p=0.0000  , df_denom=7964, df_num=33\n",
      "ssr based chi2 test:   chi2=838.5885, p=0.0000  , df=33\n",
      "likelihood ratio test: chi2=797.6337, p=0.0000  , df=33\n",
      "parameter F test:         F=25.1995 , p=0.0000  , df_denom=7964, df_num=33\n",
      "\n",
      "Granger Causality\n",
      "number of lags (no zero) 34\n",
      "ssr based F test:         F=24.3865 , p=0.0000  , df_denom=7961, df_num=34\n",
      "ssr based chi2 test:   chi2=836.3287, p=0.0000  , df=34\n",
      "likelihood ratio test: chi2=795.5825, p=0.0000  , df=34\n",
      "parameter F test:         F=24.3873 , p=0.0000  , df_denom=7961, df_num=34\n",
      "\n",
      "Granger Causality\n",
      "number of lags (no zero) 35\n",
      "ssr based F test:         F=23.5257 , p=0.0000  , df_denom=7958, df_num=35\n",
      "ssr based chi2 test:   chi2=830.7448, p=0.0000  , df=35\n",
      "likelihood ratio test: chi2=790.5191, p=0.0000  , df=35\n",
      "parameter F test:         F=24.9505 , p=0.0000  , df_denom=7958, df_num=33\n",
      "\n",
      "Granger Causality\n",
      "number of lags (no zero) 36\n",
      "ssr based F test:         F=26.3275 , p=0.0000  , df_denom=7955, df_num=36\n",
      "ssr based chi2 test:   chi2=956.4882, p=0.0000  , df=36\n",
      "likelihood ratio test: chi2=903.6648, p=0.0000  , df=36\n",
      "parameter F test:         F=31.5806 , p=0.0000  , df_denom=7955, df_num=30\n"
     ]
    },
    {
     "name": "stderr",
     "output_type": "stream",
     "text": [
      "/anaconda3/lib/python3.6/site-packages/statsmodels/base/model.py:1752: ValueWarning: covariance of constraints does not have full rank. The number of constraints is 35, but rank is 33\n",
      "  'rank is %d' % (J, J_), ValueWarning)\n",
      "/anaconda3/lib/python3.6/site-packages/statsmodels/base/model.py:1752: ValueWarning: covariance of constraints does not have full rank. The number of constraints is 36, but rank is 30\n",
      "  'rank is %d' % (J, J_), ValueWarning)\n"
     ]
    }
   ],
   "source": [
    "result = stm.grangercausalitytests(x, maxlag, addconst, verbose)\n",
    "optimal_lag = -1\n",
    "F_test = -1.0\n",
    "for key in result.keys():\n",
    "    _F_test_ = result[key][0]['params_ftest'][0]\n",
    "    if _F_test_ > F_test:\n",
    "        F_test = _F_test_\n",
    "        optimal_lag = key"
   ]
  },
  {
   "cell_type": "code",
   "execution_count": 89,
   "metadata": {},
   "outputs": [
    {
     "name": "stdout",
     "output_type": "stream",
     "text": [
      "We are going to look into the GC with Optimal Lag of 2\n"
     ]
    }
   ],
   "source": [
    "print(\"{} {}\".format(\"We are going to look into the GC with Optimal Lag of\", optimal_lag))"
   ]
  },
  {
   "cell_type": "markdown",
   "metadata": {},
   "source": [
    "We consider the p-value of the test as a measure for Granger causality: rejection of ℋ0 (p < 0.03) signifies Granger causality, acceptance means non-causality."
   ]
  },
  {
   "cell_type": "markdown",
   "metadata": {},
   "source": [
    "The causality relations drawn from systems with very small values of |det(ΛˆI)| are not meaningful"
   ]
  },
  {
   "cell_type": "code",
   "execution_count": 92,
   "metadata": {},
   "outputs": [
    {
     "name": "stdout",
     "output_type": "stream",
     "text": [
      "311.00222869083973\n"
     ]
    }
   ],
   "source": [
    "if (result[optimal_lag][0]['params_ftest'][1] < 0.03 and AR):\n",
    "    print(result[optimal_lag][0]['params_ftest'][0])\n"
   ]
  },
  {
   "cell_type": "markdown",
   "metadata": {},
   "source": [
    "# Suppress Printing"
   ]
  },
  {
   "cell_type": "code",
   "execution_count": 106,
   "metadata": {},
   "outputs": [],
   "source": [
    "import sys, os\n",
    "def blockPrint():\n",
    "    sys.stdout = open(os.devnull, 'w')\n",
    "\n",
    "def enablePrint():\n",
    "    sys.stdout = sys.__stdout__"
   ]
  },
  {
   "cell_type": "markdown",
   "metadata": {},
   "source": [
    "# Compute one Multivariant Granger Causality Matrix MGCM"
   ]
  },
  {
   "cell_type": "code",
   "execution_count": 107,
   "metadata": {},
   "outputs": [],
   "source": [
    "from matplotlib import pyplot\n",
    "import time"
   ]
  },
  {
   "cell_type": "code",
   "execution_count": null,
   "metadata": {},
   "outputs": [],
   "source": [
    "time_start = time.clock()\n",
    "MGCM = np.zeros((channel,channel))\n",
    "for i in range(channel):\n",
    "    for j in range(channel):\n",
    "        if i == j:\n",
    "            enablePrint()\n",
    "            print(\"{}:{}\".format(i,j))\n",
    "            MGCM[i,j] = 0\n",
    "        blockPrint()\n",
    "        a = np.asarray(temp_trial[i,:])\n",
    "        b = np.asarray(temp_trial[j,:])\n",
    "        x = np.vstack((a, b)).T\n",
    "        model = AR(a)\n",
    "        model_fit = model.fit()\n",
    "        maxlag = model_fit.k_ar\n",
    "        if maxlag > 5:\n",
    "            maxlag = 5\n",
    "        result = stm.grangercausalitytests(x, maxlag, addconst = True, verbose = True)\n",
    "        optimal_lag = -1\n",
    "        F_test = -1.0\n",
    "        for key in result.keys():\n",
    "            _F_test_ = result[key][0]['params_ftest'][0]\n",
    "            if _F_test_ > F_test:\n",
    "                F_test = _F_test_\n",
    "                optimal_lag = key\n",
    "        if (result[optimal_lag][0]['params_ftest'][1] < 0.03 and AR):\n",
    "            MGCM[i,j] = result[optimal_lag][0]['params_ftest'][0]\n",
    "        else:\n",
    "            MGCM[i,j] = 0\n",
    "diag = np.max(MGCM)\n",
    "for i in range(channel):\n",
    "    for j in range(channel):\n",
    "        if i == j:\n",
    "            MGCM[i,j] = diag\n",
    "        else:\n",
    "            MGCM[i,j] = MGCM[i,j]/diag\n",
    "            \n",
    "pyplot.matshow(MGCM)\n",
    "pyplot.show()\n",
    "time_elapsed = (time.clock() - time_start)\n",
    "print(\"{}: {}\".format(\"Time Used\", time_elapsed))"
   ]
  },
  {
   "cell_type": "code",
   "execution_count": null,
   "metadata": {},
   "outputs": [],
   "source": []
  }
 ],
 "metadata": {
  "kernelspec": {
   "display_name": "Python 3",
   "language": "python",
   "name": "python3"
  },
  "language_info": {
   "codemirror_mode": {
    "name": "ipython",
    "version": 3
   },
   "file_extension": ".py",
   "mimetype": "text/x-python",
   "name": "python",
   "nbconvert_exporter": "python",
   "pygments_lexer": "ipython3",
   "version": "3.6.8"
  }
 },
 "nbformat": 4,
 "nbformat_minor": 2
}
