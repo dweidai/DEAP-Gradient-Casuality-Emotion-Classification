{
 "cells": [
  {
   "cell_type": "markdown",
   "metadata": {},
   "source": [
    "# Load Back Projected ICA Data"
   ]
  },
  {
   "cell_type": "code",
   "execution_count": 1,
   "metadata": {},
   "outputs": [],
   "source": [
    "import scipy.io as sio"
   ]
  },
  {
   "cell_type": "code",
   "execution_count": 10,
   "metadata": {},
   "outputs": [
    {
     "name": "stdout",
     "output_type": "stream",
     "text": [
      "Total number of trials is: 40\n",
      "Total number of channels in each trial is: 32\n",
      "Total number of time points in per channel per trial is: 8064\n"
     ]
    }
   ],
   "source": [
    "filepath = '/Users/apple/Desktop/eeglab14_1_2b/ICA_Data/EEGData1.mat'\n",
    "mat_contents = sio.loadmat(filepath)\n",
    "ica = mat_contents['data']\n",
    "temp_trial = ica[:,:,1]\n",
    "trial = ica.shape[2]\n",
    "print(\"{}: {}\".format(\"Total number of trials is\", trial))\n",
    "channel = temp_trial.shape[0]\n",
    "print(\"{}: {}\".format(\"Total number of channels in each trial is\", channel))\n",
    "timepoint = temp_trial.shape[1]\n",
    "print(\"{}: {}\".format(\"Total number of time points in per channel per trial is\", timepoint))"
   ]
  },
  {
   "cell_type": "markdown",
   "metadata": {},
   "source": [
    "# Testing between 1 trial 2 channels with GC"
   ]
  },
  {
   "cell_type": "code",
   "execution_count": 13,
   "metadata": {},
   "outputs": [],
   "source": [
    "import statsmodels.tsa.stattools as stm\n",
    "import numpy as np"
   ]
  },
  {
   "cell_type": "code",
   "execution_count": 14,
   "metadata": {},
   "outputs": [
    {
     "name": "stdout",
     "output_type": "stream",
     "text": [
      "(32, 8064)\n"
     ]
    }
   ],
   "source": [
    "#we just gonna pick temp_trial\n",
    "print(temp_trial.shape)"
   ]
  },
  {
   "cell_type": "code",
   "execution_count": 36,
   "metadata": {},
   "outputs": [
    {
     "name": "stdout",
     "output_type": "stream",
     "text": [
      "(8064, 2)\n"
     ]
    }
   ],
   "source": [
    "a = np.asarray(temp_trial[0,:])\n",
    "b = np.asarray(temp_trial[1,:])\n",
    "x = np.vstack((a, b)).T\n",
    "print(x.shape)"
   ]
  },
  {
   "cell_type": "code",
   "execution_count": 57,
   "metadata": {},
   "outputs": [],
   "source": [
    "from nolitsa import dimension # for FNN\n",
    "maxlag = 5 #dimension.fnn(x[0])"
   ]
  },
  {
   "cell_type": "code",
   "execution_count": 58,
   "metadata": {},
   "outputs": [],
   "source": [
    "addconst = True\n",
    "verbose = True"
   ]
  },
  {
   "cell_type": "code",
   "execution_count": 59,
   "metadata": {},
   "outputs": [
    {
     "name": "stdout",
     "output_type": "stream",
     "text": [
      "\n",
      "Granger Causality\n",
      "number of lags (no zero) 1\n",
      "ssr based F test:         F=137.4970, p=0.0000  , df_denom=8060, df_num=1\n",
      "ssr based chi2 test:   chi2=137.5481, p=0.0000  , df=1\n",
      "likelihood ratio test: chi2=136.3881, p=0.0000  , df=1\n",
      "parameter F test:         F=137.4970, p=0.0000  , df_denom=8060, df_num=1\n",
      "\n",
      "Granger Causality\n",
      "number of lags (no zero) 2\n",
      "ssr based F test:         F=311.0022, p=0.0000  , df_denom=8057, df_num=2\n",
      "ssr based chi2 test:   chi2=622.3905, p=0.0000  , df=2\n",
      "likelihood ratio test: chi2=599.5351, p=0.0000  , df=2\n",
      "parameter F test:         F=311.0022, p=0.0000  , df_denom=8057, df_num=2\n",
      "\n",
      "Granger Causality\n",
      "number of lags (no zero) 3\n",
      "ssr based F test:         F=283.9087, p=0.0000  , df_denom=8054, df_num=3\n",
      "ssr based chi2 test:   chi2=852.4664, p=0.0000  , df=3\n",
      "likelihood ratio test: chi2=810.3369, p=0.0000  , df=3\n",
      "parameter F test:         F=283.9087, p=0.0000  , df_denom=8054, df_num=3\n",
      "\n",
      "Granger Causality\n",
      "number of lags (no zero) 4\n",
      "ssr based F test:         F=215.8010, p=0.0000  , df_denom=8051, df_num=4\n",
      "ssr based chi2 test:   chi2=864.1688, p=0.0000  , df=4\n",
      "likelihood ratio test: chi2=820.9081, p=0.0000  , df=4\n",
      "parameter F test:         F=215.8010, p=0.0000  , df_denom=8051, df_num=4\n",
      "\n",
      "Granger Causality\n",
      "number of lags (no zero) 5\n",
      "ssr based F test:         F=131.9068, p=0.0000  , df_denom=8048, df_num=5\n",
      "ssr based chi2 test:   chi2=660.4354, p=0.0000  , df=5\n",
      "likelihood ratio test: chi2=634.7672, p=0.0000  , df=5\n",
      "parameter F test:         F=131.9068, p=0.0000  , df_denom=8048, df_num=5\n",
      "2\n"
     ]
    }
   ],
   "source": [
    "result = stm.grangercausalitytests(x, maxlag, addconst, verbose)\n",
    "optimal_lag = -1\n",
    "F_test = -1.0\n",
    "for key in result.keys():\n",
    "    _F_test_ = result[key][0]['params_ftest'][0]\n",
    "    if _F_test_ > F_test:\n",
    "        F_test = _F_test_\n",
    "        optimal_lag = key"
   ]
  },
  {
   "cell_type": "code",
   "execution_count": 63,
   "metadata": {},
   "outputs": [
    {
     "name": "stdout",
     "output_type": "stream",
     "text": [
      "We are going to look into the GC with Optimal Lag of 2\n"
     ]
    }
   ],
   "source": [
    "print(\"{} {}\".format(\"We are going to look into the GC with Optimal Lag of\", optimal_lag))"
   ]
  },
  {
   "cell_type": "markdown",
   "metadata": {},
   "source": [
    "We consider the p-value of the test as a measure for Granger causality: rejection of ℋ0 (p < 0.03) signifies Granger causality, acceptance means non-causality."
   ]
  },
  {
   "cell_type": "code",
   "execution_count": 65,
   "metadata": {},
   "outputs": [],
   "source": [
    "from statsmodels.tsa.ar_model import AR"
   ]
  },
  {
   "cell_type": "markdown",
   "metadata": {},
   "source": [
    "The causality relations drawn from systems with very small values of |det(ΛˆI)| are not meaningful"
   ]
  },
  {
   "cell_type": "code",
   "execution_count": null,
   "metadata": {},
   "outputs": [],
   "source": []
  }
 ],
 "metadata": {
  "kernelspec": {
   "display_name": "Python 3",
   "language": "python",
   "name": "python3"
  },
  "language_info": {
   "codemirror_mode": {
    "name": "ipython",
    "version": 3
   },
   "file_extension": ".py",
   "mimetype": "text/x-python",
   "name": "python",
   "nbconvert_exporter": "python",
   "pygments_lexer": "ipython3",
   "version": "3.6.8"
  }
 },
 "nbformat": 4,
 "nbformat_minor": 2
}
